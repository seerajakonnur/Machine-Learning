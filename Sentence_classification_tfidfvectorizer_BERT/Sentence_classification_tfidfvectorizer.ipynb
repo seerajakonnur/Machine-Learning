{
 "cells": [
  {
   "cell_type": "markdown",
   "id": "71683708",
   "metadata": {},
   "source": [
    "Here, we classify sentences in PubMed Randomized control trials \n",
    "(RCT) abstracts into 5 categories viz; background, objective, \n",
    "methods, results and conclusions. The data is downloaded from KCL-Health-NLP github repository, \n",
    "and is already divided into train, development and test datasets."
   ]
  },
  {
   "cell_type": "code",
   "execution_count": 1,
   "id": "bbb0d8c4",
   "metadata": {},
   "outputs": [],
   "source": [
    "%matplotlib inline\n",
    "\n",
    "import matplotlib\n",
    "import matplotlib.pyplot as plt\n",
    "\n",
    "import pandas as pd\n",
    "try:\n",
    "    import xlrd\n",
    "except ImportError as e:\n",
    "    !pip install xlrd\n",
    "    import xlrd\n",
    "\n",
    "import numpy as np\n",
    "\n",
    "import warnings; warnings.simplefilter('ignore')"
   ]
  },
  {
   "cell_type": "code",
   "execution_count": 2,
   "id": "33bd8e0b",
   "metadata": {},
   "outputs": [],
   "source": [
    "from sklearn.feature_extraction.text import CountVectorizer\n",
    "from sklearn.feature_extraction.text import TfidfVectorizer"
   ]
  },
  {
   "cell_type": "code",
   "execution_count": 3,
   "id": "7cff3701",
   "metadata": {},
   "outputs": [
    {
     "name": "stderr",
     "output_type": "stream",
     "text": [
      "[nltk_data] Downloading package punkt to C:\\Users\\SEERAJA\n",
      "[nltk_data]     KONNUR\\AppData\\Roaming\\nltk_data...\n",
      "[nltk_data]   Package punkt is already up-to-date!\n",
      "[nltk_data] Downloading package stopwords to C:\\Users\\SEERAJA\n",
      "[nltk_data]     KONNUR\\AppData\\Roaming\\nltk_data...\n",
      "[nltk_data]   Package stopwords is already up-to-date!\n"
     ]
    }
   ],
   "source": [
    "import nltk\n",
    "nltk.download('punkt')\n",
    "nltk.download('stopwords')\n",
    "\n",
    "from nltk.tokenize import word_tokenize\n",
    "from nltk.corpus import stopwords"
   ]
  },
  {
   "cell_type": "code",
   "execution_count": 4,
   "id": "f1dc8988",
   "metadata": {},
   "outputs": [],
   "source": [
    "from sklearn import metrics"
   ]
  },
  {
   "cell_type": "code",
   "execution_count": 5,
   "id": "e4a1f9f0",
   "metadata": {},
   "outputs": [],
   "source": [
    "from sklearn.model_selection import GridSearchCV"
   ]
  },
  {
   "cell_type": "code",
   "execution_count": 6,
   "id": "18f259f5",
   "metadata": {},
   "outputs": [],
   "source": [
    "from sklearn.metrics import accuracy_score"
   ]
  },
  {
   "cell_type": "code",
   "execution_count": 7,
   "id": "c2ceb5b1",
   "metadata": {},
   "outputs": [],
   "source": [
    "from sklearn.ensemble import RandomForestClassifier"
   ]
  },
  {
   "cell_type": "code",
   "execution_count": 8,
   "id": "1fdff67b",
   "metadata": {},
   "outputs": [],
   "source": [
    "from sklearn.tree import DecisionTreeClassifier\n",
    "from sklearn.svm import SVC\n",
    "from sklearn.neighbors import KNeighborsClassifier"
   ]
  },
  {
   "cell_type": "code",
   "execution_count": 181,
   "id": "0568a26a",
   "metadata": {},
   "outputs": [],
   "source": [
    "from sklearn.linear_model import SGDClassifier"
   ]
  },
  {
   "cell_type": "code",
   "execution_count": 160,
   "id": "072897a2",
   "metadata": {},
   "outputs": [],
   "source": [
    "import tensorflow as tf\n",
    "from tensorflow import keras\n",
    "from tensorflow.keras.utils import to_categorical\n",
    "from keras.models import Sequential\n",
    "from keras.layers import Dense\n",
    "from keras.layers import Reshape\n",
    "from keras.layers import BatchNormalization\n",
    "from keras.layers import Dropout"
   ]
  },
  {
   "cell_type": "code",
   "execution_count": 163,
   "id": "cbee6c08",
   "metadata": {},
   "outputs": [],
   "source": [
    "from sklearn.preprocessing import LabelEncoder"
   ]
  },
  {
   "cell_type": "code",
   "execution_count": 204,
   "id": "0d7f88ba",
   "metadata": {},
   "outputs": [],
   "source": [
    "from sklearn.neural_network import MLPClassifier"
   ]
  },
  {
   "cell_type": "code",
   "execution_count": 74,
   "id": "b866d932",
   "metadata": {},
   "outputs": [],
   "source": [
    "from sklearn.metrics import confusion_matrix, plot_confusion_matrix, classification_report\n",
    "import seaborn as sns"
   ]
  },
  {
   "cell_type": "markdown",
   "id": "a5d13233",
   "metadata": {},
   "source": [
    "import dev data as training data because it will be used for hyperparameter tuning "
   ]
  },
  {
   "cell_type": "code",
   "execution_count": 10,
   "id": "bffa816d",
   "metadata": {},
   "outputs": [],
   "source": [
    "training = 'https://raw.githubusercontent.com/KCL-Health-NLP/nlp_examples/master/pubmed/dev.txt'\n",
    "train_data = pd.read_csv(training, sep='\\t', header=None)"
   ]
  },
  {
   "cell_type": "code",
   "execution_count": 11,
   "id": "ca8d94dc",
   "metadata": {},
   "outputs": [],
   "source": [
    "train_data.columns = ['number', 'label', 'text']"
   ]
  },
  {
   "cell_type": "code",
   "execution_count": 12,
   "id": "1914d3fe",
   "metadata": {},
   "outputs": [
    {
     "data": {
      "text/html": [
       "<div>\n",
       "<style scoped>\n",
       "    .dataframe tbody tr th:only-of-type {\n",
       "        vertical-align: middle;\n",
       "    }\n",
       "\n",
       "    .dataframe tbody tr th {\n",
       "        vertical-align: top;\n",
       "    }\n",
       "\n",
       "    .dataframe thead th {\n",
       "        text-align: right;\n",
       "    }\n",
       "</style>\n",
       "<table border=\"1\" class=\"dataframe\">\n",
       "  <thead>\n",
       "    <tr style=\"text-align: right;\">\n",
       "      <th></th>\n",
       "      <th>number</th>\n",
       "      <th>label</th>\n",
       "      <th>text</th>\n",
       "    </tr>\n",
       "  </thead>\n",
       "  <tbody>\n",
       "    <tr>\n",
       "      <th>0</th>\n",
       "      <td>24290286</td>\n",
       "      <td>BACKGROUND</td>\n",
       "      <td>IgE sensitization to Aspergillus fumigatus and...</td>\n",
       "    </tr>\n",
       "    <tr>\n",
       "      <th>1</th>\n",
       "      <td>24290286</td>\n",
       "      <td>BACKGROUND</td>\n",
       "      <td>It is not clear whether these patients would b...</td>\n",
       "    </tr>\n",
       "    <tr>\n",
       "      <th>2</th>\n",
       "      <td>24290286</td>\n",
       "      <td>OBJECTIVE</td>\n",
       "      <td>We sought to determine whether a 3-month cours...</td>\n",
       "    </tr>\n",
       "    <tr>\n",
       "      <th>3</th>\n",
       "      <td>24290286</td>\n",
       "      <td>METHODS</td>\n",
       "      <td>Asthmatic patients who were IgE sensitized to ...</td>\n",
       "    </tr>\n",
       "    <tr>\n",
       "      <th>4</th>\n",
       "      <td>24290286</td>\n",
       "      <td>METHODS</td>\n",
       "      <td>Primary outcomes were improvement in quality o...</td>\n",
       "    </tr>\n",
       "  </tbody>\n",
       "</table>\n",
       "</div>"
      ],
      "text/plain": [
       "     number       label                                               text\n",
       "0  24290286  BACKGROUND  IgE sensitization to Aspergillus fumigatus and...\n",
       "1  24290286  BACKGROUND  It is not clear whether these patients would b...\n",
       "2  24290286   OBJECTIVE  We sought to determine whether a 3-month cours...\n",
       "3  24290286     METHODS  Asthmatic patients who were IgE sensitized to ...\n",
       "4  24290286     METHODS  Primary outcomes were improvement in quality o..."
      ]
     },
     "execution_count": 12,
     "metadata": {},
     "output_type": "execute_result"
    }
   ],
   "source": [
    "train_data.head()"
   ]
  },
  {
   "cell_type": "code",
   "execution_count": 13,
   "id": "830c6911",
   "metadata": {},
   "outputs": [
    {
     "data": {
      "text/plain": [
       "(30212, 3)"
      ]
     },
     "execution_count": 13,
     "metadata": {},
     "output_type": "execute_result"
    }
   ],
   "source": [
    "train_data.shape"
   ]
  },
  {
   "cell_type": "code",
   "execution_count": 14,
   "id": "94bf40c4",
   "metadata": {},
   "outputs": [],
   "source": [
    "# count train labels"
   ]
  },
  {
   "cell_type": "code",
   "execution_count": 15,
   "id": "f6e7c315",
   "metadata": {},
   "outputs": [
    {
     "data": {
      "text/plain": [
       "METHODS        9964\n",
       "RESULTS        9841\n",
       "CONCLUSIONS    4582\n",
       "BACKGROUND     3449\n",
       "OBJECTIVE      2376\n",
       "Name: label, dtype: int64"
      ]
     },
     "execution_count": 15,
     "metadata": {},
     "output_type": "execute_result"
    }
   ],
   "source": [
    "train_data['label'].value_counts()"
   ]
  },
  {
   "cell_type": "markdown",
   "id": "fc8e1011",
   "metadata": {},
   "source": [
    "Please note: The main NLP technique of this code is TF-IDF which is there in this code later after count_vectorizer. Count_vectorizer was only used to compare the performance of the best classifier obtained from TF-IDF. As my laptop crashed, I had to redo few analysis which is why this count_vectorizer is before TF-IDF in this code."
   ]
  },
  {
   "cell_type": "code",
   "execution_count": 16,
   "id": "9bb36841",
   "metadata": {},
   "outputs": [],
   "source": [
    "first_vectorizer = CountVectorizer(ngram_range=(1,1), stop_words='english', tokenizer=word_tokenize, max_features=500)\n",
    "first_vectorizer.fit(train_data['text'])\n",
    "first_fit_transformed_data = first_vectorizer.transform(train_data['text'])"
   ]
  },
  {
   "cell_type": "code",
   "execution_count": 17,
   "id": "110157a8",
   "metadata": {},
   "outputs": [
    {
     "name": "stdout",
     "output_type": "stream",
     "text": [
      "  (0, 9)\t1\n",
      "  (0, 96)\t1\n",
      "  (0, 133)\t1\n",
      "  (0, 340)\t1\n",
      "  (0, 354)\t1\n",
      "  (1, 9)\t1\n",
      "  (1, 101)\t1\n",
      "  (1, 340)\t1\n",
      "  (1, 472)\t1\n",
      "  (2, 9)\t1\n",
      "  (2, 96)\t1\n",
      "  (2, 169)\t1\n",
      "  (2, 248)\t1\n",
      "  (2, 332)\t1\n",
      "  (2, 340)\t1\n",
      "  (3, 7)\t4\n",
      "  (3, 9)\t1\n",
      "  (3, 22)\t1\n",
      "  (3, 28)\t1\n",
      "  (3, 35)\t1\n",
      "  (3, 47)\t1\n",
      "  (3, 157)\t1\n",
      "  (3, 167)\t1\n",
      "  (3, 186)\t1\n",
      "  (3, 216)\t1\n",
      "  :\t:\n",
      "  (30209, 228)\t1\n",
      "  (30209, 326)\t1\n",
      "  (30209, 340)\t1\n",
      "  (30209, 404)\t1\n",
      "  (30209, 485)\t1\n",
      "  (30210, 1)\t1\n",
      "  (30210, 7)\t1\n",
      "  (30210, 9)\t1\n",
      "  (30210, 18)\t1\n",
      "  (30210, 49)\t1\n",
      "  (30210, 131)\t1\n",
      "  (30210, 254)\t1\n",
      "  (30210, 261)\t1\n",
      "  (30210, 340)\t2\n",
      "  (30210, 365)\t1\n",
      "  (30210, 383)\t1\n",
      "  (30210, 406)\t2\n",
      "  (30210, 471)\t1\n",
      "  (30211, 4)\t1\n",
      "  (30211, 5)\t1\n",
      "  (30211, 7)\t1\n",
      "  (30211, 9)\t1\n",
      "  (30211, 51)\t1\n",
      "  (30211, 127)\t1\n",
      "  (30211, 322)\t1\n"
     ]
    }
   ],
   "source": [
    "print(first_fit_transformed_data)"
   ]
  },
  {
   "cell_type": "code",
   "execution_count": 18,
   "id": "55d46c76",
   "metadata": {},
   "outputs": [
    {
     "data": {
      "text/plain": [
       "(30212, 500)"
      ]
     },
     "execution_count": 18,
     "metadata": {},
     "output_type": "execute_result"
    }
   ],
   "source": [
    "first_fit_transformed_data.shape"
   ]
  },
  {
   "cell_type": "markdown",
   "id": "956661ed",
   "metadata": {},
   "source": [
    "Parameters for hyperparameter tuning by grid search cv"
   ]
  },
  {
   "cell_type": "code",
   "execution_count": 19,
   "id": "f74e8bf0",
   "metadata": {},
   "outputs": [],
   "source": [
    "# Decision trees"
   ]
  },
  {
   "cell_type": "code",
   "execution_count": 20,
   "id": "1a2c12c9",
   "metadata": {},
   "outputs": [],
   "source": [
    "params_dt = {'max_depth' : [5,10,15], 'max_features': ['auto', 'sqrt']}"
   ]
  },
  {
   "cell_type": "code",
   "execution_count": 21,
   "id": "b87c15ed",
   "metadata": {},
   "outputs": [],
   "source": [
    "dt = DecisionTreeClassifier(random_state=42)"
   ]
  },
  {
   "cell_type": "code",
   "execution_count": 22,
   "id": "bf34bc4b",
   "metadata": {},
   "outputs": [],
   "source": [
    "dt_1_cv = GridSearchCV(estimator=dt, param_grid=params_dt, cv= 3, scoring='f1_micro')"
   ]
  },
  {
   "cell_type": "code",
   "execution_count": 27,
   "id": "b1bec22a",
   "metadata": {},
   "outputs": [],
   "source": [
    "# random forest"
   ]
  },
  {
   "cell_type": "code",
   "execution_count": 28,
   "id": "e53fd8b7",
   "metadata": {},
   "outputs": [],
   "source": [
    "params = {'n_estimators': [500, 750], 'max_features': ['auto', 'sqrt'], 'max_depth' : [5,10,15] }"
   ]
  },
  {
   "cell_type": "code",
   "execution_count": 29,
   "id": "cdbc7fc8",
   "metadata": {},
   "outputs": [],
   "source": [
    "rf = RandomForestClassifier(random_state=42)"
   ]
  },
  {
   "cell_type": "code",
   "execution_count": 30,
   "id": "e9296051",
   "metadata": {},
   "outputs": [],
   "source": [
    "rf_1_cv = GridSearchCV(estimator=rf, param_grid=params, cv= 3, scoring='f1_micro')"
   ]
  },
  {
   "cell_type": "markdown",
   "id": "ef8e3191",
   "metadata": {},
   "source": [
    "Only for SVM count vectorizer is carried out as it was the best classifier"
   ]
  },
  {
   "cell_type": "code",
   "execution_count": 35,
   "id": "4e18c1f6",
   "metadata": {},
   "outputs": [],
   "source": [
    "# SVM"
   ]
  },
  {
   "cell_type": "code",
   "execution_count": 36,
   "id": "6b4f68af",
   "metadata": {},
   "outputs": [],
   "source": [
    "svm = SVC(random_state = 42)"
   ]
  },
  {
   "cell_type": "code",
   "execution_count": 37,
   "id": "6d477f41",
   "metadata": {},
   "outputs": [],
   "source": [
    "params_svm = {'C': [1, 10], 'gamma': [0.1, 1],'kernel': ['linear','poly','sigmoid','rbf']}"
   ]
  },
  {
   "cell_type": "code",
   "execution_count": 38,
   "id": "3f7b6a71",
   "metadata": {},
   "outputs": [],
   "source": [
    "svm_1_cv = GridSearchCV(estimator=svm, param_grid=params_svm, cv= 3, scoring='f1_micro')"
   ]
  },
  {
   "cell_type": "code",
   "execution_count": 39,
   "id": "48315cc8",
   "metadata": {},
   "outputs": [],
   "source": [
    "svm_1_cv_result = svm_1_cv.fit(first_fit_transformed_data, train_data['label'])"
   ]
  },
  {
   "cell_type": "code",
   "execution_count": 40,
   "id": "a37c94cb",
   "metadata": {},
   "outputs": [],
   "source": [
    "svm_1_cv_result_best_score = svm_1_cv_result.best_score_\n",
    "svm_1_cv_result_best_params = svm_1_cv_result.best_params_\n",
    "svm_1_cv_result_best_model = svm_1_cv_result.best_estimator_"
   ]
  },
  {
   "cell_type": "code",
   "execution_count": 41,
   "id": "d4c420bb",
   "metadata": {},
   "outputs": [
    {
     "data": {
      "text/plain": [
       "0.699622508064309"
      ]
     },
     "execution_count": 41,
     "metadata": {},
     "output_type": "execute_result"
    }
   ],
   "source": [
    "svm_1_cv_result_best_score"
   ]
  },
  {
   "cell_type": "code",
   "execution_count": 42,
   "id": "e7df31c3",
   "metadata": {},
   "outputs": [
    {
     "data": {
      "text/plain": [
       "{'C': 1, 'gamma': 0.1, 'kernel': 'linear'}"
      ]
     },
     "execution_count": 42,
     "metadata": {},
     "output_type": "execute_result"
    }
   ],
   "source": [
    "svm_1_cv_result_best_params"
   ]
  },
  {
   "cell_type": "code",
   "execution_count": 43,
   "id": "ec134328",
   "metadata": {},
   "outputs": [],
   "source": [
    "# knn"
   ]
  },
  {
   "cell_type": "code",
   "execution_count": 44,
   "id": "2776534b",
   "metadata": {},
   "outputs": [],
   "source": [
    "knn = KNeighborsClassifier()\n",
    "params_knn = {'n_neighbors':[3, 4, 5, 6]}\n",
    "knn_1_cv = GridSearchCV(estimator=knn, param_grid=params_knn, cv= 3, scoring='f1_micro')"
   ]
  },
  {
   "cell_type": "code",
   "execution_count": 182,
   "id": "66e47227",
   "metadata": {},
   "outputs": [],
   "source": [
    "sgdc = SGDClassifier(random_state = 42)"
   ]
  },
  {
   "cell_type": "code",
   "execution_count": 183,
   "id": "a5dbdf4f",
   "metadata": {},
   "outputs": [],
   "source": [
    "params_sgdc = {'max_iter':[700, 1000]}"
   ]
  },
  {
   "cell_type": "code",
   "execution_count": 184,
   "id": "db51e9f9",
   "metadata": {},
   "outputs": [],
   "source": [
    "sgdc_1_cv = GridSearchCV(estimator=sgdc, param_grid=params_sgdc, cv= 3, scoring='f1_micro')"
   ]
  },
  {
   "cell_type": "code",
   "execution_count": 197,
   "id": "0a9e2616",
   "metadata": {},
   "outputs": [],
   "source": [
    "# multi layer perceptron"
   ]
  },
  {
   "cell_type": "code",
   "execution_count": 198,
   "id": "8bf5cead",
   "metadata": {},
   "outputs": [],
   "source": [
    "l_encoder = LabelEncoder()\n",
    "l_encoder.fit(train_data['label'])\n",
    "values_encoded = l_encoder.transform(train_data['label'])"
   ]
  },
  {
   "cell_type": "code",
   "execution_count": 201,
   "id": "3c48916e",
   "metadata": {},
   "outputs": [
    {
     "data": {
      "text/plain": [
       "array([0, 0, 3, 2, 2, 4, 4, 4, 4, 1])"
      ]
     },
     "execution_count": 201,
     "metadata": {},
     "output_type": "execute_result"
    }
   ],
   "source": [
    "values_encoded[0:10]"
   ]
  },
  {
   "cell_type": "code",
   "execution_count": 210,
   "id": "f85dfb45",
   "metadata": {},
   "outputs": [],
   "source": [
    "mlp = MLPClassifier(solver='lbfgs', alpha=1e-5, hidden_layer_sizes=(24, ), random_state = 42)"
   ]
  },
  {
   "cell_type": "code",
   "execution_count": 211,
   "id": "5a45565b",
   "metadata": {},
   "outputs": [],
   "source": [
    "params_mlp = {'max_iter':[200, 300]}"
   ]
  },
  {
   "cell_type": "code",
   "execution_count": 212,
   "id": "88165438",
   "metadata": {},
   "outputs": [],
   "source": [
    "mlp_1_cv = GridSearchCV(estimator=mlp, param_grid=params_mlp, cv= 3, scoring='f1_micro')"
   ]
  },
  {
   "cell_type": "code",
   "execution_count": 48,
   "id": "6fdfd729",
   "metadata": {},
   "outputs": [],
   "source": [
    "# after doing hyperparametr tuning on the dev data , now we will use these hyperparametrs and train a bigger model combining \n",
    "#dev and original train data"
   ]
  },
  {
   "cell_type": "code",
   "execution_count": 49,
   "id": "99822f36",
   "metadata": {},
   "outputs": [],
   "source": [
    "# importing train lets call this big train"
   ]
  },
  {
   "cell_type": "code",
   "execution_count": 50,
   "id": "2e2ea5d5",
   "metadata": {},
   "outputs": [],
   "source": [
    "big_train = 'https://raw.githubusercontent.com/KCL-Health-NLP/nlp_examples/master/pubmed/train.txt'\n",
    "big_train_data = pd.read_csv(big_train, sep='\\t', header=None)"
   ]
  },
  {
   "cell_type": "code",
   "execution_count": 51,
   "id": "28921472",
   "metadata": {},
   "outputs": [],
   "source": [
    "big_train_data.columns = ['number', 'label', 'text']"
   ]
  },
  {
   "cell_type": "code",
   "execution_count": 52,
   "id": "66083c22",
   "metadata": {},
   "outputs": [
    {
     "data": {
      "text/html": [
       "<div>\n",
       "<style scoped>\n",
       "    .dataframe tbody tr th:only-of-type {\n",
       "        vertical-align: middle;\n",
       "    }\n",
       "\n",
       "    .dataframe tbody tr th {\n",
       "        vertical-align: top;\n",
       "    }\n",
       "\n",
       "    .dataframe thead th {\n",
       "        text-align: right;\n",
       "    }\n",
       "</style>\n",
       "<table border=\"1\" class=\"dataframe\">\n",
       "  <thead>\n",
       "    <tr style=\"text-align: right;\">\n",
       "      <th></th>\n",
       "      <th>number</th>\n",
       "      <th>label</th>\n",
       "      <th>text</th>\n",
       "    </tr>\n",
       "  </thead>\n",
       "  <tbody>\n",
       "    <tr>\n",
       "      <th>0</th>\n",
       "      <td>24293578</td>\n",
       "      <td>OBJECTIVE</td>\n",
       "      <td>To investigate the efficacy of 6 weeks of dail...</td>\n",
       "    </tr>\n",
       "    <tr>\n",
       "      <th>1</th>\n",
       "      <td>24293578</td>\n",
       "      <td>METHODS</td>\n",
       "      <td>A total of 125 patients with primary knee OA w...</td>\n",
       "    </tr>\n",
       "    <tr>\n",
       "      <th>2</th>\n",
       "      <td>24293578</td>\n",
       "      <td>METHODS</td>\n",
       "      <td>Outcome measures included pain reduction and i...</td>\n",
       "    </tr>\n",
       "    <tr>\n",
       "      <th>3</th>\n",
       "      <td>24293578</td>\n",
       "      <td>METHODS</td>\n",
       "      <td>Pain was assessed using the visual analog pain...</td>\n",
       "    </tr>\n",
       "    <tr>\n",
       "      <th>4</th>\n",
       "      <td>24293578</td>\n",
       "      <td>METHODS</td>\n",
       "      <td>Secondary outcome measures included the Wester...</td>\n",
       "    </tr>\n",
       "  </tbody>\n",
       "</table>\n",
       "</div>"
      ],
      "text/plain": [
       "     number      label                                               text\n",
       "0  24293578  OBJECTIVE  To investigate the efficacy of 6 weeks of dail...\n",
       "1  24293578    METHODS  A total of 125 patients with primary knee OA w...\n",
       "2  24293578    METHODS  Outcome measures included pain reduction and i...\n",
       "3  24293578    METHODS  Pain was assessed using the visual analog pain...\n",
       "4  24293578    METHODS  Secondary outcome measures included the Wester..."
      ]
     },
     "execution_count": 52,
     "metadata": {},
     "output_type": "execute_result"
    }
   ],
   "source": [
    "big_train_data.head()"
   ]
  },
  {
   "cell_type": "code",
   "execution_count": 53,
   "id": "9b69f366",
   "metadata": {},
   "outputs": [],
   "source": [
    "# combine big_train and train"
   ]
  },
  {
   "cell_type": "code",
   "execution_count": 54,
   "id": "8bf0ba2c",
   "metadata": {},
   "outputs": [],
   "source": [
    "concatenated_data = np.concatenate((train_data['text'], big_train_data['text']), axis=0)\n",
    "concatenated_data_label = np.concatenate((train_data['label'], big_train_data['label']), axis=0)"
   ]
  },
  {
   "cell_type": "code",
   "execution_count": 55,
   "id": "fbb215da",
   "metadata": {},
   "outputs": [],
   "source": [
    "new_train_data = pd.DataFrame()\n",
    "new_train_data['label'] = concatenated_data_label\n",
    "new_train_data['text'] = concatenated_data"
   ]
  },
  {
   "cell_type": "code",
   "execution_count": 56,
   "id": "45720b14",
   "metadata": {},
   "outputs": [
    {
     "data": {
      "text/html": [
       "<div>\n",
       "<style scoped>\n",
       "    .dataframe tbody tr th:only-of-type {\n",
       "        vertical-align: middle;\n",
       "    }\n",
       "\n",
       "    .dataframe tbody tr th {\n",
       "        vertical-align: top;\n",
       "    }\n",
       "\n",
       "    .dataframe thead th {\n",
       "        text-align: right;\n",
       "    }\n",
       "</style>\n",
       "<table border=\"1\" class=\"dataframe\">\n",
       "  <thead>\n",
       "    <tr style=\"text-align: right;\">\n",
       "      <th></th>\n",
       "      <th>label</th>\n",
       "      <th>text</th>\n",
       "    </tr>\n",
       "  </thead>\n",
       "  <tbody>\n",
       "    <tr>\n",
       "      <th>0</th>\n",
       "      <td>BACKGROUND</td>\n",
       "      <td>IgE sensitization to Aspergillus fumigatus and...</td>\n",
       "    </tr>\n",
       "    <tr>\n",
       "      <th>1</th>\n",
       "      <td>BACKGROUND</td>\n",
       "      <td>It is not clear whether these patients would b...</td>\n",
       "    </tr>\n",
       "    <tr>\n",
       "      <th>2</th>\n",
       "      <td>OBJECTIVE</td>\n",
       "      <td>We sought to determine whether a 3-month cours...</td>\n",
       "    </tr>\n",
       "    <tr>\n",
       "      <th>3</th>\n",
       "      <td>METHODS</td>\n",
       "      <td>Asthmatic patients who were IgE sensitized to ...</td>\n",
       "    </tr>\n",
       "    <tr>\n",
       "      <th>4</th>\n",
       "      <td>METHODS</td>\n",
       "      <td>Primary outcomes were improvement in quality o...</td>\n",
       "    </tr>\n",
       "  </tbody>\n",
       "</table>\n",
       "</div>"
      ],
      "text/plain": [
       "        label                                               text\n",
       "0  BACKGROUND  IgE sensitization to Aspergillus fumigatus and...\n",
       "1  BACKGROUND  It is not clear whether these patients would b...\n",
       "2   OBJECTIVE  We sought to determine whether a 3-month cours...\n",
       "3     METHODS  Asthmatic patients who were IgE sensitized to ...\n",
       "4     METHODS  Primary outcomes were improvement in quality o..."
      ]
     },
     "execution_count": 56,
     "metadata": {},
     "output_type": "execute_result"
    }
   ],
   "source": [
    "new_train_data.head()"
   ]
  },
  {
   "cell_type": "code",
   "execution_count": 57,
   "id": "9fca42cc",
   "metadata": {},
   "outputs": [
    {
     "data": {
      "text/html": [
       "<div>\n",
       "<style scoped>\n",
       "    .dataframe tbody tr th:only-of-type {\n",
       "        vertical-align: middle;\n",
       "    }\n",
       "\n",
       "    .dataframe tbody tr th {\n",
       "        vertical-align: top;\n",
       "    }\n",
       "\n",
       "    .dataframe thead th {\n",
       "        text-align: right;\n",
       "    }\n",
       "</style>\n",
       "<table border=\"1\" class=\"dataframe\">\n",
       "  <thead>\n",
       "    <tr style=\"text-align: right;\">\n",
       "      <th></th>\n",
       "      <th>label</th>\n",
       "      <th>text</th>\n",
       "    </tr>\n",
       "  </thead>\n",
       "  <tbody>\n",
       "    <tr>\n",
       "      <th>210247</th>\n",
       "      <td>RESULTS</td>\n",
       "      <td>For the absolute change in percent atheroma vo...</td>\n",
       "    </tr>\n",
       "    <tr>\n",
       "      <th>210248</th>\n",
       "      <td>RESULTS</td>\n",
       "      <td>For PAV , a significantly greater percentage o...</td>\n",
       "    </tr>\n",
       "    <tr>\n",
       "      <th>210249</th>\n",
       "      <td>RESULTS</td>\n",
       "      <td>Both strategies had acceptable side effect pro...</td>\n",
       "    </tr>\n",
       "    <tr>\n",
       "      <th>210250</th>\n",
       "      <td>CONCLUSIONS</td>\n",
       "      <td>Compared with standard statin monotherapy , th...</td>\n",
       "    </tr>\n",
       "    <tr>\n",
       "      <th>210251</th>\n",
       "      <td>CONCLUSIONS</td>\n",
       "      <td>( Plaque Regression With Cholesterol Absorptio...</td>\n",
       "    </tr>\n",
       "  </tbody>\n",
       "</table>\n",
       "</div>"
      ],
      "text/plain": [
       "              label                                               text\n",
       "210247      RESULTS  For the absolute change in percent atheroma vo...\n",
       "210248      RESULTS  For PAV , a significantly greater percentage o...\n",
       "210249      RESULTS  Both strategies had acceptable side effect pro...\n",
       "210250  CONCLUSIONS  Compared with standard statin monotherapy , th...\n",
       "210251  CONCLUSIONS  ( Plaque Regression With Cholesterol Absorptio..."
      ]
     },
     "execution_count": 57,
     "metadata": {},
     "output_type": "execute_result"
    }
   ],
   "source": [
    "new_train_data.tail()"
   ]
  },
  {
   "cell_type": "code",
   "execution_count": 58,
   "id": "28f49178",
   "metadata": {},
   "outputs": [
    {
     "data": {
      "text/plain": [
       "(210252, 2)"
      ]
     },
     "execution_count": 58,
     "metadata": {},
     "output_type": "execute_result"
    }
   ],
   "source": [
    "new_train_data.shape"
   ]
  },
  {
   "cell_type": "code",
   "execution_count": 257,
   "id": "2b8a994a",
   "metadata": {},
   "outputs": [],
   "source": [
    "# only for SVM"
   ]
  },
  {
   "cell_type": "code",
   "execution_count": 59,
   "id": "79cc3808",
   "metadata": {},
   "outputs": [],
   "source": [
    "first_vectorizer_new = CountVectorizer(ngram_range=(1,1), stop_words='english', tokenizer=word_tokenize, max_features=500)\n",
    "first_vectorizer_new.fit(new_train_data['text'])\n",
    "first_fit_transformed_data_new = first_vectorizer_new.transform(new_train_data['text'])"
   ]
  },
  {
   "cell_type": "code",
   "execution_count": 60,
   "id": "89c9cfdf",
   "metadata": {},
   "outputs": [
    {
     "name": "stdout",
     "output_type": "stream",
     "text": [
      "  (0, 8)\t1\n",
      "  (0, 95)\t1\n",
      "  (0, 131)\t1\n",
      "  (0, 335)\t1\n",
      "  (0, 350)\t1\n",
      "  (1, 8)\t1\n",
      "  (1, 100)\t1\n",
      "  (1, 335)\t1\n",
      "  (1, 471)\t1\n",
      "  (2, 8)\t1\n",
      "  (2, 95)\t1\n",
      "  (2, 167)\t1\n",
      "  (2, 242)\t1\n",
      "  (2, 328)\t1\n",
      "  (2, 335)\t1\n",
      "  (3, 6)\t4\n",
      "  (3, 8)\t1\n",
      "  (3, 21)\t1\n",
      "  (3, 27)\t1\n",
      "  (3, 33)\t1\n",
      "  (3, 46)\t1\n",
      "  (3, 155)\t1\n",
      "  (3, 166)\t1\n",
      "  (3, 183)\t1\n",
      "  (3, 213)\t1\n",
      "  :\t:\n",
      "  (210249, 6)\t1\n",
      "  (210249, 8)\t1\n",
      "  (210249, 112)\t1\n",
      "  (210249, 188)\t1\n",
      "  (210249, 200)\t1\n",
      "  (210249, 246)\t1\n",
      "  (210249, 280)\t1\n",
      "  (210250, 6)\t2\n",
      "  (210250, 8)\t1\n",
      "  (210250, 129)\t1\n",
      "  (210250, 134)\t1\n",
      "  (210250, 151)\t1\n",
      "  (210250, 223)\t1\n",
      "  (210250, 346)\t1\n",
      "  (210250, 392)\t1\n",
      "  (210250, 424)\t1\n",
      "  (210250, 437)\t1\n",
      "  (210251, 3)\t1\n",
      "  (210251, 4)\t1\n",
      "  (210251, 8)\t1\n",
      "  (210251, 50)\t1\n",
      "  (210251, 54)\t1\n",
      "  (210251, 55)\t1\n",
      "  (210251, 198)\t1\n",
      "  (210251, 392)\t1\n"
     ]
    }
   ],
   "source": [
    "print(first_fit_transformed_data_new)"
   ]
  },
  {
   "cell_type": "code",
   "execution_count": 61,
   "id": "f8b93156",
   "metadata": {},
   "outputs": [],
   "source": [
    "# test data"
   ]
  },
  {
   "cell_type": "code",
   "execution_count": 62,
   "id": "a20db625",
   "metadata": {},
   "outputs": [],
   "source": [
    "test = 'https://raw.githubusercontent.com/KCL-Health-NLP/nlp_examples/master/pubmed/test.txt'\n",
    "test_data = pd.read_csv(test, sep='\\t', header=None)"
   ]
  },
  {
   "cell_type": "code",
   "execution_count": 63,
   "id": "a878d0c3",
   "metadata": {},
   "outputs": [],
   "source": [
    "test_data.columns = ['number', 'label', 'text']"
   ]
  },
  {
   "cell_type": "code",
   "execution_count": 64,
   "id": "a0379b40",
   "metadata": {},
   "outputs": [
    {
     "data": {
      "text/html": [
       "<div>\n",
       "<style scoped>\n",
       "    .dataframe tbody tr th:only-of-type {\n",
       "        vertical-align: middle;\n",
       "    }\n",
       "\n",
       "    .dataframe tbody tr th {\n",
       "        vertical-align: top;\n",
       "    }\n",
       "\n",
       "    .dataframe thead th {\n",
       "        text-align: right;\n",
       "    }\n",
       "</style>\n",
       "<table border=\"1\" class=\"dataframe\">\n",
       "  <thead>\n",
       "    <tr style=\"text-align: right;\">\n",
       "      <th></th>\n",
       "      <th>number</th>\n",
       "      <th>label</th>\n",
       "      <th>text</th>\n",
       "    </tr>\n",
       "  </thead>\n",
       "  <tbody>\n",
       "    <tr>\n",
       "      <th>0</th>\n",
       "      <td>24845963</td>\n",
       "      <td>BACKGROUND</td>\n",
       "      <td>This study analyzed liver function abnormaliti...</td>\n",
       "    </tr>\n",
       "    <tr>\n",
       "      <th>1</th>\n",
       "      <td>24845963</td>\n",
       "      <td>RESULTS</td>\n",
       "      <td>A post hoc analysis was conducted with the use...</td>\n",
       "    </tr>\n",
       "    <tr>\n",
       "      <th>2</th>\n",
       "      <td>24845963</td>\n",
       "      <td>RESULTS</td>\n",
       "      <td>Liver function tests ( LFTs ) were measured at...</td>\n",
       "    </tr>\n",
       "    <tr>\n",
       "      <th>3</th>\n",
       "      <td>24845963</td>\n",
       "      <td>RESULTS</td>\n",
       "      <td>Survival analyses were used to assess the asso...</td>\n",
       "    </tr>\n",
       "    <tr>\n",
       "      <th>4</th>\n",
       "      <td>24845963</td>\n",
       "      <td>RESULTS</td>\n",
       "      <td>The percentage of patients with abnormal LFTs ...</td>\n",
       "    </tr>\n",
       "  </tbody>\n",
       "</table>\n",
       "</div>"
      ],
      "text/plain": [
       "     number       label                                               text\n",
       "0  24845963  BACKGROUND  This study analyzed liver function abnormaliti...\n",
       "1  24845963     RESULTS  A post hoc analysis was conducted with the use...\n",
       "2  24845963     RESULTS  Liver function tests ( LFTs ) were measured at...\n",
       "3  24845963     RESULTS  Survival analyses were used to assess the asso...\n",
       "4  24845963     RESULTS  The percentage of patients with abnormal LFTs ..."
      ]
     },
     "execution_count": 64,
     "metadata": {},
     "output_type": "execute_result"
    }
   ],
   "source": [
    "test_data.head()"
   ]
  },
  {
   "cell_type": "code",
   "execution_count": 65,
   "id": "14c7a33c",
   "metadata": {},
   "outputs": [
    {
     "data": {
      "text/plain": [
       "(30135, 3)"
      ]
     },
     "execution_count": 65,
     "metadata": {},
     "output_type": "execute_result"
    }
   ],
   "source": [
    "test_data.shape"
   ]
  },
  {
   "cell_type": "code",
   "execution_count": 70,
   "id": "5ba3e098",
   "metadata": {},
   "outputs": [],
   "source": [
    "#transorm the test data"
   ]
  },
  {
   "cell_type": "code",
   "execution_count": 71,
   "id": "fb312f0a",
   "metadata": {},
   "outputs": [],
   "source": [
    "test_data_first_transformed = first_vectorizer_new.transform(test_data['text'])"
   ]
  },
  {
   "cell_type": "code",
   "execution_count": 72,
   "id": "bbfab286",
   "metadata": {},
   "outputs": [
    {
     "name": "stdout",
     "output_type": "stream",
     "text": [
      "  (0, 3)\t1\n",
      "  (0, 4)\t1\n",
      "  (0, 8)\t1\n",
      "  (0, 63)\t1\n",
      "  (0, 80)\t1\n",
      "  (0, 210)\t2\n",
      "  (0, 216)\t1\n",
      "  (0, 230)\t2\n",
      "  (0, 335)\t1\n",
      "  (0, 422)\t1\n",
      "  (0, 446)\t1\n",
      "  (1, 3)\t1\n",
      "  (1, 4)\t1\n",
      "  (1, 8)\t1\n",
      "  (1, 79)\t1\n",
      "  (1, 88)\t1\n",
      "  (1, 143)\t1\n",
      "  (1, 156)\t1\n",
      "  (1, 190)\t1\n",
      "  (1, 199)\t1\n",
      "  (1, 210)\t1\n",
      "  (1, 230)\t1\n",
      "  (1, 370)\t1\n",
      "  (1, 446)\t1\n",
      "  (1, 479)\t1\n",
      "  :\t:\n",
      "  (30131, 487)\t1\n",
      "  (30131, 494)\t1\n",
      "  (30132, 8)\t1\n",
      "  (30132, 41)\t1\n",
      "  (30132, 94)\t1\n",
      "  (30132, 225)\t1\n",
      "  (30132, 411)\t1\n",
      "  (30132, 426)\t1\n",
      "  (30132, 471)\t1\n",
      "  (30132, 494)\t1\n",
      "  (30133, 8)\t1\n",
      "  (30133, 71)\t1\n",
      "  (30133, 191)\t1\n",
      "  (30133, 397)\t1\n",
      "  (30134, 6)\t3\n",
      "  (30134, 8)\t1\n",
      "  (30134, 98)\t1\n",
      "  (30134, 134)\t1\n",
      "  (30134, 157)\t1\n",
      "  (30134, 173)\t1\n",
      "  (30134, 243)\t1\n",
      "  (30134, 253)\t1\n",
      "  (30134, 362)\t1\n",
      "  (30134, 414)\t1\n",
      "  (30134, 487)\t1\n"
     ]
    }
   ],
   "source": [
    "print(test_data_first_transformed)"
   ]
  },
  {
   "cell_type": "code",
   "execution_count": 81,
   "id": "72820c38",
   "metadata": {},
   "outputs": [],
   "source": [
    "#svm"
   ]
  },
  {
   "cell_type": "code",
   "execution_count": 82,
   "id": "ec4e493f",
   "metadata": {},
   "outputs": [],
   "source": [
    "svm_1_new = SVC(C = 1, gamma = 0.1, kernel = 'linear', random_state = 42)"
   ]
  },
  {
   "cell_type": "code",
   "execution_count": 83,
   "id": "676b5428",
   "metadata": {},
   "outputs": [
    {
     "data": {
      "text/html": [
       "<style>#sk-container-id-3 {color: black;background-color: white;}#sk-container-id-3 pre{padding: 0;}#sk-container-id-3 div.sk-toggleable {background-color: white;}#sk-container-id-3 label.sk-toggleable__label {cursor: pointer;display: block;width: 100%;margin-bottom: 0;padding: 0.3em;box-sizing: border-box;text-align: center;}#sk-container-id-3 label.sk-toggleable__label-arrow:before {content: \"▸\";float: left;margin-right: 0.25em;color: #696969;}#sk-container-id-3 label.sk-toggleable__label-arrow:hover:before {color: black;}#sk-container-id-3 div.sk-estimator:hover label.sk-toggleable__label-arrow:before {color: black;}#sk-container-id-3 div.sk-toggleable__content {max-height: 0;max-width: 0;overflow: hidden;text-align: left;background-color: #f0f8ff;}#sk-container-id-3 div.sk-toggleable__content pre {margin: 0.2em;color: black;border-radius: 0.25em;background-color: #f0f8ff;}#sk-container-id-3 input.sk-toggleable__control:checked~div.sk-toggleable__content {max-height: 200px;max-width: 100%;overflow: auto;}#sk-container-id-3 input.sk-toggleable__control:checked~label.sk-toggleable__label-arrow:before {content: \"▾\";}#sk-container-id-3 div.sk-estimator input.sk-toggleable__control:checked~label.sk-toggleable__label {background-color: #d4ebff;}#sk-container-id-3 div.sk-label input.sk-toggleable__control:checked~label.sk-toggleable__label {background-color: #d4ebff;}#sk-container-id-3 input.sk-hidden--visually {border: 0;clip: rect(1px 1px 1px 1px);clip: rect(1px, 1px, 1px, 1px);height: 1px;margin: -1px;overflow: hidden;padding: 0;position: absolute;width: 1px;}#sk-container-id-3 div.sk-estimator {font-family: monospace;background-color: #f0f8ff;border: 1px dotted black;border-radius: 0.25em;box-sizing: border-box;margin-bottom: 0.5em;}#sk-container-id-3 div.sk-estimator:hover {background-color: #d4ebff;}#sk-container-id-3 div.sk-parallel-item::after {content: \"\";width: 100%;border-bottom: 1px solid gray;flex-grow: 1;}#sk-container-id-3 div.sk-label:hover label.sk-toggleable__label {background-color: #d4ebff;}#sk-container-id-3 div.sk-serial::before {content: \"\";position: absolute;border-left: 1px solid gray;box-sizing: border-box;top: 0;bottom: 0;left: 50%;z-index: 0;}#sk-container-id-3 div.sk-serial {display: flex;flex-direction: column;align-items: center;background-color: white;padding-right: 0.2em;padding-left: 0.2em;position: relative;}#sk-container-id-3 div.sk-item {position: relative;z-index: 1;}#sk-container-id-3 div.sk-parallel {display: flex;align-items: stretch;justify-content: center;background-color: white;position: relative;}#sk-container-id-3 div.sk-item::before, #sk-container-id-3 div.sk-parallel-item::before {content: \"\";position: absolute;border-left: 1px solid gray;box-sizing: border-box;top: 0;bottom: 0;left: 50%;z-index: -1;}#sk-container-id-3 div.sk-parallel-item {display: flex;flex-direction: column;z-index: 1;position: relative;background-color: white;}#sk-container-id-3 div.sk-parallel-item:first-child::after {align-self: flex-end;width: 50%;}#sk-container-id-3 div.sk-parallel-item:last-child::after {align-self: flex-start;width: 50%;}#sk-container-id-3 div.sk-parallel-item:only-child::after {width: 0;}#sk-container-id-3 div.sk-dashed-wrapped {border: 1px dashed gray;margin: 0 0.4em 0.5em 0.4em;box-sizing: border-box;padding-bottom: 0.4em;background-color: white;}#sk-container-id-3 div.sk-label label {font-family: monospace;font-weight: bold;display: inline-block;line-height: 1.2em;}#sk-container-id-3 div.sk-label-container {text-align: center;}#sk-container-id-3 div.sk-container {/* jupyter's `normalize.less` sets `[hidden] { display: none; }` but bootstrap.min.css set `[hidden] { display: none !important; }` so we also need the `!important` here to be able to override the default hidden behavior on the sphinx rendered scikit-learn.org. See: https://github.com/scikit-learn/scikit-learn/issues/21755 */display: inline-block !important;position: relative;}#sk-container-id-3 div.sk-text-repr-fallback {display: none;}</style><div id=\"sk-container-id-3\" class=\"sk-top-container\"><div class=\"sk-text-repr-fallback\"><pre>SVC(C=1, gamma=0.1, kernel=&#x27;linear&#x27;, random_state=42)</pre><b>In a Jupyter environment, please rerun this cell to show the HTML representation or trust the notebook. <br />On GitHub, the HTML representation is unable to render, please try loading this page with nbviewer.org.</b></div><div class=\"sk-container\" hidden><div class=\"sk-item\"><div class=\"sk-estimator sk-toggleable\"><input class=\"sk-toggleable__control sk-hidden--visually\" id=\"sk-estimator-id-3\" type=\"checkbox\" checked><label for=\"sk-estimator-id-3\" class=\"sk-toggleable__label sk-toggleable__label-arrow\">SVC</label><div class=\"sk-toggleable__content\"><pre>SVC(C=1, gamma=0.1, kernel=&#x27;linear&#x27;, random_state=42)</pre></div></div></div></div></div>"
      ],
      "text/plain": [
       "SVC(C=1, gamma=0.1, kernel='linear', random_state=42)"
      ]
     },
     "execution_count": 83,
     "metadata": {},
     "output_type": "execute_result"
    }
   ],
   "source": [
    "svm_1_new.fit(first_fit_transformed_data_new, new_train_data['label'])"
   ]
  },
  {
   "cell_type": "code",
   "execution_count": 84,
   "id": "9bc05a5e",
   "metadata": {},
   "outputs": [],
   "source": [
    "svm_1_prediction = svm_1_new.predict(test_data_first_transformed)"
   ]
  },
  {
   "cell_type": "code",
   "execution_count": 85,
   "id": "d8da42e4",
   "metadata": {},
   "outputs": [
    {
     "name": "stdout",
     "output_type": "stream",
     "text": [
      "[[1728  865  576  368   84]\n",
      " [ 539 2843  566   92  531]\n",
      " [ 456  295 8465  125  556]\n",
      " [ 637  282  345 1009   60]\n",
      " [ 226  669 1434    7 7377]]\n"
     ]
    }
   ],
   "source": [
    "cm_1_svm = confusion_matrix(test_data['label'], svm_1_prediction)\n",
    "print(cm_1_svm)"
   ]
  },
  {
   "cell_type": "code",
   "execution_count": 86,
   "id": "71950637",
   "metadata": {},
   "outputs": [
    {
     "data": {
      "text/plain": [
       "<AxesSubplot:>"
      ]
     },
     "execution_count": 86,
     "metadata": {},
     "output_type": "execute_result"
    },
    {
     "data": {
      "image/png": "[encoded data removed]",
      "text/plain": [
       "<Figure size 432x288 with 2 Axes>"
      ]
     },
     "metadata": {
      "needs_background": "light"
     },
     "output_type": "display_data"
    }
   ],
   "source": [
    "sns.heatmap(cm_1_svm, annot=True)"
   ]
  },
  {
   "cell_type": "code",
   "execution_count": 87,
   "id": "0d04e8a4",
   "metadata": {},
   "outputs": [
    {
     "name": "stdout",
     "output_type": "stream",
     "text": [
      "              precision    recall  f1-score   support\n",
      "\n",
      "  BACKGROUND       0.48      0.48      0.48      3621\n",
      " CONCLUSIONS       0.57      0.62      0.60      4571\n",
      "     METHODS       0.74      0.86      0.80      9897\n",
      "   OBJECTIVE       0.63      0.43      0.51      2333\n",
      "     RESULTS       0.86      0.76      0.81      9713\n",
      "\n",
      "    accuracy                           0.71     30135\n",
      "   macro avg       0.66      0.63      0.64     30135\n",
      "weighted avg       0.71      0.71      0.71     30135\n",
      "\n"
     ]
    }
   ],
   "source": [
    "classification_report_1_svm = classification_report(test_data['label'], svm_1_prediction)\n",
    "print(classification_report_1_svm)"
   ]
  },
  {
   "cell_type": "markdown",
   "id": "fe93ef9f",
   "metadata": {},
   "source": [
    "# TFIDF vectorizer"
   ]
  },
  {
   "cell_type": "code",
   "execution_count": 99,
   "id": "4060dc6c",
   "metadata": {},
   "outputs": [],
   "source": [
    "stopWords = set(stopwords.words('english'))\n",
    "tfidf_vect = TfidfVectorizer(ngram_range=(1,1), tokenizer=word_tokenize, stop_words=stopWords, max_features=500)\n",
    "tfidf_vect.fit(train_data['text'])\n",
    "second_fit_transformed_data =  tfidf_vect.transform(train_data['text'])"
   ]
  },
  {
   "cell_type": "code",
   "execution_count": 100,
   "id": "8d530e46",
   "metadata": {},
   "outputs": [
    {
     "data": {
      "text/plain": [
       "(30212, 500)"
      ]
     },
     "execution_count": 100,
     "metadata": {},
     "output_type": "execute_result"
    }
   ],
   "source": [
    "second_fit_transformed_data.shape"
   ]
  },
  {
   "cell_type": "code",
   "execution_count": 101,
   "id": "1e27f4cd",
   "metadata": {},
   "outputs": [],
   "source": [
    "dt_2_cv_result = dt_1_cv.fit(second_fit_transformed_data, train_data['label'])"
   ]
  },
  {
   "cell_type": "code",
   "execution_count": 102,
   "id": "dd052674",
   "metadata": {},
   "outputs": [],
   "source": [
    "dt_2_cv_result_best_score = dt_2_cv_result.best_score_\n",
    "dt_2_cv_result_best_params = dt_2_cv_result.best_params_\n",
    "dt_2_cv_result_best_model = dt_2_cv_result.best_estimator_"
   ]
  },
  {
   "cell_type": "code",
   "execution_count": 103,
   "id": "5f80932a",
   "metadata": {},
   "outputs": [
    {
     "data": {
      "text/plain": [
       "0.5041367035524111"
      ]
     },
     "execution_count": 103,
     "metadata": {},
     "output_type": "execute_result"
    }
   ],
   "source": [
    "dt_2_cv_result_best_score"
   ]
  },
  {
   "cell_type": "code",
   "execution_count": 104,
   "id": "28e2a4c1",
   "metadata": {},
   "outputs": [
    {
     "data": {
      "text/plain": [
       "{'max_depth': 15, 'max_features': 'auto'}"
      ]
     },
     "execution_count": 104,
     "metadata": {},
     "output_type": "execute_result"
    }
   ],
   "source": [
    "dt_2_cv_result_best_params"
   ]
  },
  {
   "cell_type": "code",
   "execution_count": 105,
   "id": "769af9cd",
   "metadata": {},
   "outputs": [],
   "source": [
    "# random forest"
   ]
  },
  {
   "cell_type": "code",
   "execution_count": 106,
   "id": "ec2b4de0",
   "metadata": {},
   "outputs": [],
   "source": [
    "rf_2_cv_result = rf_1_cv.fit(second_fit_transformed_data, train_data['label'])"
   ]
  },
  {
   "cell_type": "code",
   "execution_count": 107,
   "id": "44b55888",
   "metadata": {},
   "outputs": [],
   "source": [
    "rf_2_cv_result_best_score = rf_2_cv_result.best_score_\n",
    "rf_2_cv_result_best_params = rf_2_cv_result.best_params_\n",
    "rf_2_cv_result_best_model = rf_2_cv_result.best_estimator_"
   ]
  },
  {
   "cell_type": "code",
   "execution_count": 108,
   "id": "2d4bf943",
   "metadata": {},
   "outputs": [
    {
     "data": {
      "text/plain": [
       "0.5963192219057994"
      ]
     },
     "execution_count": 108,
     "metadata": {},
     "output_type": "execute_result"
    }
   ],
   "source": [
    "rf_2_cv_result_best_score"
   ]
  },
  {
   "cell_type": "code",
   "execution_count": 109,
   "id": "8bbf9ced",
   "metadata": {},
   "outputs": [
    {
     "data": {
      "text/plain": [
       "{'max_depth': 15, 'max_features': 'auto', 'n_estimators': 750}"
      ]
     },
     "execution_count": 109,
     "metadata": {},
     "output_type": "execute_result"
    }
   ],
   "source": [
    "rf_2_cv_result_best_params"
   ]
  },
  {
   "cell_type": "code",
   "execution_count": 110,
   "id": "3892619f",
   "metadata": {},
   "outputs": [],
   "source": [
    "# svm"
   ]
  },
  {
   "cell_type": "code",
   "execution_count": 111,
   "id": "8398014a",
   "metadata": {},
   "outputs": [],
   "source": [
    "svm_2_cv_result = svm_1_cv.fit(second_fit_transformed_data, train_data['label'])"
   ]
  },
  {
   "cell_type": "code",
   "execution_count": 112,
   "id": "976ecf2c",
   "metadata": {},
   "outputs": [],
   "source": [
    "svm_2_cv_result_best_score = svm_2_cv_result.best_score_\n",
    "svm_2_cv_result_best_params = svm_2_cv_result.best_params_\n",
    "svm_2_cv_result_best_model = svm_2_cv_result.best_estimator_"
   ]
  },
  {
   "cell_type": "code",
   "execution_count": 113,
   "id": "9f5be506",
   "metadata": {},
   "outputs": [
    {
     "data": {
      "text/plain": [
       "0.7245463005445186"
      ]
     },
     "execution_count": 113,
     "metadata": {},
     "output_type": "execute_result"
    }
   ],
   "source": [
    "svm_2_cv_result_best_score"
   ]
  },
  {
   "cell_type": "code",
   "execution_count": 114,
   "id": "443bf390",
   "metadata": {},
   "outputs": [
    {
     "data": {
      "text/plain": [
       "{'C': 1, 'gamma': 1, 'kernel': 'rbf'}"
      ]
     },
     "execution_count": 114,
     "metadata": {},
     "output_type": "execute_result"
    }
   ],
   "source": [
    "svm_2_cv_result_best_params"
   ]
  },
  {
   "cell_type": "code",
   "execution_count": 115,
   "id": "719a08a9",
   "metadata": {},
   "outputs": [],
   "source": [
    "# knn"
   ]
  },
  {
   "cell_type": "code",
   "execution_count": 116,
   "id": "54c48b44",
   "metadata": {},
   "outputs": [],
   "source": [
    "knn_2_cv_result = knn_1_cv.fit(second_fit_transformed_data, train_data['label'])"
   ]
  },
  {
   "cell_type": "code",
   "execution_count": 148,
   "id": "d149a2c4",
   "metadata": {},
   "outputs": [],
   "source": [
    "knn_2_cv_result_best_score = knn_2_cv_result.best_score_\n",
    "knn_2_cv_result_best_params = knn_2_cv_result.best_params_\n",
    "knn_2_cv_result_best_model = knn_2_cv_result.best_estimator_"
   ]
  },
  {
   "cell_type": "code",
   "execution_count": 152,
   "id": "e5d1f917",
   "metadata": {},
   "outputs": [
    {
     "data": {
      "text/plain": [
       "0.5533559000214662"
      ]
     },
     "execution_count": 152,
     "metadata": {},
     "output_type": "execute_result"
    }
   ],
   "source": [
    "knn_2_cv_result_best_score"
   ]
  },
  {
   "cell_type": "code",
   "execution_count": 155,
   "id": "64a84881",
   "metadata": {},
   "outputs": [
    {
     "data": {
      "text/plain": [
       "{'n_neighbors': 6}"
      ]
     },
     "execution_count": 155,
     "metadata": {},
     "output_type": "execute_result"
    }
   ],
   "source": [
    "knn_2_cv_result_best_params"
   ]
  },
  {
   "cell_type": "code",
   "execution_count": 185,
   "id": "c97d0fdd",
   "metadata": {},
   "outputs": [],
   "source": [
    "sgdc_2_cv_result = sgdc_1_cv.fit(second_fit_transformed_data, train_data['label'])"
   ]
  },
  {
   "cell_type": "code",
   "execution_count": 186,
   "id": "0dc8fa36",
   "metadata": {},
   "outputs": [],
   "source": [
    "sgdc_2_cv_result_best_score = sgdc_2_cv_result.best_score_\n",
    "sgdc_2_cv_result_best_params = sgdc_2_cv_result.best_params_\n",
    "sgdc_2_cv_result_best_model = sgdc_2_cv_result.best_estimator_"
   ]
  },
  {
   "cell_type": "code",
   "execution_count": 187,
   "id": "eba45486",
   "metadata": {},
   "outputs": [
    {
     "data": {
      "text/plain": [
       "0.7003507108796003"
      ]
     },
     "execution_count": 187,
     "metadata": {},
     "output_type": "execute_result"
    }
   ],
   "source": [
    "sgdc_2_cv_result_best_score"
   ]
  },
  {
   "cell_type": "code",
   "execution_count": 188,
   "id": "fcc4cb4b",
   "metadata": {},
   "outputs": [
    {
     "data": {
      "text/plain": [
       "{'max_iter': 700}"
      ]
     },
     "execution_count": 188,
     "metadata": {},
     "output_type": "execute_result"
    }
   ],
   "source": [
    "sgdc_2_cv_result_best_params"
   ]
  },
  {
   "cell_type": "code",
   "execution_count": 209,
   "id": "c09d9edc",
   "metadata": {},
   "outputs": [],
   "source": [
    "# MLP "
   ]
  },
  {
   "cell_type": "code",
   "execution_count": 224,
   "id": "8c04cd8b",
   "metadata": {},
   "outputs": [],
   "source": [
    "mlp_2_cv_result = mlp_1_cv.fit(second_fit_transformed_data, values_encoded)"
   ]
  },
  {
   "cell_type": "code",
   "execution_count": 225,
   "id": "71df4db1",
   "metadata": {},
   "outputs": [],
   "source": [
    "mlp_2_cv_result_best_score = mlp_2_cv_result.best_score_\n",
    "mlp_2_cv_result_best_params = mlp_2_cv_result.best_params_\n",
    "mlp_2_cv_result_best_model = mlp_2_cv_result.best_estimator_"
   ]
  },
  {
   "cell_type": "code",
   "execution_count": 226,
   "id": "ca067ad2",
   "metadata": {},
   "outputs": [
    {
     "data": {
      "text/plain": [
       "0.6969081323332574"
      ]
     },
     "execution_count": 226,
     "metadata": {},
     "output_type": "execute_result"
    }
   ],
   "source": [
    "mlp_2_cv_result_best_score"
   ]
  },
  {
   "cell_type": "code",
   "execution_count": 227,
   "id": "c9ffc5ed",
   "metadata": {},
   "outputs": [
    {
     "data": {
      "text/plain": [
       "{'max_iter': 200}"
      ]
     },
     "execution_count": 227,
     "metadata": {},
     "output_type": "execute_result"
    }
   ],
   "source": [
    "mlp_2_cv_result_best_params"
   ]
  },
  {
   "cell_type": "code",
   "execution_count": null,
   "id": "ba732cfb",
   "metadata": {},
   "outputs": [],
   "source": [
    "# running on big train data"
   ]
  },
  {
   "cell_type": "code",
   "execution_count": 120,
   "id": "f9dbc38e",
   "metadata": {},
   "outputs": [],
   "source": [
    "stopWords = set(stopwords.words('english'))\n",
    "tfidf_vect_new = TfidfVectorizer(ngram_range=(1,1), tokenizer=word_tokenize, stop_words=stopWords, max_features=500)\n",
    "tfidf_vect_new.fit(new_train_data['text'])\n",
    "second_fit_transformed_data_new =  tfidf_vect_new.transform(new_train_data['text'])"
   ]
  },
  {
   "cell_type": "code",
   "execution_count": 121,
   "id": "3083aef3",
   "metadata": {},
   "outputs": [],
   "source": [
    "# transform test data with second (TFIDF vect)"
   ]
  },
  {
   "cell_type": "code",
   "execution_count": 122,
   "id": "0c55ff0c",
   "metadata": {},
   "outputs": [],
   "source": [
    "test_data_second_transformed = tfidf_vect_new.transform(test_data['text'])"
   ]
  },
  {
   "cell_type": "code",
   "execution_count": 123,
   "id": "446de44d",
   "metadata": {},
   "outputs": [],
   "source": [
    "# decision trees"
   ]
  },
  {
   "cell_type": "code",
   "execution_count": 124,
   "id": "cf3d3b23",
   "metadata": {},
   "outputs": [],
   "source": [
    "dt_2_new = DecisionTreeClassifier(max_depth = 15, max_features= 'auto', random_state = 42)"
   ]
  },
  {
   "cell_type": "code",
   "execution_count": 125,
   "id": "c0209ada",
   "metadata": {},
   "outputs": [
    {
     "data": {
      "text/html": [
       "<style>#sk-container-id-5 {color: black;background-color: white;}#sk-container-id-5 pre{padding: 0;}#sk-container-id-5 div.sk-toggleable {background-color: white;}#sk-container-id-5 label.sk-toggleable__label {cursor: pointer;display: block;width: 100%;margin-bottom: 0;padding: 0.3em;box-sizing: border-box;text-align: center;}#sk-container-id-5 label.sk-toggleable__label-arrow:before {content: \"▸\";float: left;margin-right: 0.25em;color: #696969;}#sk-container-id-5 label.sk-toggleable__label-arrow:hover:before {color: black;}#sk-container-id-5 div.sk-estimator:hover label.sk-toggleable__label-arrow:before {color: black;}#sk-container-id-5 div.sk-toggleable__content {max-height: 0;max-width: 0;overflow: hidden;text-align: left;background-color: #f0f8ff;}#sk-container-id-5 div.sk-toggleable__content pre {margin: 0.2em;color: black;border-radius: 0.25em;background-color: #f0f8ff;}#sk-container-id-5 input.sk-toggleable__control:checked~div.sk-toggleable__content {max-height: 200px;max-width: 100%;overflow: auto;}#sk-container-id-5 input.sk-toggleable__control:checked~label.sk-toggleable__label-arrow:before {content: \"▾\";}#sk-container-id-5 div.sk-estimator input.sk-toggleable__control:checked~label.sk-toggleable__label {background-color: #d4ebff;}#sk-container-id-5 div.sk-label input.sk-toggleable__control:checked~label.sk-toggleable__label {background-color: #d4ebff;}#sk-container-id-5 input.sk-hidden--visually {border: 0;clip: rect(1px 1px 1px 1px);clip: rect(1px, 1px, 1px, 1px);height: 1px;margin: -1px;overflow: hidden;padding: 0;position: absolute;width: 1px;}#sk-container-id-5 div.sk-estimator {font-family: monospace;background-color: #f0f8ff;border: 1px dotted black;border-radius: 0.25em;box-sizing: border-box;margin-bottom: 0.5em;}#sk-container-id-5 div.sk-estimator:hover {background-color: #d4ebff;}#sk-container-id-5 div.sk-parallel-item::after {content: \"\";width: 100%;border-bottom: 1px solid gray;flex-grow: 1;}#sk-container-id-5 div.sk-label:hover label.sk-toggleable__label {background-color: #d4ebff;}#sk-container-id-5 div.sk-serial::before {content: \"\";position: absolute;border-left: 1px solid gray;box-sizing: border-box;top: 0;bottom: 0;left: 50%;z-index: 0;}#sk-container-id-5 div.sk-serial {display: flex;flex-direction: column;align-items: center;background-color: white;padding-right: 0.2em;padding-left: 0.2em;position: relative;}#sk-container-id-5 div.sk-item {position: relative;z-index: 1;}#sk-container-id-5 div.sk-parallel {display: flex;align-items: stretch;justify-content: center;background-color: white;position: relative;}#sk-container-id-5 div.sk-item::before, #sk-container-id-5 div.sk-parallel-item::before {content: \"\";position: absolute;border-left: 1px solid gray;box-sizing: border-box;top: 0;bottom: 0;left: 50%;z-index: -1;}#sk-container-id-5 div.sk-parallel-item {display: flex;flex-direction: column;z-index: 1;position: relative;background-color: white;}#sk-container-id-5 div.sk-parallel-item:first-child::after {align-self: flex-end;width: 50%;}#sk-container-id-5 div.sk-parallel-item:last-child::after {align-self: flex-start;width: 50%;}#sk-container-id-5 div.sk-parallel-item:only-child::after {width: 0;}#sk-container-id-5 div.sk-dashed-wrapped {border: 1px dashed gray;margin: 0 0.4em 0.5em 0.4em;box-sizing: border-box;padding-bottom: 0.4em;background-color: white;}#sk-container-id-5 div.sk-label label {font-family: monospace;font-weight: bold;display: inline-block;line-height: 1.2em;}#sk-container-id-5 div.sk-label-container {text-align: center;}#sk-container-id-5 div.sk-container {/* jupyter's `normalize.less` sets `[hidden] { display: none; }` but bootstrap.min.css set `[hidden] { display: none !important; }` so we also need the `!important` here to be able to override the default hidden behavior on the sphinx rendered scikit-learn.org. See: https://github.com/scikit-learn/scikit-learn/issues/21755 */display: inline-block !important;position: relative;}#sk-container-id-5 div.sk-text-repr-fallback {display: none;}</style><div id=\"sk-container-id-5\" class=\"sk-top-container\"><div class=\"sk-text-repr-fallback\"><pre>DecisionTreeClassifier(max_depth=15, max_features=&#x27;auto&#x27;, random_state=42)</pre><b>In a Jupyter environment, please rerun this cell to show the HTML representation or trust the notebook. <br />On GitHub, the HTML representation is unable to render, please try loading this page with nbviewer.org.</b></div><div class=\"sk-container\" hidden><div class=\"sk-item\"><div class=\"sk-estimator sk-toggleable\"><input class=\"sk-toggleable__control sk-hidden--visually\" id=\"sk-estimator-id-5\" type=\"checkbox\" checked><label for=\"sk-estimator-id-5\" class=\"sk-toggleable__label sk-toggleable__label-arrow\">DecisionTreeClassifier</label><div class=\"sk-toggleable__content\"><pre>DecisionTreeClassifier(max_depth=15, max_features=&#x27;auto&#x27;, random_state=42)</pre></div></div></div></div></div>"
      ],
      "text/plain": [
       "DecisionTreeClassifier(max_depth=15, max_features='auto', random_state=42)"
      ]
     },
     "execution_count": 125,
     "metadata": {},
     "output_type": "execute_result"
    }
   ],
   "source": [
    "dt_2_new.fit(second_fit_transformed_data_new, new_train_data['label'])"
   ]
  },
  {
   "cell_type": "code",
   "execution_count": 126,
   "id": "b7696cd7",
   "metadata": {},
   "outputs": [],
   "source": [
    "dt_2_prediction = dt_2_new.predict(test_data_second_transformed)"
   ]
  },
  {
   "cell_type": "code",
   "execution_count": 127,
   "id": "75e94c75",
   "metadata": {},
   "outputs": [
    {
     "name": "stdout",
     "output_type": "stream",
     "text": [
      "[[ 234  139 3116   65   67]\n",
      " [  54  443 3847   10  217]\n",
      " [  25   22 9551   37  262]\n",
      " [  51   50 1914  273   45]\n",
      " [  14   46 4682    6 4965]]\n"
     ]
    }
   ],
   "source": [
    "cm_2_dt = confusion_matrix(test_data['label'], dt_2_prediction)\n",
    "print(cm_2_dt)"
   ]
  },
  {
   "cell_type": "code",
   "execution_count": 128,
   "id": "55ea9541",
   "metadata": {},
   "outputs": [
    {
     "data": {
      "text/plain": [
       "<AxesSubplot:>"
      ]
     },
     "execution_count": 128,
     "metadata": {},
     "output_type": "execute_result"
    },
    {
     "data": {
      "image/png": "[encoded data removed]",
      "text/plain": [
       "<Figure size 432x288 with 2 Axes>"
      ]
     },
     "metadata": {
      "needs_background": "light"
     },
     "output_type": "display_data"
    }
   ],
   "source": [
    "sns.heatmap(cm_2_dt, annot=True)"
   ]
  },
  {
   "cell_type": "code",
   "execution_count": 135,
   "id": "0b87bba2",
   "metadata": {},
   "outputs": [
    {
     "name": "stdout",
     "output_type": "stream",
     "text": [
      "              precision    recall  f1-score   support\n",
      "\n",
      "  BACKGROUND       0.62      0.06      0.12      3621\n",
      " CONCLUSIONS       0.63      0.10      0.17      4571\n",
      "     METHODS       0.41      0.97      0.58      9897\n",
      "   OBJECTIVE       0.70      0.12      0.20      2333\n",
      "     RESULTS       0.89      0.51      0.65      9713\n",
      "\n",
      "    accuracy                           0.51     30135\n",
      "   macro avg       0.65      0.35      0.34     30135\n",
      "weighted avg       0.65      0.51      0.45     30135\n",
      "\n"
     ]
    }
   ],
   "source": [
    "classification_report_2_dt = classification_report(test_data['label'], dt_2_prediction)\n",
    "print(classification_report_2_dt)"
   ]
  },
  {
   "cell_type": "code",
   "execution_count": 129,
   "id": "c13f88e6",
   "metadata": {},
   "outputs": [],
   "source": [
    "# random forest"
   ]
  },
  {
   "cell_type": "code",
   "execution_count": 130,
   "id": "06652de7",
   "metadata": {},
   "outputs": [],
   "source": [
    "rf_2_new = RandomForestClassifier(n_estimators = 750, max_depth = 15, max_features = 'auto', random_state=42)"
   ]
  },
  {
   "cell_type": "code",
   "execution_count": 131,
   "id": "47b0c1f8",
   "metadata": {},
   "outputs": [
    {
     "data": {
      "text/html": [
       "<style>#sk-container-id-6 {color: black;background-color: white;}#sk-container-id-6 pre{padding: 0;}#sk-container-id-6 div.sk-toggleable {background-color: white;}#sk-container-id-6 label.sk-toggleable__label {cursor: pointer;display: block;width: 100%;margin-bottom: 0;padding: 0.3em;box-sizing: border-box;text-align: center;}#sk-container-id-6 label.sk-toggleable__label-arrow:before {content: \"▸\";float: left;margin-right: 0.25em;color: #696969;}#sk-container-id-6 label.sk-toggleable__label-arrow:hover:before {color: black;}#sk-container-id-6 div.sk-estimator:hover label.sk-toggleable__label-arrow:before {color: black;}#sk-container-id-6 div.sk-toggleable__content {max-height: 0;max-width: 0;overflow: hidden;text-align: left;background-color: #f0f8ff;}#sk-container-id-6 div.sk-toggleable__content pre {margin: 0.2em;color: black;border-radius: 0.25em;background-color: #f0f8ff;}#sk-container-id-6 input.sk-toggleable__control:checked~div.sk-toggleable__content {max-height: 200px;max-width: 100%;overflow: auto;}#sk-container-id-6 input.sk-toggleable__control:checked~label.sk-toggleable__label-arrow:before {content: \"▾\";}#sk-container-id-6 div.sk-estimator input.sk-toggleable__control:checked~label.sk-toggleable__label {background-color: #d4ebff;}#sk-container-id-6 div.sk-label input.sk-toggleable__control:checked~label.sk-toggleable__label {background-color: #d4ebff;}#sk-container-id-6 input.sk-hidden--visually {border: 0;clip: rect(1px 1px 1px 1px);clip: rect(1px, 1px, 1px, 1px);height: 1px;margin: -1px;overflow: hidden;padding: 0;position: absolute;width: 1px;}#sk-container-id-6 div.sk-estimator {font-family: monospace;background-color: #f0f8ff;border: 1px dotted black;border-radius: 0.25em;box-sizing: border-box;margin-bottom: 0.5em;}#sk-container-id-6 div.sk-estimator:hover {background-color: #d4ebff;}#sk-container-id-6 div.sk-parallel-item::after {content: \"\";width: 100%;border-bottom: 1px solid gray;flex-grow: 1;}#sk-container-id-6 div.sk-label:hover label.sk-toggleable__label {background-color: #d4ebff;}#sk-container-id-6 div.sk-serial::before {content: \"\";position: absolute;border-left: 1px solid gray;box-sizing: border-box;top: 0;bottom: 0;left: 50%;z-index: 0;}#sk-container-id-6 div.sk-serial {display: flex;flex-direction: column;align-items: center;background-color: white;padding-right: 0.2em;padding-left: 0.2em;position: relative;}#sk-container-id-6 div.sk-item {position: relative;z-index: 1;}#sk-container-id-6 div.sk-parallel {display: flex;align-items: stretch;justify-content: center;background-color: white;position: relative;}#sk-container-id-6 div.sk-item::before, #sk-container-id-6 div.sk-parallel-item::before {content: \"\";position: absolute;border-left: 1px solid gray;box-sizing: border-box;top: 0;bottom: 0;left: 50%;z-index: -1;}#sk-container-id-6 div.sk-parallel-item {display: flex;flex-direction: column;z-index: 1;position: relative;background-color: white;}#sk-container-id-6 div.sk-parallel-item:first-child::after {align-self: flex-end;width: 50%;}#sk-container-id-6 div.sk-parallel-item:last-child::after {align-self: flex-start;width: 50%;}#sk-container-id-6 div.sk-parallel-item:only-child::after {width: 0;}#sk-container-id-6 div.sk-dashed-wrapped {border: 1px dashed gray;margin: 0 0.4em 0.5em 0.4em;box-sizing: border-box;padding-bottom: 0.4em;background-color: white;}#sk-container-id-6 div.sk-label label {font-family: monospace;font-weight: bold;display: inline-block;line-height: 1.2em;}#sk-container-id-6 div.sk-label-container {text-align: center;}#sk-container-id-6 div.sk-container {/* jupyter's `normalize.less` sets `[hidden] { display: none; }` but bootstrap.min.css set `[hidden] { display: none !important; }` so we also need the `!important` here to be able to override the default hidden behavior on the sphinx rendered scikit-learn.org. See: https://github.com/scikit-learn/scikit-learn/issues/21755 */display: inline-block !important;position: relative;}#sk-container-id-6 div.sk-text-repr-fallback {display: none;}</style><div id=\"sk-container-id-6\" class=\"sk-top-container\"><div class=\"sk-text-repr-fallback\"><pre>RandomForestClassifier(max_depth=15, max_features=&#x27;auto&#x27;, n_estimators=750,\n",
       "                       random_state=42)</pre><b>In a Jupyter environment, please rerun this cell to show the HTML representation or trust the notebook. <br />On GitHub, the HTML representation is unable to render, please try loading this page with nbviewer.org.</b></div><div class=\"sk-container\" hidden><div class=\"sk-item\"><div class=\"sk-estimator sk-toggleable\"><input class=\"sk-toggleable__control sk-hidden--visually\" id=\"sk-estimator-id-6\" type=\"checkbox\" checked><label for=\"sk-estimator-id-6\" class=\"sk-toggleable__label sk-toggleable__label-arrow\">RandomForestClassifier</label><div class=\"sk-toggleable__content\"><pre>RandomForestClassifier(max_depth=15, max_features=&#x27;auto&#x27;, n_estimators=750,\n",
       "                       random_state=42)</pre></div></div></div></div></div>"
      ],
      "text/plain": [
       "RandomForestClassifier(max_depth=15, max_features='auto', n_estimators=750,\n",
       "                       random_state=42)"
      ]
     },
     "execution_count": 131,
     "metadata": {},
     "output_type": "execute_result"
    }
   ],
   "source": [
    "rf_2_new.fit(second_fit_transformed_data_new, new_train_data['label'])"
   ]
  },
  {
   "cell_type": "code",
   "execution_count": 132,
   "id": "1c2f0125",
   "metadata": {},
   "outputs": [],
   "source": [
    "rf_2_prediction = rf_2_new.predict(test_data_second_transformed)"
   ]
  },
  {
   "cell_type": "code",
   "execution_count": 133,
   "id": "e1ec1948",
   "metadata": {},
   "outputs": [
    {
     "name": "stdout",
     "output_type": "stream",
     "text": [
      "[[ 244  258 2922   84  113]\n",
      " [  21 1087 2946    1  516]\n",
      " [   4   32 9453    7  401]\n",
      " [  19   99 1817  318   80]\n",
      " [   1   88 2921    0 6703]]\n"
     ]
    }
   ],
   "source": [
    "cm_2_rf = confusion_matrix(test_data['label'], rf_2_prediction)\n",
    "print(cm_2_rf)"
   ]
  },
  {
   "cell_type": "code",
   "execution_count": 134,
   "id": "22a31cc5",
   "metadata": {},
   "outputs": [
    {
     "data": {
      "text/plain": [
       "<AxesSubplot:>"
      ]
     },
     "execution_count": 134,
     "metadata": {},
     "output_type": "execute_result"
    },
    {
     "data": {
      "image/png": "[encoded data removed]",
      "text/plain": [
       "<Figure size 432x288 with 2 Axes>"
      ]
     },
     "metadata": {
      "needs_background": "light"
     },
     "output_type": "display_data"
    }
   ],
   "source": [
    "sns.heatmap(cm_2_rf, annot=True)"
   ]
  },
  {
   "cell_type": "code",
   "execution_count": 136,
   "id": "a1a65882",
   "metadata": {},
   "outputs": [
    {
     "name": "stdout",
     "output_type": "stream",
     "text": [
      "              precision    recall  f1-score   support\n",
      "\n",
      "  BACKGROUND       0.84      0.07      0.12      3621\n",
      " CONCLUSIONS       0.70      0.24      0.35      4571\n",
      "     METHODS       0.47      0.96      0.63      9897\n",
      "   OBJECTIVE       0.78      0.14      0.23      2333\n",
      "     RESULTS       0.86      0.69      0.76      9713\n",
      "\n",
      "    accuracy                           0.59     30135\n",
      "   macro avg       0.73      0.42      0.42     30135\n",
      "weighted avg       0.70      0.59      0.54     30135\n",
      "\n"
     ]
    }
   ],
   "source": [
    "classification_report_2_rf = classification_report(test_data['label'], rf_2_prediction)\n",
    "print(classification_report_2_rf)"
   ]
  },
  {
   "cell_type": "code",
   "execution_count": 137,
   "id": "bf3f23ce",
   "metadata": {},
   "outputs": [],
   "source": [
    "# svm"
   ]
  },
  {
   "cell_type": "code",
   "execution_count": 138,
   "id": "ac507ea7",
   "metadata": {},
   "outputs": [],
   "source": [
    "svm_2_new = SVC(C = 1, gamma = 1, kernel = 'rbf', random_state = 42)"
   ]
  },
  {
   "cell_type": "code",
   "execution_count": 139,
   "id": "1f63570b",
   "metadata": {},
   "outputs": [
    {
     "data": {
      "text/html": [
       "<style>#sk-container-id-7 {color: black;background-color: white;}#sk-container-id-7 pre{padding: 0;}#sk-container-id-7 div.sk-toggleable {background-color: white;}#sk-container-id-7 label.sk-toggleable__label {cursor: pointer;display: block;width: 100%;margin-bottom: 0;padding: 0.3em;box-sizing: border-box;text-align: center;}#sk-container-id-7 label.sk-toggleable__label-arrow:before {content: \"▸\";float: left;margin-right: 0.25em;color: #696969;}#sk-container-id-7 label.sk-toggleable__label-arrow:hover:before {color: black;}#sk-container-id-7 div.sk-estimator:hover label.sk-toggleable__label-arrow:before {color: black;}#sk-container-id-7 div.sk-toggleable__content {max-height: 0;max-width: 0;overflow: hidden;text-align: left;background-color: #f0f8ff;}#sk-container-id-7 div.sk-toggleable__content pre {margin: 0.2em;color: black;border-radius: 0.25em;background-color: #f0f8ff;}#sk-container-id-7 input.sk-toggleable__control:checked~div.sk-toggleable__content {max-height: 200px;max-width: 100%;overflow: auto;}#sk-container-id-7 input.sk-toggleable__control:checked~label.sk-toggleable__label-arrow:before {content: \"▾\";}#sk-container-id-7 div.sk-estimator input.sk-toggleable__control:checked~label.sk-toggleable__label {background-color: #d4ebff;}#sk-container-id-7 div.sk-label input.sk-toggleable__control:checked~label.sk-toggleable__label {background-color: #d4ebff;}#sk-container-id-7 input.sk-hidden--visually {border: 0;clip: rect(1px 1px 1px 1px);clip: rect(1px, 1px, 1px, 1px);height: 1px;margin: -1px;overflow: hidden;padding: 0;position: absolute;width: 1px;}#sk-container-id-7 div.sk-estimator {font-family: monospace;background-color: #f0f8ff;border: 1px dotted black;border-radius: 0.25em;box-sizing: border-box;margin-bottom: 0.5em;}#sk-container-id-7 div.sk-estimator:hover {background-color: #d4ebff;}#sk-container-id-7 div.sk-parallel-item::after {content: \"\";width: 100%;border-bottom: 1px solid gray;flex-grow: 1;}#sk-container-id-7 div.sk-label:hover label.sk-toggleable__label {background-color: #d4ebff;}#sk-container-id-7 div.sk-serial::before {content: \"\";position: absolute;border-left: 1px solid gray;box-sizing: border-box;top: 0;bottom: 0;left: 50%;z-index: 0;}#sk-container-id-7 div.sk-serial {display: flex;flex-direction: column;align-items: center;background-color: white;padding-right: 0.2em;padding-left: 0.2em;position: relative;}#sk-container-id-7 div.sk-item {position: relative;z-index: 1;}#sk-container-id-7 div.sk-parallel {display: flex;align-items: stretch;justify-content: center;background-color: white;position: relative;}#sk-container-id-7 div.sk-item::before, #sk-container-id-7 div.sk-parallel-item::before {content: \"\";position: absolute;border-left: 1px solid gray;box-sizing: border-box;top: 0;bottom: 0;left: 50%;z-index: -1;}#sk-container-id-7 div.sk-parallel-item {display: flex;flex-direction: column;z-index: 1;position: relative;background-color: white;}#sk-container-id-7 div.sk-parallel-item:first-child::after {align-self: flex-end;width: 50%;}#sk-container-id-7 div.sk-parallel-item:last-child::after {align-self: flex-start;width: 50%;}#sk-container-id-7 div.sk-parallel-item:only-child::after {width: 0;}#sk-container-id-7 div.sk-dashed-wrapped {border: 1px dashed gray;margin: 0 0.4em 0.5em 0.4em;box-sizing: border-box;padding-bottom: 0.4em;background-color: white;}#sk-container-id-7 div.sk-label label {font-family: monospace;font-weight: bold;display: inline-block;line-height: 1.2em;}#sk-container-id-7 div.sk-label-container {text-align: center;}#sk-container-id-7 div.sk-container {/* jupyter's `normalize.less` sets `[hidden] { display: none; }` but bootstrap.min.css set `[hidden] { display: none !important; }` so we also need the `!important` here to be able to override the default hidden behavior on the sphinx rendered scikit-learn.org. See: https://github.com/scikit-learn/scikit-learn/issues/21755 */display: inline-block !important;position: relative;}#sk-container-id-7 div.sk-text-repr-fallback {display: none;}</style><div id=\"sk-container-id-7\" class=\"sk-top-container\"><div class=\"sk-text-repr-fallback\"><pre>SVC(C=1, gamma=1, random_state=42)</pre><b>In a Jupyter environment, please rerun this cell to show the HTML representation or trust the notebook. <br />On GitHub, the HTML representation is unable to render, please try loading this page with nbviewer.org.</b></div><div class=\"sk-container\" hidden><div class=\"sk-item\"><div class=\"sk-estimator sk-toggleable\"><input class=\"sk-toggleable__control sk-hidden--visually\" id=\"sk-estimator-id-7\" type=\"checkbox\" checked><label for=\"sk-estimator-id-7\" class=\"sk-toggleable__label sk-toggleable__label-arrow\">SVC</label><div class=\"sk-toggleable__content\"><pre>SVC(C=1, gamma=1, random_state=42)</pre></div></div></div></div></div>"
      ],
      "text/plain": [
       "SVC(C=1, gamma=1, random_state=42)"
      ]
     },
     "execution_count": 139,
     "metadata": {},
     "output_type": "execute_result"
    }
   ],
   "source": [
    "svm_2_new.fit(second_fit_transformed_data_new, new_train_data['label'])"
   ]
  },
  {
   "cell_type": "code",
   "execution_count": 140,
   "id": "fdb99cea",
   "metadata": {},
   "outputs": [],
   "source": [
    "svm_2_prediction = svm_2_new.predict(test_data_second_transformed)"
   ]
  },
  {
   "cell_type": "code",
   "execution_count": 141,
   "id": "b24374a7",
   "metadata": {},
   "outputs": [
    {
     "name": "stdout",
     "output_type": "stream",
     "text": [
      "[[1936  787  445  347  106]\n",
      " [ 448 3055  440   64  564]\n",
      " [ 326  250 8664  103  554]\n",
      " [ 617  296  298 1057   65]\n",
      " [ 185  584 1137    6 7801]]\n"
     ]
    }
   ],
   "source": [
    "cm_2_svm = confusion_matrix(test_data['label'], svm_2_prediction)\n",
    "print(cm_2_svm)"
   ]
  },
  {
   "cell_type": "code",
   "execution_count": 142,
   "id": "15888850",
   "metadata": {},
   "outputs": [
    {
     "data": {
      "text/plain": [
       "<AxesSubplot:>"
      ]
     },
     "execution_count": 142,
     "metadata": {},
     "output_type": "execute_result"
    },
    {
     "data": {
      "image/png": "[encoded data removed]",
      "text/plain": [
       "<Figure size 432x288 with 2 Axes>"
      ]
     },
     "metadata": {
      "needs_background": "light"
     },
     "output_type": "display_data"
    }
   ],
   "source": [
    "sns.heatmap(cm_2_svm, annot=True)"
   ]
  },
  {
   "cell_type": "code",
   "execution_count": 143,
   "id": "10ddc903",
   "metadata": {},
   "outputs": [
    {
     "name": "stdout",
     "output_type": "stream",
     "text": [
      "              precision    recall  f1-score   support\n",
      "\n",
      "  BACKGROUND       0.55      0.53      0.54      3621\n",
      " CONCLUSIONS       0.61      0.67      0.64      4571\n",
      "     METHODS       0.79      0.88      0.83      9897\n",
      "   OBJECTIVE       0.67      0.45      0.54      2333\n",
      "     RESULTS       0.86      0.80      0.83      9713\n",
      "\n",
      "    accuracy                           0.75     30135\n",
      "   macro avg       0.70      0.67      0.68     30135\n",
      "weighted avg       0.75      0.75      0.74     30135\n",
      "\n"
     ]
    }
   ],
   "source": [
    "classification_report_2_svm = classification_report(test_data['label'], svm_2_prediction)\n",
    "print(classification_report_2_svm)"
   ]
  },
  {
   "cell_type": "code",
   "execution_count": 196,
   "id": "6aeee2f0",
   "metadata": {},
   "outputs": [],
   "source": [
    "# knn"
   ]
  },
  {
   "cell_type": "code",
   "execution_count": 237,
   "id": "00b6a9cb",
   "metadata": {},
   "outputs": [],
   "source": [
    "knn_2_new = KNeighborsClassifier(n_neighbors=6)"
   ]
  },
  {
   "cell_type": "code",
   "execution_count": 238,
   "id": "a8e89dbb",
   "metadata": {},
   "outputs": [
    {
     "data": {
      "text/html": [
       "<style>#sk-container-id-11 {color: black;background-color: white;}#sk-container-id-11 pre{padding: 0;}#sk-container-id-11 div.sk-toggleable {background-color: white;}#sk-container-id-11 label.sk-toggleable__label {cursor: pointer;display: block;width: 100%;margin-bottom: 0;padding: 0.3em;box-sizing: border-box;text-align: center;}#sk-container-id-11 label.sk-toggleable__label-arrow:before {content: \"▸\";float: left;margin-right: 0.25em;color: #696969;}#sk-container-id-11 label.sk-toggleable__label-arrow:hover:before {color: black;}#sk-container-id-11 div.sk-estimator:hover label.sk-toggleable__label-arrow:before {color: black;}#sk-container-id-11 div.sk-toggleable__content {max-height: 0;max-width: 0;overflow: hidden;text-align: left;background-color: #f0f8ff;}#sk-container-id-11 div.sk-toggleable__content pre {margin: 0.2em;color: black;border-radius: 0.25em;background-color: #f0f8ff;}#sk-container-id-11 input.sk-toggleable__control:checked~div.sk-toggleable__content {max-height: 200px;max-width: 100%;overflow: auto;}#sk-container-id-11 input.sk-toggleable__control:checked~label.sk-toggleable__label-arrow:before {content: \"▾\";}#sk-container-id-11 div.sk-estimator input.sk-toggleable__control:checked~label.sk-toggleable__label {background-color: #d4ebff;}#sk-container-id-11 div.sk-label input.sk-toggleable__control:checked~label.sk-toggleable__label {background-color: #d4ebff;}#sk-container-id-11 input.sk-hidden--visually {border: 0;clip: rect(1px 1px 1px 1px);clip: rect(1px, 1px, 1px, 1px);height: 1px;margin: -1px;overflow: hidden;padding: 0;position: absolute;width: 1px;}#sk-container-id-11 div.sk-estimator {font-family: monospace;background-color: #f0f8ff;border: 1px dotted black;border-radius: 0.25em;box-sizing: border-box;margin-bottom: 0.5em;}#sk-container-id-11 div.sk-estimator:hover {background-color: #d4ebff;}#sk-container-id-11 div.sk-parallel-item::after {content: \"\";width: 100%;border-bottom: 1px solid gray;flex-grow: 1;}#sk-container-id-11 div.sk-label:hover label.sk-toggleable__label {background-color: #d4ebff;}#sk-container-id-11 div.sk-serial::before {content: \"\";position: absolute;border-left: 1px solid gray;box-sizing: border-box;top: 0;bottom: 0;left: 50%;z-index: 0;}#sk-container-id-11 div.sk-serial {display: flex;flex-direction: column;align-items: center;background-color: white;padding-right: 0.2em;padding-left: 0.2em;position: relative;}#sk-container-id-11 div.sk-item {position: relative;z-index: 1;}#sk-container-id-11 div.sk-parallel {display: flex;align-items: stretch;justify-content: center;background-color: white;position: relative;}#sk-container-id-11 div.sk-item::before, #sk-container-id-11 div.sk-parallel-item::before {content: \"\";position: absolute;border-left: 1px solid gray;box-sizing: border-box;top: 0;bottom: 0;left: 50%;z-index: -1;}#sk-container-id-11 div.sk-parallel-item {display: flex;flex-direction: column;z-index: 1;position: relative;background-color: white;}#sk-container-id-11 div.sk-parallel-item:first-child::after {align-self: flex-end;width: 50%;}#sk-container-id-11 div.sk-parallel-item:last-child::after {align-self: flex-start;width: 50%;}#sk-container-id-11 div.sk-parallel-item:only-child::after {width: 0;}#sk-container-id-11 div.sk-dashed-wrapped {border: 1px dashed gray;margin: 0 0.4em 0.5em 0.4em;box-sizing: border-box;padding-bottom: 0.4em;background-color: white;}#sk-container-id-11 div.sk-label label {font-family: monospace;font-weight: bold;display: inline-block;line-height: 1.2em;}#sk-container-id-11 div.sk-label-container {text-align: center;}#sk-container-id-11 div.sk-container {/* jupyter's `normalize.less` sets `[hidden] { display: none; }` but bootstrap.min.css set `[hidden] { display: none !important; }` so we also need the `!important` here to be able to override the default hidden behavior on the sphinx rendered scikit-learn.org. See: https://github.com/scikit-learn/scikit-learn/issues/21755 */display: inline-block !important;position: relative;}#sk-container-id-11 div.sk-text-repr-fallback {display: none;}</style><div id=\"sk-container-id-11\" class=\"sk-top-container\"><div class=\"sk-text-repr-fallback\"><pre>KNeighborsClassifier(n_neighbors=6)</pre><b>In a Jupyter environment, please rerun this cell to show the HTML representation or trust the notebook. <br />On GitHub, the HTML representation is unable to render, please try loading this page with nbviewer.org.</b></div><div class=\"sk-container\" hidden><div class=\"sk-item\"><div class=\"sk-estimator sk-toggleable\"><input class=\"sk-toggleable__control sk-hidden--visually\" id=\"sk-estimator-id-11\" type=\"checkbox\" checked><label for=\"sk-estimator-id-11\" class=\"sk-toggleable__label sk-toggleable__label-arrow\">KNeighborsClassifier</label><div class=\"sk-toggleable__content\"><pre>KNeighborsClassifier(n_neighbors=6)</pre></div></div></div></div></div>"
      ],
      "text/plain": [
       "KNeighborsClassifier(n_neighbors=6)"
      ]
     },
     "execution_count": 238,
     "metadata": {},
     "output_type": "execute_result"
    }
   ],
   "source": [
    "knn_2_new.fit(second_fit_transformed_data_new, new_train_data['label'])"
   ]
  },
  {
   "cell_type": "code",
   "execution_count": 239,
   "id": "8b25bb17",
   "metadata": {},
   "outputs": [],
   "source": [
    "knn_2_prediction = knn_2_new.predict(test_data_second_transformed)"
   ]
  },
  {
   "cell_type": "code",
   "execution_count": 240,
   "id": "20265510",
   "metadata": {},
   "outputs": [
    {
     "name": "stdout",
     "output_type": "stream",
     "text": [
      "[[1999  639  565  251  167]\n",
      " [1190 2052  643   87  599]\n",
      " [ 767  604 7650   89  787]\n",
      " [ 853  337  447  593  103]\n",
      " [ 548  739 1528   42 6856]]\n"
     ]
    }
   ],
   "source": [
    "cm_2_knn = confusion_matrix(test_data['label'], knn_2_prediction)\n",
    "print(cm_2_knn)"
   ]
  },
  {
   "cell_type": "code",
   "execution_count": 241,
   "id": "6731188e",
   "metadata": {},
   "outputs": [
    {
     "data": {
      "text/plain": [
       "<AxesSubplot:>"
      ]
     },
     "execution_count": 241,
     "metadata": {},
     "output_type": "execute_result"
    },
    {
     "data": {
      "image/png": "[encoded data removed]",
      "text/plain": [
       "<Figure size 432x288 with 2 Axes>"
      ]
     },
     "metadata": {
      "needs_background": "light"
     },
     "output_type": "display_data"
    }
   ],
   "source": [
    "sns.heatmap(cm_2_knn, annot=True)"
   ]
  },
  {
   "cell_type": "code",
   "execution_count": 242,
   "id": "42981e16",
   "metadata": {},
   "outputs": [
    {
     "name": "stdout",
     "output_type": "stream",
     "text": [
      "              precision    recall  f1-score   support\n",
      "\n",
      "  BACKGROUND       0.37      0.55      0.45      3621\n",
      " CONCLUSIONS       0.47      0.45      0.46      4571\n",
      "     METHODS       0.71      0.77      0.74      9897\n",
      "   OBJECTIVE       0.56      0.25      0.35      2333\n",
      "     RESULTS       0.81      0.71      0.75      9713\n",
      "\n",
      "    accuracy                           0.64     30135\n",
      "   macro avg       0.58      0.55      0.55     30135\n",
      "weighted avg       0.65      0.64      0.64     30135\n",
      "\n"
     ]
    }
   ],
   "source": [
    "classification_report_2_knn = classification_report(test_data['label'], knn_2_prediction)\n",
    "print(classification_report_2_knn)"
   ]
  },
  {
   "cell_type": "code",
   "execution_count": 189,
   "id": "35c50b03",
   "metadata": {},
   "outputs": [],
   "source": [
    "# sgdc"
   ]
  },
  {
   "cell_type": "code",
   "execution_count": 190,
   "id": "f66efe04",
   "metadata": {},
   "outputs": [],
   "source": [
    "sgdc_2_new = SGDClassifier(max_iter = 700, random_state = 42)"
   ]
  },
  {
   "cell_type": "code",
   "execution_count": 191,
   "id": "8b255e1d",
   "metadata": {},
   "outputs": [
    {
     "data": {
      "text/html": [
       "<style>#sk-container-id-8 {color: black;background-color: white;}#sk-container-id-8 pre{padding: 0;}#sk-container-id-8 div.sk-toggleable {background-color: white;}#sk-container-id-8 label.sk-toggleable__label {cursor: pointer;display: block;width: 100%;margin-bottom: 0;padding: 0.3em;box-sizing: border-box;text-align: center;}#sk-container-id-8 label.sk-toggleable__label-arrow:before {content: \"▸\";float: left;margin-right: 0.25em;color: #696969;}#sk-container-id-8 label.sk-toggleable__label-arrow:hover:before {color: black;}#sk-container-id-8 div.sk-estimator:hover label.sk-toggleable__label-arrow:before {color: black;}#sk-container-id-8 div.sk-toggleable__content {max-height: 0;max-width: 0;overflow: hidden;text-align: left;background-color: #f0f8ff;}#sk-container-id-8 div.sk-toggleable__content pre {margin: 0.2em;color: black;border-radius: 0.25em;background-color: #f0f8ff;}#sk-container-id-8 input.sk-toggleable__control:checked~div.sk-toggleable__content {max-height: 200px;max-width: 100%;overflow: auto;}#sk-container-id-8 input.sk-toggleable__control:checked~label.sk-toggleable__label-arrow:before {content: \"▾\";}#sk-container-id-8 div.sk-estimator input.sk-toggleable__control:checked~label.sk-toggleable__label {background-color: #d4ebff;}#sk-container-id-8 div.sk-label input.sk-toggleable__control:checked~label.sk-toggleable__label {background-color: #d4ebff;}#sk-container-id-8 input.sk-hidden--visually {border: 0;clip: rect(1px 1px 1px 1px);clip: rect(1px, 1px, 1px, 1px);height: 1px;margin: -1px;overflow: hidden;padding: 0;position: absolute;width: 1px;}#sk-container-id-8 div.sk-estimator {font-family: monospace;background-color: #f0f8ff;border: 1px dotted black;border-radius: 0.25em;box-sizing: border-box;margin-bottom: 0.5em;}#sk-container-id-8 div.sk-estimator:hover {background-color: #d4ebff;}#sk-container-id-8 div.sk-parallel-item::after {content: \"\";width: 100%;border-bottom: 1px solid gray;flex-grow: 1;}#sk-container-id-8 div.sk-label:hover label.sk-toggleable__label {background-color: #d4ebff;}#sk-container-id-8 div.sk-serial::before {content: \"\";position: absolute;border-left: 1px solid gray;box-sizing: border-box;top: 0;bottom: 0;left: 50%;z-index: 0;}#sk-container-id-8 div.sk-serial {display: flex;flex-direction: column;align-items: center;background-color: white;padding-right: 0.2em;padding-left: 0.2em;position: relative;}#sk-container-id-8 div.sk-item {position: relative;z-index: 1;}#sk-container-id-8 div.sk-parallel {display: flex;align-items: stretch;justify-content: center;background-color: white;position: relative;}#sk-container-id-8 div.sk-item::before, #sk-container-id-8 div.sk-parallel-item::before {content: \"\";position: absolute;border-left: 1px solid gray;box-sizing: border-box;top: 0;bottom: 0;left: 50%;z-index: -1;}#sk-container-id-8 div.sk-parallel-item {display: flex;flex-direction: column;z-index: 1;position: relative;background-color: white;}#sk-container-id-8 div.sk-parallel-item:first-child::after {align-self: flex-end;width: 50%;}#sk-container-id-8 div.sk-parallel-item:last-child::after {align-self: flex-start;width: 50%;}#sk-container-id-8 div.sk-parallel-item:only-child::after {width: 0;}#sk-container-id-8 div.sk-dashed-wrapped {border: 1px dashed gray;margin: 0 0.4em 0.5em 0.4em;box-sizing: border-box;padding-bottom: 0.4em;background-color: white;}#sk-container-id-8 div.sk-label label {font-family: monospace;font-weight: bold;display: inline-block;line-height: 1.2em;}#sk-container-id-8 div.sk-label-container {text-align: center;}#sk-container-id-8 div.sk-container {/* jupyter's `normalize.less` sets `[hidden] { display: none; }` but bootstrap.min.css set `[hidden] { display: none !important; }` so we also need the `!important` here to be able to override the default hidden behavior on the sphinx rendered scikit-learn.org. See: https://github.com/scikit-learn/scikit-learn/issues/21755 */display: inline-block !important;position: relative;}#sk-container-id-8 div.sk-text-repr-fallback {display: none;}</style><div id=\"sk-container-id-8\" class=\"sk-top-container\"><div class=\"sk-text-repr-fallback\"><pre>SGDClassifier(max_iter=700, random_state=42)</pre><b>In a Jupyter environment, please rerun this cell to show the HTML representation or trust the notebook. <br />On GitHub, the HTML representation is unable to render, please try loading this page with nbviewer.org.</b></div><div class=\"sk-container\" hidden><div class=\"sk-item\"><div class=\"sk-estimator sk-toggleable\"><input class=\"sk-toggleable__control sk-hidden--visually\" id=\"sk-estimator-id-8\" type=\"checkbox\" checked><label for=\"sk-estimator-id-8\" class=\"sk-toggleable__label sk-toggleable__label-arrow\">SGDClassifier</label><div class=\"sk-toggleable__content\"><pre>SGDClassifier(max_iter=700, random_state=42)</pre></div></div></div></div></div>"
      ],
      "text/plain": [
       "SGDClassifier(max_iter=700, random_state=42)"
      ]
     },
     "execution_count": 191,
     "metadata": {},
     "output_type": "execute_result"
    }
   ],
   "source": [
    "sgdc_2_new.fit(second_fit_transformed_data_new, new_train_data['label'])"
   ]
  },
  {
   "cell_type": "code",
   "execution_count": 192,
   "id": "507356d8",
   "metadata": {},
   "outputs": [],
   "source": [
    "sgdc_2_prediction = sgdc_2_new.predict(test_data_second_transformed)"
   ]
  },
  {
   "cell_type": "code",
   "execution_count": 193,
   "id": "92f02ad2",
   "metadata": {},
   "outputs": [
    {
     "name": "stdout",
     "output_type": "stream",
     "text": [
      "[[ 994  987  953  429  258]\n",
      " [ 235 2573  782  119  862]\n",
      " [ 173  213 8737  156  618]\n",
      " [ 246  386  582  993  126]\n",
      " [ 101  408 1587   10 7607]]\n"
     ]
    }
   ],
   "source": [
    "cm_2_sgdc = confusion_matrix(test_data['label'], sgdc_2_prediction)\n",
    "print(cm_2_sgdc)"
   ]
  },
  {
   "cell_type": "code",
   "execution_count": 194,
   "id": "e91dc104",
   "metadata": {},
   "outputs": [
    {
     "data": {
      "text/plain": [
       "<AxesSubplot:>"
      ]
     },
     "execution_count": 194,
     "metadata": {},
     "output_type": "execute_result"
    },
    {
     "data": {
      "image/png": "[encoded data removed]",
      "text/plain": [
       "<Figure size 432x288 with 2 Axes>"
      ]
     },
     "metadata": {
      "needs_background": "light"
     },
     "output_type": "display_data"
    }
   ],
   "source": [
    "sns.heatmap(cm_2_sgdc, annot=True)"
   ]
  },
  {
   "cell_type": "code",
   "execution_count": 195,
   "id": "1528938f",
   "metadata": {},
   "outputs": [
    {
     "name": "stdout",
     "output_type": "stream",
     "text": [
      "              precision    recall  f1-score   support\n",
      "\n",
      "  BACKGROUND       0.57      0.27      0.37      3621\n",
      " CONCLUSIONS       0.56      0.56      0.56      4571\n",
      "     METHODS       0.69      0.88      0.78      9897\n",
      "   OBJECTIVE       0.58      0.43      0.49      2333\n",
      "     RESULTS       0.80      0.78      0.79      9713\n",
      "\n",
      "    accuracy                           0.69     30135\n",
      "   macro avg       0.64      0.59      0.60     30135\n",
      "weighted avg       0.68      0.69      0.68     30135\n",
      "\n"
     ]
    }
   ],
   "source": [
    "classification_report_2_sgdc = classification_report(test_data['label'], sgdc_2_prediction)\n",
    "print(classification_report_2_sgdc)"
   ]
  },
  {
   "cell_type": "code",
   "execution_count": 243,
   "id": "f874bdcd",
   "metadata": {},
   "outputs": [],
   "source": [
    "# sgdc balanced (including class weights)"
   ]
  },
  {
   "cell_type": "code",
   "execution_count": 245,
   "id": "42595954",
   "metadata": {},
   "outputs": [
    {
     "data": {
      "text/html": [
       "<style>#sk-container-id-13 {color: black;background-color: white;}#sk-container-id-13 pre{padding: 0;}#sk-container-id-13 div.sk-toggleable {background-color: white;}#sk-container-id-13 label.sk-toggleable__label {cursor: pointer;display: block;width: 100%;margin-bottom: 0;padding: 0.3em;box-sizing: border-box;text-align: center;}#sk-container-id-13 label.sk-toggleable__label-arrow:before {content: \"▸\";float: left;margin-right: 0.25em;color: #696969;}#sk-container-id-13 label.sk-toggleable__label-arrow:hover:before {color: black;}#sk-container-id-13 div.sk-estimator:hover label.sk-toggleable__label-arrow:before {color: black;}#sk-container-id-13 div.sk-toggleable__content {max-height: 0;max-width: 0;overflow: hidden;text-align: left;background-color: #f0f8ff;}#sk-container-id-13 div.sk-toggleable__content pre {margin: 0.2em;color: black;border-radius: 0.25em;background-color: #f0f8ff;}#sk-container-id-13 input.sk-toggleable__control:checked~div.sk-toggleable__content {max-height: 200px;max-width: 100%;overflow: auto;}#sk-container-id-13 input.sk-toggleable__control:checked~label.sk-toggleable__label-arrow:before {content: \"▾\";}#sk-container-id-13 div.sk-estimator input.sk-toggleable__control:checked~label.sk-toggleable__label {background-color: #d4ebff;}#sk-container-id-13 div.sk-label input.sk-toggleable__control:checked~label.sk-toggleable__label {background-color: #d4ebff;}#sk-container-id-13 input.sk-hidden--visually {border: 0;clip: rect(1px 1px 1px 1px);clip: rect(1px, 1px, 1px, 1px);height: 1px;margin: -1px;overflow: hidden;padding: 0;position: absolute;width: 1px;}#sk-container-id-13 div.sk-estimator {font-family: monospace;background-color: #f0f8ff;border: 1px dotted black;border-radius: 0.25em;box-sizing: border-box;margin-bottom: 0.5em;}#sk-container-id-13 div.sk-estimator:hover {background-color: #d4ebff;}#sk-container-id-13 div.sk-parallel-item::after {content: \"\";width: 100%;border-bottom: 1px solid gray;flex-grow: 1;}#sk-container-id-13 div.sk-label:hover label.sk-toggleable__label {background-color: #d4ebff;}#sk-container-id-13 div.sk-serial::before {content: \"\";position: absolute;border-left: 1px solid gray;box-sizing: border-box;top: 0;bottom: 0;left: 50%;z-index: 0;}#sk-container-id-13 div.sk-serial {display: flex;flex-direction: column;align-items: center;background-color: white;padding-right: 0.2em;padding-left: 0.2em;position: relative;}#sk-container-id-13 div.sk-item {position: relative;z-index: 1;}#sk-container-id-13 div.sk-parallel {display: flex;align-items: stretch;justify-content: center;background-color: white;position: relative;}#sk-container-id-13 div.sk-item::before, #sk-container-id-13 div.sk-parallel-item::before {content: \"\";position: absolute;border-left: 1px solid gray;box-sizing: border-box;top: 0;bottom: 0;left: 50%;z-index: -1;}#sk-container-id-13 div.sk-parallel-item {display: flex;flex-direction: column;z-index: 1;position: relative;background-color: white;}#sk-container-id-13 div.sk-parallel-item:first-child::after {align-self: flex-end;width: 50%;}#sk-container-id-13 div.sk-parallel-item:last-child::after {align-self: flex-start;width: 50%;}#sk-container-id-13 div.sk-parallel-item:only-child::after {width: 0;}#sk-container-id-13 div.sk-dashed-wrapped {border: 1px dashed gray;margin: 0 0.4em 0.5em 0.4em;box-sizing: border-box;padding-bottom: 0.4em;background-color: white;}#sk-container-id-13 div.sk-label label {font-family: monospace;font-weight: bold;display: inline-block;line-height: 1.2em;}#sk-container-id-13 div.sk-label-container {text-align: center;}#sk-container-id-13 div.sk-container {/* jupyter's `normalize.less` sets `[hidden] { display: none; }` but bootstrap.min.css set `[hidden] { display: none !important; }` so we also need the `!important` here to be able to override the default hidden behavior on the sphinx rendered scikit-learn.org. See: https://github.com/scikit-learn/scikit-learn/issues/21755 */display: inline-block !important;position: relative;}#sk-container-id-13 div.sk-text-repr-fallback {display: none;}</style><div id=\"sk-container-id-13\" class=\"sk-top-container\"><div class=\"sk-text-repr-fallback\"><pre>SGDClassifier(class_weight=&#x27;balanced&#x27;, max_iter=700, random_state=42)</pre><b>In a Jupyter environment, please rerun this cell to show the HTML representation or trust the notebook. <br />On GitHub, the HTML representation is unable to render, please try loading this page with nbviewer.org.</b></div><div class=\"sk-container\" hidden><div class=\"sk-item\"><div class=\"sk-estimator sk-toggleable\"><input class=\"sk-toggleable__control sk-hidden--visually\" id=\"sk-estimator-id-13\" type=\"checkbox\" checked><label for=\"sk-estimator-id-13\" class=\"sk-toggleable__label sk-toggleable__label-arrow\">SGDClassifier</label><div class=\"sk-toggleable__content\"><pre>SGDClassifier(class_weight=&#x27;balanced&#x27;, max_iter=700, random_state=42)</pre></div></div></div></div></div>"
      ],
      "text/plain": [
       "SGDClassifier(class_weight='balanced', max_iter=700, random_state=42)"
      ]
     },
     "execution_count": 245,
     "metadata": {},
     "output_type": "execute_result"
    }
   ],
   "source": [
    "sgdc_3_new = SGDClassifier(max_iter = 700, class_weight = 'balanced', random_state = 42)\n",
    "sgdc_3_new.fit(second_fit_transformed_data_new, new_train_data['label'])"
   ]
  },
  {
   "cell_type": "code",
   "execution_count": 246,
   "id": "2e91f91c",
   "metadata": {},
   "outputs": [],
   "source": [
    "sgdc_3_prediction = sgdc_3_new.predict(test_data_second_transformed)"
   ]
  },
  {
   "cell_type": "code",
   "execution_count": 248,
   "id": "dfe6ef07",
   "metadata": {},
   "outputs": [
    {
     "name": "stdout",
     "output_type": "stream",
     "text": [
      "[[1607  900  427  573  114]\n",
      " [ 552 2933  427  177  482]\n",
      " [ 458  383 8121  339  596]\n",
      " [ 459  344  273 1198   59]\n",
      " [ 244  777 1347   46 7299]]\n"
     ]
    }
   ],
   "source": [
    "cm_3_sgdc = confusion_matrix(test_data['label'], sgdc_3_prediction)\n",
    "print(cm_3_sgdc)"
   ]
  },
  {
   "cell_type": "code",
   "execution_count": 249,
   "id": "ba997811",
   "metadata": {},
   "outputs": [
    {
     "data": {
      "text/plain": [
       "<AxesSubplot:>"
      ]
     },
     "execution_count": 249,
     "metadata": {},
     "output_type": "execute_result"
    },
    {
     "data": {
      "image/png": "[encoded data removed]",
      "text/plain": [
       "<Figure size 432x288 with 2 Axes>"
      ]
     },
     "metadata": {
      "needs_background": "light"
     },
     "output_type": "display_data"
    }
   ],
   "source": [
    "sns.heatmap(cm_3_sgdc, annot=True)"
   ]
  },
  {
   "cell_type": "code",
   "execution_count": 250,
   "id": "1d324165",
   "metadata": {},
   "outputs": [
    {
     "name": "stdout",
     "output_type": "stream",
     "text": [
      "              precision    recall  f1-score   support\n",
      "\n",
      "  BACKGROUND       0.48      0.44      0.46      3621\n",
      " CONCLUSIONS       0.55      0.64      0.59      4571\n",
      "     METHODS       0.77      0.82      0.79      9897\n",
      "   OBJECTIVE       0.51      0.51      0.51      2333\n",
      "     RESULTS       0.85      0.75      0.80      9713\n",
      "\n",
      "    accuracy                           0.70     30135\n",
      "   macro avg       0.63      0.63      0.63     30135\n",
      "weighted avg       0.71      0.70      0.70     30135\n",
      "\n"
     ]
    }
   ],
   "source": [
    "classification_report_3_sgdc = classification_report(test_data['label'], sgdc_3_prediction)\n",
    "print(classification_report_3_sgdc)"
   ]
  },
  {
   "cell_type": "code",
   "execution_count": 247,
   "id": "767316d9",
   "metadata": {},
   "outputs": [],
   "source": [
    "# mlp"
   ]
  },
  {
   "cell_type": "code",
   "execution_count": 228,
   "id": "f101601a",
   "metadata": {},
   "outputs": [],
   "source": [
    "l2_encoder = LabelEncoder()\n",
    "l2_encoder.fit(new_train_data['label'])\n",
    "values_encoded_new = l2_encoder.transform(new_train_data['label'])"
   ]
  },
  {
   "cell_type": "code",
   "execution_count": 231,
   "id": "8468b4f1",
   "metadata": {},
   "outputs": [],
   "source": [
    "values_test= l2_encoder.transform(test_data['label'])"
   ]
  },
  {
   "cell_type": "code",
   "execution_count": 229,
   "id": "1abfed6c",
   "metadata": {},
   "outputs": [],
   "source": [
    "mlp_2_new = MLPClassifier(max_iter=200, solver='lbfgs', alpha=1e-5, hidden_layer_sizes=(24, ), random_state = 42)"
   ]
  },
  {
   "cell_type": "code",
   "execution_count": 230,
   "id": "42f4c8d2",
   "metadata": {},
   "outputs": [
    {
     "data": {
      "text/html": [
       "<style>#sk-container-id-10 {color: black;background-color: white;}#sk-container-id-10 pre{padding: 0;}#sk-container-id-10 div.sk-toggleable {background-color: white;}#sk-container-id-10 label.sk-toggleable__label {cursor: pointer;display: block;width: 100%;margin-bottom: 0;padding: 0.3em;box-sizing: border-box;text-align: center;}#sk-container-id-10 label.sk-toggleable__label-arrow:before {content: \"▸\";float: left;margin-right: 0.25em;color: #696969;}#sk-container-id-10 label.sk-toggleable__label-arrow:hover:before {color: black;}#sk-container-id-10 div.sk-estimator:hover label.sk-toggleable__label-arrow:before {color: black;}#sk-container-id-10 div.sk-toggleable__content {max-height: 0;max-width: 0;overflow: hidden;text-align: left;background-color: #f0f8ff;}#sk-container-id-10 div.sk-toggleable__content pre {margin: 0.2em;color: black;border-radius: 0.25em;background-color: #f0f8ff;}#sk-container-id-10 input.sk-toggleable__control:checked~div.sk-toggleable__content {max-height: 200px;max-width: 100%;overflow: auto;}#sk-container-id-10 input.sk-toggleable__control:checked~label.sk-toggleable__label-arrow:before {content: \"▾\";}#sk-container-id-10 div.sk-estimator input.sk-toggleable__control:checked~label.sk-toggleable__label {background-color: #d4ebff;}#sk-container-id-10 div.sk-label input.sk-toggleable__control:checked~label.sk-toggleable__label {background-color: #d4ebff;}#sk-container-id-10 input.sk-hidden--visually {border: 0;clip: rect(1px 1px 1px 1px);clip: rect(1px, 1px, 1px, 1px);height: 1px;margin: -1px;overflow: hidden;padding: 0;position: absolute;width: 1px;}#sk-container-id-10 div.sk-estimator {font-family: monospace;background-color: #f0f8ff;border: 1px dotted black;border-radius: 0.25em;box-sizing: border-box;margin-bottom: 0.5em;}#sk-container-id-10 div.sk-estimator:hover {background-color: #d4ebff;}#sk-container-id-10 div.sk-parallel-item::after {content: \"\";width: 100%;border-bottom: 1px solid gray;flex-grow: 1;}#sk-container-id-10 div.sk-label:hover label.sk-toggleable__label {background-color: #d4ebff;}#sk-container-id-10 div.sk-serial::before {content: \"\";position: absolute;border-left: 1px solid gray;box-sizing: border-box;top: 0;bottom: 0;left: 50%;z-index: 0;}#sk-container-id-10 div.sk-serial {display: flex;flex-direction: column;align-items: center;background-color: white;padding-right: 0.2em;padding-left: 0.2em;position: relative;}#sk-container-id-10 div.sk-item {position: relative;z-index: 1;}#sk-container-id-10 div.sk-parallel {display: flex;align-items: stretch;justify-content: center;background-color: white;position: relative;}#sk-container-id-10 div.sk-item::before, #sk-container-id-10 div.sk-parallel-item::before {content: \"\";position: absolute;border-left: 1px solid gray;box-sizing: border-box;top: 0;bottom: 0;left: 50%;z-index: -1;}#sk-container-id-10 div.sk-parallel-item {display: flex;flex-direction: column;z-index: 1;position: relative;background-color: white;}#sk-container-id-10 div.sk-parallel-item:first-child::after {align-self: flex-end;width: 50%;}#sk-container-id-10 div.sk-parallel-item:last-child::after {align-self: flex-start;width: 50%;}#sk-container-id-10 div.sk-parallel-item:only-child::after {width: 0;}#sk-container-id-10 div.sk-dashed-wrapped {border: 1px dashed gray;margin: 0 0.4em 0.5em 0.4em;box-sizing: border-box;padding-bottom: 0.4em;background-color: white;}#sk-container-id-10 div.sk-label label {font-family: monospace;font-weight: bold;display: inline-block;line-height: 1.2em;}#sk-container-id-10 div.sk-label-container {text-align: center;}#sk-container-id-10 div.sk-container {/* jupyter's `normalize.less` sets `[hidden] { display: none; }` but bootstrap.min.css set `[hidden] { display: none !important; }` so we also need the `!important` here to be able to override the default hidden behavior on the sphinx rendered scikit-learn.org. See: https://github.com/scikit-learn/scikit-learn/issues/21755 */display: inline-block !important;position: relative;}#sk-container-id-10 div.sk-text-repr-fallback {display: none;}</style><div id=\"sk-container-id-10\" class=\"sk-top-container\"><div class=\"sk-text-repr-fallback\"><pre>MLPClassifier(alpha=1e-05, hidden_layer_sizes=(24,), random_state=42,\n",
       "              solver=&#x27;lbfgs&#x27;)</pre><b>In a Jupyter environment, please rerun this cell to show the HTML representation or trust the notebook. <br />On GitHub, the HTML representation is unable to render, please try loading this page with nbviewer.org.</b></div><div class=\"sk-container\" hidden><div class=\"sk-item\"><div class=\"sk-estimator sk-toggleable\"><input class=\"sk-toggleable__control sk-hidden--visually\" id=\"sk-estimator-id-10\" type=\"checkbox\" checked><label for=\"sk-estimator-id-10\" class=\"sk-toggleable__label sk-toggleable__label-arrow\">MLPClassifier</label><div class=\"sk-toggleable__content\"><pre>MLPClassifier(alpha=1e-05, hidden_layer_sizes=(24,), random_state=42,\n",
       "              solver=&#x27;lbfgs&#x27;)</pre></div></div></div></div></div>"
      ],
      "text/plain": [
       "MLPClassifier(alpha=1e-05, hidden_layer_sizes=(24,), random_state=42,\n",
       "              solver='lbfgs')"
      ]
     },
     "execution_count": 230,
     "metadata": {},
     "output_type": "execute_result"
    }
   ],
   "source": [
    "mlp_2_new.fit(second_fit_transformed_data_new, values_encoded_new)"
   ]
  },
  {
   "cell_type": "code",
   "execution_count": 232,
   "id": "1a9c6f8c",
   "metadata": {},
   "outputs": [],
   "source": [
    "mlp_2_prediction = mlp_2_new.predict(test_data_second_transformed)"
   ]
  },
  {
   "cell_type": "code",
   "execution_count": 234,
   "id": "4e5c35e0",
   "metadata": {},
   "outputs": [
    {
     "name": "stdout",
     "output_type": "stream",
     "text": [
      "[[1857  732  471  405  156]\n",
      " [ 527 2907  476   66  595]\n",
      " [ 349  267 8461  137  683]\n",
      " [ 612  266  307 1071   77]\n",
      " [ 185  605 1193   14 7716]]\n"
     ]
    }
   ],
   "source": [
    "cm_2_mlp = confusion_matrix(values_test, mlp_2_prediction)\n",
    "print(cm_2_mlp)"
   ]
  },
  {
   "cell_type": "code",
   "execution_count": 235,
   "id": "e4113e3b",
   "metadata": {},
   "outputs": [
    {
     "data": {
      "text/plain": [
       "<AxesSubplot:>"
      ]
     },
     "execution_count": 235,
     "metadata": {},
     "output_type": "execute_result"
    },
    {
     "data": {
      "image/png": "[encoded data removed]",
      "text/plain": [
       "<Figure size 432x288 with 2 Axes>"
      ]
     },
     "metadata": {
      "needs_background": "light"
     },
     "output_type": "display_data"
    }
   ],
   "source": [
    "sns.heatmap(cm_2_mlp, annot=True)"
   ]
  },
  {
   "cell_type": "code",
   "execution_count": 236,
   "id": "295448ae",
   "metadata": {},
   "outputs": [
    {
     "name": "stdout",
     "output_type": "stream",
     "text": [
      "              precision    recall  f1-score   support\n",
      "\n",
      "           0       0.53      0.51      0.52      3621\n",
      "           1       0.61      0.64      0.62      4571\n",
      "           2       0.78      0.85      0.81      9897\n",
      "           3       0.63      0.46      0.53      2333\n",
      "           4       0.84      0.79      0.81      9713\n",
      "\n",
      "    accuracy                           0.73     30135\n",
      "   macro avg       0.68      0.65      0.66     30135\n",
      "weighted avg       0.73      0.73      0.73     30135\n",
      "\n"
     ]
    }
   ],
   "source": [
    "classification_report_2_mlp = classification_report(values_test, mlp_2_prediction)\n",
    "print(classification_report_2_mlp)"
   ]
  },
  {
   "cell_type": "code",
   "execution_count": 251,
   "id": "99e97d00",
   "metadata": {},
   "outputs": [],
   "source": [
    "# bar plot "
   ]
  },
  {
   "cell_type": "code",
   "execution_count": 252,
   "id": "3d83ebd3",
   "metadata": {},
   "outputs": [],
   "source": [
    "classifier = ['decision_trees', 'random_forests', 'SVM', 'KNN', 'SGDClassifier', 'MLP']"
   ]
  },
  {
   "cell_type": "code",
   "execution_count": 253,
   "id": "21a78b0d",
   "metadata": {},
   "outputs": [],
   "source": [
    "f1_micro_scores = [0.50, 0.60, 0.72, 0.55, 0.70, 0.69]"
   ]
  },
  {
   "cell_type": "code",
   "execution_count": 256,
   "id": "8ad01b44",
   "metadata": {},
   "outputs": [
    {
     "data": {
      "image/png": "[encoded data removed]",
      "text/plain": [
       "<Figure size 720x360 with 1 Axes>"
      ]
     },
     "metadata": {
      "needs_background": "light"
     },
     "output_type": "display_data"
    }
   ],
   "source": [
    "fig = plt.figure(figsize = (10, 5))\n",
    "plt.bar(classifier, f1_micro_scores, color ='red',\n",
    "        width = 0.4)\n",
    "plt.xlabel(\"Classifiers_used\")\n",
    "plt.ylabel(\"F1_micro from grid search CV\")\n",
    "plt.title(\"Performance measured by F1_micro of 6 classifiers using same NLP technique for classification of sentences in abstracts using grid search cv\")\n",
    "plt.show()"
   ]
  },
  {
   "cell_type": "code",
   "execution_count": null,
   "id": "85db1358",
   "metadata": {},
   "outputs": [],
   "source": []
  }
 ],
 "metadata": {
  "kernelspec": {
   "display_name": "Python 3 (ipykernel)",
   "language": "python",
   "name": "python3"
  },
  "language_info": {
   "codemirror_mode": {
    "name": "ipython",
    "version": 3
   },
   "file_extension": ".py",
   "mimetype": "text/x-python",
   "name": "python",
   "nbconvert_exporter": "python",
   "pygments_lexer": "ipython3",
   "version": "3.11.5"
  }
 },
 "nbformat": 4,
 "nbformat_minor": 5
}
