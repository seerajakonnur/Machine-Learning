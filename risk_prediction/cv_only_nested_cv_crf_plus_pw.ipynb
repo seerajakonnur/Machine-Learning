{
 "cells": [
  {
   "cell_type": "code",
   "execution_count": 1,
   "id": "50485c28",
   "metadata": {},
   "outputs": [],
   "source": [
    "import numpy as np\n",
    "import pandas as pd\n",
    "import matplotlib.pyplot as plt\n",
    "\n",
    "from xgboost import XGBClassifier\n",
    "from xgboost import plot_importance\n",
    "from numpy import mean\n",
    "from numpy import std\n",
    "from sklearn.model_selection import KFold\n",
    "from sklearn.model_selection import GridSearchCV\n",
    "from sklearn.metrics import confusion_matrix, plot_confusion_matrix, classification_report\n",
    "from sklearn.metrics import accuracy_score\n",
    "from sklearn import metrics\n",
    "\n",
    "from sklearn import metrics\n",
    "from sklearn.metrics import RocCurveDisplay"
   ]
  },
  {
   "cell_type": "code",
   "execution_count": 2,
   "id": "e82aa4ad",
   "metadata": {},
   "outputs": [],
   "source": [
    "data_x = pd.read_csv(\"cv_x_under.csv\")"
   ]
  },
  {
   "cell_type": "code",
   "execution_count": 3,
   "id": "0bfdd269",
   "metadata": {},
   "outputs": [
    {
     "data": {
      "text/html": [
       "<div>\n",
       "<style scoped>\n",
       "    .dataframe tbody tr th:only-of-type {\n",
       "        vertical-align: middle;\n",
       "    }\n",
       "\n",
       "    .dataframe tbody tr th {\n",
       "        vertical-align: top;\n",
       "    }\n",
       "\n",
       "    .dataframe thead th {\n",
       "        text-align: right;\n",
       "    }\n",
       "</style>\n",
       "<table border=\"1\" class=\"dataframe\">\n",
       "  <thead>\n",
       "    <tr style=\"text-align: right;\">\n",
       "      <th></th>\n",
       "      <th>Unnamed: 0</th>\n",
       "      <th>T</th>\n",
       "      <th>delta_t</th>\n",
       "      <th>CT</th>\n",
       "      <th>prop_s</th>\n",
       "      <th>t_sys</th>\n",
       "      <th>t_dia</th>\n",
       "      <th>t_ratio</th>\n",
       "      <th>prop_delta_t</th>\n",
       "      <th>t_p1in_dia</th>\n",
       "      <th>...</th>\n",
       "      <th>Smoking status_Prefer not to answer</th>\n",
       "      <th>Smoking status_Previous</th>\n",
       "      <th>Sex_Female</th>\n",
       "      <th>Sex_Male</th>\n",
       "      <th>Ethnic background_Asian</th>\n",
       "      <th>Ethnic background_Black</th>\n",
       "      <th>Ethnic background_other including mixed</th>\n",
       "      <th>Ethnic background_white/not recorded</th>\n",
       "      <th>bp medication_0.0</th>\n",
       "      <th>bp medication_1.0</th>\n",
       "    </tr>\n",
       "  </thead>\n",
       "  <tbody>\n",
       "    <tr>\n",
       "      <th>0</th>\n",
       "      <td>0</td>\n",
       "      <td>0.80270</td>\n",
       "      <td>0.12973</td>\n",
       "      <td>0.202700</td>\n",
       "      <td>0.25253</td>\n",
       "      <td>0.28378</td>\n",
       "      <td>0.51892</td>\n",
       "      <td>0.54688</td>\n",
       "      <td>0.16162</td>\n",
       "      <td>0.17027</td>\n",
       "      <td>...</td>\n",
       "      <td>0</td>\n",
       "      <td>0</td>\n",
       "      <td>0</td>\n",
       "      <td>1</td>\n",
       "      <td>0</td>\n",
       "      <td>0</td>\n",
       "      <td>0</td>\n",
       "      <td>1</td>\n",
       "      <td>1</td>\n",
       "      <td>0</td>\n",
       "    </tr>\n",
       "    <tr>\n",
       "      <th>1</th>\n",
       "      <td>1</td>\n",
       "      <td>0.80270</td>\n",
       "      <td>0.14595</td>\n",
       "      <td>0.210810</td>\n",
       "      <td>0.26263</td>\n",
       "      <td>0.30811</td>\n",
       "      <td>0.49459</td>\n",
       "      <td>0.62295</td>\n",
       "      <td>0.18182</td>\n",
       "      <td>0.18649</td>\n",
       "      <td>...</td>\n",
       "      <td>0</td>\n",
       "      <td>0</td>\n",
       "      <td>1</td>\n",
       "      <td>0</td>\n",
       "      <td>0</td>\n",
       "      <td>1</td>\n",
       "      <td>0</td>\n",
       "      <td>0</td>\n",
       "      <td>1</td>\n",
       "      <td>0</td>\n",
       "    </tr>\n",
       "    <tr>\n",
       "      <th>2</th>\n",
       "      <td>2</td>\n",
       "      <td>0.76154</td>\n",
       "      <td>0.12308</td>\n",
       "      <td>0.200000</td>\n",
       "      <td>0.26263</td>\n",
       "      <td>0.28462</td>\n",
       "      <td>0.47692</td>\n",
       "      <td>0.59677</td>\n",
       "      <td>0.16162</td>\n",
       "      <td>0.16154</td>\n",
       "      <td>...</td>\n",
       "      <td>0</td>\n",
       "      <td>1</td>\n",
       "      <td>0</td>\n",
       "      <td>1</td>\n",
       "      <td>0</td>\n",
       "      <td>0</td>\n",
       "      <td>0</td>\n",
       "      <td>1</td>\n",
       "      <td>0</td>\n",
       "      <td>1</td>\n",
       "    </tr>\n",
       "    <tr>\n",
       "      <th>3</th>\n",
       "      <td>3</td>\n",
       "      <td>0.94286</td>\n",
       "      <td>0.31429</td>\n",
       "      <td>0.095238</td>\n",
       "      <td>0.10101</td>\n",
       "      <td>0.35238</td>\n",
       "      <td>0.59048</td>\n",
       "      <td>0.59677</td>\n",
       "      <td>0.33333</td>\n",
       "      <td>0.27619</td>\n",
       "      <td>...</td>\n",
       "      <td>0</td>\n",
       "      <td>0</td>\n",
       "      <td>0</td>\n",
       "      <td>1</td>\n",
       "      <td>0</td>\n",
       "      <td>0</td>\n",
       "      <td>0</td>\n",
       "      <td>1</td>\n",
       "      <td>1</td>\n",
       "      <td>0</td>\n",
       "    </tr>\n",
       "    <tr>\n",
       "      <th>4</th>\n",
       "      <td>4</td>\n",
       "      <td>0.71566</td>\n",
       "      <td>0.22410</td>\n",
       "      <td>0.231330</td>\n",
       "      <td>0.32323</td>\n",
       "      <td>0.42651</td>\n",
       "      <td>0.28916</td>\n",
       "      <td>1.47500</td>\n",
       "      <td>0.31313</td>\n",
       "      <td>0.36867</td>\n",
       "      <td>...</td>\n",
       "      <td>0</td>\n",
       "      <td>0</td>\n",
       "      <td>1</td>\n",
       "      <td>0</td>\n",
       "      <td>0</td>\n",
       "      <td>0</td>\n",
       "      <td>0</td>\n",
       "      <td>1</td>\n",
       "      <td>1</td>\n",
       "      <td>0</td>\n",
       "    </tr>\n",
       "    <tr>\n",
       "      <th>...</th>\n",
       "      <td>...</td>\n",
       "      <td>...</td>\n",
       "      <td>...</td>\n",
       "      <td>...</td>\n",
       "      <td>...</td>\n",
       "      <td>...</td>\n",
       "      <td>...</td>\n",
       "      <td>...</td>\n",
       "      <td>...</td>\n",
       "      <td>...</td>\n",
       "      <td>...</td>\n",
       "      <td>...</td>\n",
       "      <td>...</td>\n",
       "      <td>...</td>\n",
       "      <td>...</td>\n",
       "      <td>...</td>\n",
       "      <td>...</td>\n",
       "      <td>...</td>\n",
       "      <td>...</td>\n",
       "      <td>...</td>\n",
       "      <td>...</td>\n",
       "    </tr>\n",
       "    <tr>\n",
       "      <th>20597</th>\n",
       "      <td>20597</td>\n",
       "      <td>0.71566</td>\n",
       "      <td>0.11566</td>\n",
       "      <td>0.180720</td>\n",
       "      <td>0.25253</td>\n",
       "      <td>0.25301</td>\n",
       "      <td>0.46265</td>\n",
       "      <td>0.54688</td>\n",
       "      <td>0.16162</td>\n",
       "      <td>0.15904</td>\n",
       "      <td>...</td>\n",
       "      <td>0</td>\n",
       "      <td>0</td>\n",
       "      <td>0</td>\n",
       "      <td>1</td>\n",
       "      <td>0</td>\n",
       "      <td>0</td>\n",
       "      <td>0</td>\n",
       "      <td>1</td>\n",
       "      <td>1</td>\n",
       "      <td>0</td>\n",
       "    </tr>\n",
       "    <tr>\n",
       "      <th>20598</th>\n",
       "      <td>20598</td>\n",
       "      <td>1.06070</td>\n",
       "      <td>0.19286</td>\n",
       "      <td>0.225000</td>\n",
       "      <td>0.21212</td>\n",
       "      <td>0.36429</td>\n",
       "      <td>0.69643</td>\n",
       "      <td>0.52308</td>\n",
       "      <td>0.18182</td>\n",
       "      <td>0.22500</td>\n",
       "      <td>...</td>\n",
       "      <td>0</td>\n",
       "      <td>0</td>\n",
       "      <td>1</td>\n",
       "      <td>0</td>\n",
       "      <td>0</td>\n",
       "      <td>0</td>\n",
       "      <td>0</td>\n",
       "      <td>1</td>\n",
       "      <td>1</td>\n",
       "      <td>0</td>\n",
       "    </tr>\n",
       "    <tr>\n",
       "      <th>20599</th>\n",
       "      <td>20599</td>\n",
       "      <td>0.90000</td>\n",
       "      <td>0.20000</td>\n",
       "      <td>0.218180</td>\n",
       "      <td>0.24242</td>\n",
       "      <td>0.32727</td>\n",
       "      <td>0.57273</td>\n",
       "      <td>0.57143</td>\n",
       "      <td>0.22222</td>\n",
       "      <td>0.22727</td>\n",
       "      <td>...</td>\n",
       "      <td>0</td>\n",
       "      <td>1</td>\n",
       "      <td>1</td>\n",
       "      <td>0</td>\n",
       "      <td>0</td>\n",
       "      <td>0</td>\n",
       "      <td>0</td>\n",
       "      <td>1</td>\n",
       "      <td>1</td>\n",
       "      <td>0</td>\n",
       "    </tr>\n",
       "    <tr>\n",
       "      <th>20600</th>\n",
       "      <td>20600</td>\n",
       "      <td>0.95806</td>\n",
       "      <td>0.13548</td>\n",
       "      <td>0.261290</td>\n",
       "      <td>0.27273</td>\n",
       "      <td>0.35806</td>\n",
       "      <td>0.60000</td>\n",
       "      <td>0.59677</td>\n",
       "      <td>0.14141</td>\n",
       "      <td>0.20323</td>\n",
       "      <td>...</td>\n",
       "      <td>0</td>\n",
       "      <td>1</td>\n",
       "      <td>0</td>\n",
       "      <td>1</td>\n",
       "      <td>0</td>\n",
       "      <td>0</td>\n",
       "      <td>0</td>\n",
       "      <td>1</td>\n",
       "      <td>1</td>\n",
       "      <td>0</td>\n",
       "    </tr>\n",
       "    <tr>\n",
       "      <th>20601</th>\n",
       "      <td>20601</td>\n",
       "      <td>1.16470</td>\n",
       "      <td>0.14118</td>\n",
       "      <td>0.282350</td>\n",
       "      <td>0.24242</td>\n",
       "      <td>0.38824</td>\n",
       "      <td>0.77647</td>\n",
       "      <td>0.50000</td>\n",
       "      <td>0.12121</td>\n",
       "      <td>0.22353</td>\n",
       "      <td>...</td>\n",
       "      <td>0</td>\n",
       "      <td>1</td>\n",
       "      <td>0</td>\n",
       "      <td>1</td>\n",
       "      <td>0</td>\n",
       "      <td>0</td>\n",
       "      <td>0</td>\n",
       "      <td>1</td>\n",
       "      <td>0</td>\n",
       "      <td>1</td>\n",
       "    </tr>\n",
       "  </tbody>\n",
       "</table>\n",
       "<p>20602 rows × 65 columns</p>\n",
       "</div>"
      ],
      "text/plain": [
       "       Unnamed: 0        T  delta_t        CT   prop_s    t_sys    t_dia  \\\n",
       "0               0  0.80270  0.12973  0.202700  0.25253  0.28378  0.51892   \n",
       "1               1  0.80270  0.14595  0.210810  0.26263  0.30811  0.49459   \n",
       "2               2  0.76154  0.12308  0.200000  0.26263  0.28462  0.47692   \n",
       "3               3  0.94286  0.31429  0.095238  0.10101  0.35238  0.59048   \n",
       "4               4  0.71566  0.22410  0.231330  0.32323  0.42651  0.28916   \n",
       "...           ...      ...      ...       ...      ...      ...      ...   \n",
       "20597       20597  0.71566  0.11566  0.180720  0.25253  0.25301  0.46265   \n",
       "20598       20598  1.06070  0.19286  0.225000  0.21212  0.36429  0.69643   \n",
       "20599       20599  0.90000  0.20000  0.218180  0.24242  0.32727  0.57273   \n",
       "20600       20600  0.95806  0.13548  0.261290  0.27273  0.35806  0.60000   \n",
       "20601       20601  1.16470  0.14118  0.282350  0.24242  0.38824  0.77647   \n",
       "\n",
       "       t_ratio  prop_delta_t  t_p1in_dia  ...  \\\n",
       "0      0.54688       0.16162     0.17027  ...   \n",
       "1      0.62295       0.18182     0.18649  ...   \n",
       "2      0.59677       0.16162     0.16154  ...   \n",
       "3      0.59677       0.33333     0.27619  ...   \n",
       "4      1.47500       0.31313     0.36867  ...   \n",
       "...        ...           ...         ...  ...   \n",
       "20597  0.54688       0.16162     0.15904  ...   \n",
       "20598  0.52308       0.18182     0.22500  ...   \n",
       "20599  0.57143       0.22222     0.22727  ...   \n",
       "20600  0.59677       0.14141     0.20323  ...   \n",
       "20601  0.50000       0.12121     0.22353  ...   \n",
       "\n",
       "       Smoking status_Prefer not to answer  Smoking status_Previous  \\\n",
       "0                                        0                        0   \n",
       "1                                        0                        0   \n",
       "2                                        0                        1   \n",
       "3                                        0                        0   \n",
       "4                                        0                        0   \n",
       "...                                    ...                      ...   \n",
       "20597                                    0                        0   \n",
       "20598                                    0                        0   \n",
       "20599                                    0                        1   \n",
       "20600                                    0                        1   \n",
       "20601                                    0                        1   \n",
       "\n",
       "       Sex_Female  Sex_Male  Ethnic background_Asian  Ethnic background_Black  \\\n",
       "0               0         1                        0                        0   \n",
       "1               1         0                        0                        1   \n",
       "2               0         1                        0                        0   \n",
       "3               0         1                        0                        0   \n",
       "4               1         0                        0                        0   \n",
       "...           ...       ...                      ...                      ...   \n",
       "20597           0         1                        0                        0   \n",
       "20598           1         0                        0                        0   \n",
       "20599           1         0                        0                        0   \n",
       "20600           0         1                        0                        0   \n",
       "20601           0         1                        0                        0   \n",
       "\n",
       "       Ethnic background_other including mixed  \\\n",
       "0                                            0   \n",
       "1                                            0   \n",
       "2                                            0   \n",
       "3                                            0   \n",
       "4                                            0   \n",
       "...                                        ...   \n",
       "20597                                        0   \n",
       "20598                                        0   \n",
       "20599                                        0   \n",
       "20600                                        0   \n",
       "20601                                        0   \n",
       "\n",
       "       Ethnic background_white/not recorded  bp medication_0.0  \\\n",
       "0                                         1                  1   \n",
       "1                                         0                  1   \n",
       "2                                         1                  0   \n",
       "3                                         1                  1   \n",
       "4                                         1                  1   \n",
       "...                                     ...                ...   \n",
       "20597                                     1                  1   \n",
       "20598                                     1                  1   \n",
       "20599                                     1                  1   \n",
       "20600                                     1                  1   \n",
       "20601                                     1                  0   \n",
       "\n",
       "       bp medication_1.0  \n",
       "0                      0  \n",
       "1                      0  \n",
       "2                      1  \n",
       "3                      0  \n",
       "4                      0  \n",
       "...                  ...  \n",
       "20597                  0  \n",
       "20598                  0  \n",
       "20599                  0  \n",
       "20600                  0  \n",
       "20601                  1  \n",
       "\n",
       "[20602 rows x 65 columns]"
      ]
     },
     "execution_count": 3,
     "metadata": {},
     "output_type": "execute_result"
    }
   ],
   "source": [
    "data_x"
   ]
  },
  {
   "cell_type": "code",
   "execution_count": 5,
   "id": "b86c51d8",
   "metadata": {},
   "outputs": [],
   "source": [
    "data_crf_pw = data_x.iloc[:, 1:65]"
   ]
  },
  {
   "cell_type": "code",
   "execution_count": 6,
   "id": "3d451c0b",
   "metadata": {},
   "outputs": [
    {
     "data": {
      "text/html": [
       "<div>\n",
       "<style scoped>\n",
       "    .dataframe tbody tr th:only-of-type {\n",
       "        vertical-align: middle;\n",
       "    }\n",
       "\n",
       "    .dataframe tbody tr th {\n",
       "        vertical-align: top;\n",
       "    }\n",
       "\n",
       "    .dataframe thead th {\n",
       "        text-align: right;\n",
       "    }\n",
       "</style>\n",
       "<table border=\"1\" class=\"dataframe\">\n",
       "  <thead>\n",
       "    <tr style=\"text-align: right;\">\n",
       "      <th></th>\n",
       "      <th>T</th>\n",
       "      <th>delta_t</th>\n",
       "      <th>CT</th>\n",
       "      <th>prop_s</th>\n",
       "      <th>t_sys</th>\n",
       "      <th>t_dia</th>\n",
       "      <th>t_ratio</th>\n",
       "      <th>prop_delta_t</th>\n",
       "      <th>t_p1in_dia</th>\n",
       "      <th>t_p2in_dia</th>\n",
       "      <th>...</th>\n",
       "      <th>Smoking status_Prefer not to answer</th>\n",
       "      <th>Smoking status_Previous</th>\n",
       "      <th>Sex_Female</th>\n",
       "      <th>Sex_Male</th>\n",
       "      <th>Ethnic background_Asian</th>\n",
       "      <th>Ethnic background_Black</th>\n",
       "      <th>Ethnic background_other including mixed</th>\n",
       "      <th>Ethnic background_white/not recorded</th>\n",
       "      <th>bp medication_0.0</th>\n",
       "      <th>bp medication_1.0</th>\n",
       "    </tr>\n",
       "  </thead>\n",
       "  <tbody>\n",
       "    <tr>\n",
       "      <th>0</th>\n",
       "      <td>0.80270</td>\n",
       "      <td>0.12973</td>\n",
       "      <td>0.202700</td>\n",
       "      <td>0.25253</td>\n",
       "      <td>0.28378</td>\n",
       "      <td>0.51892</td>\n",
       "      <td>0.54688</td>\n",
       "      <td>0.16162</td>\n",
       "      <td>0.17027</td>\n",
       "      <td>0.12973</td>\n",
       "      <td>...</td>\n",
       "      <td>0</td>\n",
       "      <td>0</td>\n",
       "      <td>0</td>\n",
       "      <td>1</td>\n",
       "      <td>0</td>\n",
       "      <td>0</td>\n",
       "      <td>0</td>\n",
       "      <td>1</td>\n",
       "      <td>1</td>\n",
       "      <td>0</td>\n",
       "    </tr>\n",
       "    <tr>\n",
       "      <th>1</th>\n",
       "      <td>0.80270</td>\n",
       "      <td>0.14595</td>\n",
       "      <td>0.210810</td>\n",
       "      <td>0.26263</td>\n",
       "      <td>0.30811</td>\n",
       "      <td>0.49459</td>\n",
       "      <td>0.62295</td>\n",
       "      <td>0.18182</td>\n",
       "      <td>0.18649</td>\n",
       "      <td>0.14595</td>\n",
       "      <td>...</td>\n",
       "      <td>0</td>\n",
       "      <td>0</td>\n",
       "      <td>1</td>\n",
       "      <td>0</td>\n",
       "      <td>0</td>\n",
       "      <td>1</td>\n",
       "      <td>0</td>\n",
       "      <td>0</td>\n",
       "      <td>1</td>\n",
       "      <td>0</td>\n",
       "    </tr>\n",
       "    <tr>\n",
       "      <th>2</th>\n",
       "      <td>0.76154</td>\n",
       "      <td>0.12308</td>\n",
       "      <td>0.200000</td>\n",
       "      <td>0.26263</td>\n",
       "      <td>0.28462</td>\n",
       "      <td>0.47692</td>\n",
       "      <td>0.59677</td>\n",
       "      <td>0.16162</td>\n",
       "      <td>0.16154</td>\n",
       "      <td>0.12308</td>\n",
       "      <td>...</td>\n",
       "      <td>0</td>\n",
       "      <td>1</td>\n",
       "      <td>0</td>\n",
       "      <td>1</td>\n",
       "      <td>0</td>\n",
       "      <td>0</td>\n",
       "      <td>0</td>\n",
       "      <td>1</td>\n",
       "      <td>0</td>\n",
       "      <td>1</td>\n",
       "    </tr>\n",
       "    <tr>\n",
       "      <th>3</th>\n",
       "      <td>0.94286</td>\n",
       "      <td>0.31429</td>\n",
       "      <td>0.095238</td>\n",
       "      <td>0.10101</td>\n",
       "      <td>0.35238</td>\n",
       "      <td>0.59048</td>\n",
       "      <td>0.59677</td>\n",
       "      <td>0.33333</td>\n",
       "      <td>0.27619</td>\n",
       "      <td>0.16190</td>\n",
       "      <td>...</td>\n",
       "      <td>0</td>\n",
       "      <td>0</td>\n",
       "      <td>0</td>\n",
       "      <td>1</td>\n",
       "      <td>0</td>\n",
       "      <td>0</td>\n",
       "      <td>0</td>\n",
       "      <td>1</td>\n",
       "      <td>1</td>\n",
       "      <td>0</td>\n",
       "    </tr>\n",
       "    <tr>\n",
       "      <th>4</th>\n",
       "      <td>0.71566</td>\n",
       "      <td>0.22410</td>\n",
       "      <td>0.231330</td>\n",
       "      <td>0.32323</td>\n",
       "      <td>0.42651</td>\n",
       "      <td>0.28916</td>\n",
       "      <td>1.47500</td>\n",
       "      <td>0.31313</td>\n",
       "      <td>0.36867</td>\n",
       "      <td>0.12289</td>\n",
       "      <td>...</td>\n",
       "      <td>0</td>\n",
       "      <td>0</td>\n",
       "      <td>1</td>\n",
       "      <td>0</td>\n",
       "      <td>0</td>\n",
       "      <td>0</td>\n",
       "      <td>0</td>\n",
       "      <td>1</td>\n",
       "      <td>1</td>\n",
       "      <td>0</td>\n",
       "    </tr>\n",
       "  </tbody>\n",
       "</table>\n",
       "<p>5 rows × 64 columns</p>\n",
       "</div>"
      ],
      "text/plain": [
       "         T  delta_t        CT   prop_s    t_sys    t_dia  t_ratio  \\\n",
       "0  0.80270  0.12973  0.202700  0.25253  0.28378  0.51892  0.54688   \n",
       "1  0.80270  0.14595  0.210810  0.26263  0.30811  0.49459  0.62295   \n",
       "2  0.76154  0.12308  0.200000  0.26263  0.28462  0.47692  0.59677   \n",
       "3  0.94286  0.31429  0.095238  0.10101  0.35238  0.59048  0.59677   \n",
       "4  0.71566  0.22410  0.231330  0.32323  0.42651  0.28916  1.47500   \n",
       "\n",
       "   prop_delta_t  t_p1in_dia  t_p2in_dia  ...  \\\n",
       "0       0.16162     0.17027     0.12973  ...   \n",
       "1       0.18182     0.18649     0.14595  ...   \n",
       "2       0.16162     0.16154     0.12308  ...   \n",
       "3       0.33333     0.27619     0.16190  ...   \n",
       "4       0.31313     0.36867     0.12289  ...   \n",
       "\n",
       "   Smoking status_Prefer not to answer  Smoking status_Previous  Sex_Female  \\\n",
       "0                                    0                        0           0   \n",
       "1                                    0                        0           1   \n",
       "2                                    0                        1           0   \n",
       "3                                    0                        0           0   \n",
       "4                                    0                        0           1   \n",
       "\n",
       "   Sex_Male  Ethnic background_Asian  Ethnic background_Black  \\\n",
       "0         1                        0                        0   \n",
       "1         0                        0                        1   \n",
       "2         1                        0                        0   \n",
       "3         1                        0                        0   \n",
       "4         0                        0                        0   \n",
       "\n",
       "   Ethnic background_other including mixed  \\\n",
       "0                                        0   \n",
       "1                                        0   \n",
       "2                                        0   \n",
       "3                                        0   \n",
       "4                                        0   \n",
       "\n",
       "   Ethnic background_white/not recorded  bp medication_0.0  bp medication_1.0  \n",
       "0                                     1                  1                  0  \n",
       "1                                     0                  1                  0  \n",
       "2                                     1                  0                  1  \n",
       "3                                     1                  1                  0  \n",
       "4                                     1                  1                  0  \n",
       "\n",
       "[5 rows x 64 columns]"
      ]
     },
     "execution_count": 6,
     "metadata": {},
     "output_type": "execute_result"
    }
   ],
   "source": [
    "data_crf_pw.head()"
   ]
  },
  {
   "cell_type": "code",
   "execution_count": 7,
   "id": "b5fe2c5d",
   "metadata": {},
   "outputs": [
    {
     "data": {
      "text/plain": [
       "(20602, 64)"
      ]
     },
     "execution_count": 7,
     "metadata": {},
     "output_type": "execute_result"
    }
   ],
   "source": [
    "data_crf_pw.shape"
   ]
  },
  {
   "cell_type": "code",
   "execution_count": 8,
   "id": "734a74f0",
   "metadata": {},
   "outputs": [
    {
     "data": {
      "text/plain": [
       "1318528"
      ]
     },
     "execution_count": 8,
     "metadata": {},
     "output_type": "execute_result"
    }
   ],
   "source": [
    "data_crf_pw.size"
   ]
  },
  {
   "cell_type": "code",
   "execution_count": 9,
   "id": "3f31d927",
   "metadata": {},
   "outputs": [],
   "source": [
    "X = data_crf_pw.values"
   ]
  },
  {
   "cell_type": "code",
   "execution_count": 10,
   "id": "11c43ffb",
   "metadata": {},
   "outputs": [
    {
     "data": {
      "text/plain": [
       "array([[0.8027 , 0.12973, 0.2027 , ..., 1.     , 1.     , 0.     ],\n",
       "       [0.8027 , 0.14595, 0.21081, ..., 0.     , 1.     , 0.     ],\n",
       "       [0.76154, 0.12308, 0.2    , ..., 1.     , 0.     , 1.     ],\n",
       "       ...,\n",
       "       [0.9    , 0.2    , 0.21818, ..., 1.     , 1.     , 0.     ],\n",
       "       [0.95806, 0.13548, 0.26129, ..., 1.     , 1.     , 0.     ],\n",
       "       [1.1647 , 0.14118, 0.28235, ..., 1.     , 0.     , 1.     ]])"
      ]
     },
     "execution_count": 10,
     "metadata": {},
     "output_type": "execute_result"
    }
   ],
   "source": [
    "X"
   ]
  },
  {
   "cell_type": "code",
   "execution_count": 11,
   "id": "82d62f44",
   "metadata": {},
   "outputs": [
    {
     "data": {
      "text/plain": [
       "(20602, 64)"
      ]
     },
     "execution_count": 11,
     "metadata": {},
     "output_type": "execute_result"
    }
   ],
   "source": [
    "X.shape"
   ]
  },
  {
   "cell_type": "code",
   "execution_count": 12,
   "id": "28f9c6dc",
   "metadata": {},
   "outputs": [
    {
     "data": {
      "text/plain": [
       "1318528"
      ]
     },
     "execution_count": 12,
     "metadata": {},
     "output_type": "execute_result"
    }
   ],
   "source": [
    "X.size"
   ]
  },
  {
   "cell_type": "code",
   "execution_count": 13,
   "id": "b4f6d3a2",
   "metadata": {},
   "outputs": [],
   "source": [
    "# reading the output variable"
   ]
  },
  {
   "cell_type": "code",
   "execution_count": 14,
   "id": "2c8822c7",
   "metadata": {},
   "outputs": [],
   "source": [
    "data_y = pd.read_csv(\"cv_y_under.csv\")"
   ]
  },
  {
   "cell_type": "code",
   "execution_count": 15,
   "id": "910dcc10",
   "metadata": {},
   "outputs": [],
   "source": [
    "data_y = data_y.drop(['Unnamed: 0'], axis=1)"
   ]
  },
  {
   "cell_type": "code",
   "execution_count": 16,
   "id": "b185924b",
   "metadata": {},
   "outputs": [
    {
     "data": {
      "text/html": [
       "<div>\n",
       "<style scoped>\n",
       "    .dataframe tbody tr th:only-of-type {\n",
       "        vertical-align: middle;\n",
       "    }\n",
       "\n",
       "    .dataframe tbody tr th {\n",
       "        vertical-align: top;\n",
       "    }\n",
       "\n",
       "    .dataframe thead th {\n",
       "        text-align: right;\n",
       "    }\n",
       "</style>\n",
       "<table border=\"1\" class=\"dataframe\">\n",
       "  <thead>\n",
       "    <tr style=\"text-align: right;\">\n",
       "      <th></th>\n",
       "      <th>cv</th>\n",
       "    </tr>\n",
       "  </thead>\n",
       "  <tbody>\n",
       "    <tr>\n",
       "      <th>0</th>\n",
       "      <td>0</td>\n",
       "    </tr>\n",
       "    <tr>\n",
       "      <th>1</th>\n",
       "      <td>0</td>\n",
       "    </tr>\n",
       "    <tr>\n",
       "      <th>2</th>\n",
       "      <td>0</td>\n",
       "    </tr>\n",
       "    <tr>\n",
       "      <th>3</th>\n",
       "      <td>0</td>\n",
       "    </tr>\n",
       "    <tr>\n",
       "      <th>4</th>\n",
       "      <td>0</td>\n",
       "    </tr>\n",
       "  </tbody>\n",
       "</table>\n",
       "</div>"
      ],
      "text/plain": [
       "   cv\n",
       "0   0\n",
       "1   0\n",
       "2   0\n",
       "3   0\n",
       "4   0"
      ]
     },
     "execution_count": 16,
     "metadata": {},
     "output_type": "execute_result"
    }
   ],
   "source": [
    "data_y.head()"
   ]
  },
  {
   "cell_type": "code",
   "execution_count": 17,
   "id": "5a13760a",
   "metadata": {},
   "outputs": [],
   "source": [
    "y = data_y.values"
   ]
  },
  {
   "cell_type": "code",
   "execution_count": 18,
   "id": "89c45d05",
   "metadata": {},
   "outputs": [
    {
     "data": {
      "text/plain": [
       "array([[0],\n",
       "       [0],\n",
       "       [0],\n",
       "       [0],\n",
       "       [0],\n",
       "       [0],\n",
       "       [0],\n",
       "       [0],\n",
       "       [0],\n",
       "       [0]], dtype=int64)"
      ]
     },
     "execution_count": 18,
     "metadata": {},
     "output_type": "execute_result"
    }
   ],
   "source": [
    "y[:10]"
   ]
  },
  {
   "cell_type": "code",
   "execution_count": 19,
   "id": "eae7d8ba",
   "metadata": {},
   "outputs": [
    {
     "data": {
      "text/plain": [
       "(20602, 1)"
      ]
     },
     "execution_count": 19,
     "metadata": {},
     "output_type": "execute_result"
    }
   ],
   "source": [
    "y.shape"
   ]
  },
  {
   "cell_type": "code",
   "execution_count": 20,
   "id": "b3ae6658",
   "metadata": {},
   "outputs": [
    {
     "data": {
      "text/plain": [
       "20602"
      ]
     },
     "execution_count": 20,
     "metadata": {},
     "output_type": "execute_result"
    }
   ],
   "source": [
    "y.size"
   ]
  },
  {
   "cell_type": "code",
   "execution_count": 21,
   "id": "d4562fac",
   "metadata": {},
   "outputs": [],
   "source": [
    "# nested cv"
   ]
  },
  {
   "cell_type": "code",
   "execution_count": 22,
   "id": "adeaaf09",
   "metadata": {},
   "outputs": [],
   "source": [
    "cv_outer = KFold(n_splits=3, shuffle=True, random_state=42)\n",
    "\n",
    "best_auc = []\n",
    "predict_prob = []\n",
    "feature_imp = []"
   ]
  },
  {
   "cell_type": "code",
   "execution_count": 23,
   "id": "c7e062b4",
   "metadata": {},
   "outputs": [
    {
     "name": "stdout",
     "output_type": "stream",
     "text": [
      "best auc score is : \n",
      "0.7333013048526751\n",
      "[[0.6029599  0.39704013]\n",
      " [0.3626685  0.6373315 ]\n",
      " [0.65000093 0.34999907]\n",
      " ...\n",
      " [0.26887637 0.7311236 ]\n",
      " [0.3474813  0.6525187 ]\n",
      " [0.39218378 0.6078162 ]]\n",
      "accuracy on test data: \n",
      "0.668025626092021\n",
      "[[2168 1286]\n",
      " [ 994 2420]]\n",
      "              precision    recall  f1-score   support\n",
      "\n",
      "           0       0.69      0.63      0.66      3454\n",
      "           1       0.65      0.71      0.68      3414\n",
      "\n",
      "    accuracy                           0.67      6868\n",
      "   macro avg       0.67      0.67      0.67      6868\n",
      "weighted avg       0.67      0.67      0.67      6868\n",
      "\n",
      "feature importances are: \n",
      "[0.00718777 0.00747187 0.00643882 0.02424586 0.01293405 0.00759067\n",
      " 0.01527025 0.00484842 0.00740781 0.00814805 0.01006286 0.0068118\n",
      " 0.00563556 0.0067856  0.00494164 0.0074306  0.00696332 0.005282\n",
      " 0.00554652 0.00772007 0.01760774 0.00719202 0.00920184 0.0048122\n",
      " 0.00877839 0.00485834 0.00618507 0.02241566 0.01500342 0.00794539\n",
      " 0.00958799 0.00605717 0.00738709 0.01439904 0.0126753  0.00745294\n",
      " 0.01171342 0.00706934 0.01405134 0.02884346 0.0292593  0.00947815\n",
      " 0.00568122 0.00783831 0.00725902 0.07695029 0.02643902 0.01950802\n",
      " 0.02033434 0.02250043 0.         0.02375042 0.01658232 0.01433071\n",
      " 0.         0.         0.06055457 0.04941668 0.         0.\n",
      " 0.         0.00648481 0.10080805 0.11086365]\n",
      "best parametrs: \n",
      "{'colsample_bytree': 0.5, 'learning_rate': 0.01, 'max_depth': 3, 'n_estimators': 750}\n",
      "best auc score is : \n",
      "0.7314617688824857\n",
      "[[0.30478823 0.69521177]\n",
      " [0.4608062  0.5391938 ]\n",
      " [0.5165236  0.48347643]\n",
      " ...\n",
      " [0.13689023 0.86310977]\n",
      " [0.43088692 0.5691131 ]\n",
      " [0.6301603  0.36983973]]\n",
      "accuracy on test data: \n",
      "0.672054754623562\n",
      "[[2141 1281]\n",
      " [ 971 2474]]\n",
      "              precision    recall  f1-score   support\n",
      "\n",
      "           0       0.69      0.63      0.66      3422\n",
      "           1       0.66      0.72      0.69      3445\n",
      "\n",
      "    accuracy                           0.67      6867\n",
      "   macro avg       0.67      0.67      0.67      6867\n",
      "weighted avg       0.67      0.67      0.67      6867\n",
      "\n",
      "feature importances are: \n",
      "[0.00783542 0.00620253 0.00806714 0.01129803 0.00897973 0.00792734\n",
      " 0.00867067 0.00754376 0.01047948 0.00814728 0.01276403 0.00857576\n",
      " 0.00567406 0.00547988 0.00799022 0.00805826 0.0075239  0.00688738\n",
      " 0.00808713 0.00519194 0.01503404 0.00891232 0.00886147 0.00658619\n",
      " 0.01036264 0.00625046 0.00650217 0.02356205 0.01731004 0.00893103\n",
      " 0.00785236 0.00720715 0.01039939 0.01273092 0.0077043  0.00918406\n",
      " 0.00924479 0.00898062 0.01379936 0.01428648 0.02592521 0.01790633\n",
      " 0.00740031 0.00652337 0.0061814  0.07451802 0.03391135 0.01673494\n",
      " 0.0220143  0.01996388 0.         0.017992   0.0151401  0.01092931\n",
      " 0.         0.00228915 0.05493725 0.04721555 0.00761111 0.\n",
      " 0.         0.00646461 0.1069756  0.1242804 ]\n",
      "best parametrs: \n",
      "{'colsample_bytree': 0.5, 'learning_rate': 0.01, 'max_depth': 3, 'n_estimators': 750}\n",
      "best auc score is : \n",
      "0.7353269207760255\n",
      "[[0.80032104 0.19967894]\n",
      " [0.82432294 0.17567706]\n",
      " [0.63124204 0.36875796]\n",
      " ...\n",
      " [0.31614387 0.6838561 ]\n",
      " [0.3684938  0.6315062 ]\n",
      " [0.18038452 0.8196155 ]]\n",
      "accuracy on test data: \n",
      "0.6695791466433668\n",
      "[[2189 1236]\n",
      " [1033 2409]]\n",
      "              precision    recall  f1-score   support\n",
      "\n",
      "           0       0.68      0.64      0.66      3425\n",
      "           1       0.66      0.70      0.68      3442\n",
      "\n",
      "    accuracy                           0.67      6867\n",
      "   macro avg       0.67      0.67      0.67      6867\n",
      "weighted avg       0.67      0.67      0.67      6867\n",
      "\n",
      "feature importances are: \n",
      "[0.00715233 0.00738765 0.00736605 0.00891295 0.00959526 0.00756617\n",
      " 0.00900342 0.00435939 0.00748772 0.00724092 0.01322776 0.00941616\n",
      " 0.00671323 0.00498993 0.00921015 0.0084647  0.00830104 0.00753767\n",
      " 0.0081388  0.00583367 0.01507127 0.0094706  0.00897423 0.0074891\n",
      " 0.01032013 0.00474557 0.00509368 0.01494877 0.01204045 0.00747022\n",
      " 0.00856185 0.00676646 0.00508327 0.0166202  0.00813203 0.0085493\n",
      " 0.01072098 0.02069163 0.01032514 0.02284717 0.02742884 0.01039484\n",
      " 0.00447095 0.00516937 0.00680296 0.07381981 0.02534031 0.01886756\n",
      " 0.0192482  0.02623464 0.         0.02850966 0.01658384 0.01117557\n",
      " 0.         0.00612773 0.0579886  0.05162931 0.00741214 0.01255509\n",
      " 0.         0.0050385  0.10002551 0.11334956]\n",
      "best parametrs: \n",
      "{'colsample_bytree': 0.5, 'learning_rate': 0.01, 'max_depth': 3, 'n_estimators': 750}\n"
     ]
    },
    {
     "data": {
      "image/png": "[encoded data removed]",
      "text/plain": [
       "<Figure size 432x288 with 1 Axes>"
      ]
     },
     "metadata": {
      "needs_background": "light"
     },
     "output_type": "display_data"
    },
    {
     "data": {
      "image/png": "[encoded data removed]",
      "text/plain": [
       "<Figure size 432x288 with 1 Axes>"
      ]
     },
     "metadata": {
      "needs_background": "light"
     },
     "output_type": "display_data"
    },
    {
     "data": {
      "image/png": "[encoded data removed]",
      "text/plain": [
       "<Figure size 432x288 with 1 Axes>"
      ]
     },
     "metadata": {
      "needs_background": "light"
     },
     "output_type": "display_data"
    }
   ],
   "source": [
    "for train_ix, test_ix in cv_outer.split(X):\n",
    "\t# split data\n",
    "\tX_train, X_test = X[train_ix, :], X[test_ix, :]\n",
    "\ty_train, y_test = y[train_ix], y[test_ix]\n",
    "\t# configure the cross-validation procedure\n",
    "\tcv_inner = KFold(n_splits=3, shuffle=True, random_state=42)\n",
    "\t# define the model\n",
    "\tmodel = XGBClassifier(objective= 'binary:logistic', random_state=42)\n",
    "\t# define search space\n",
    "\tspace = dict()\n",
    "\tspace['n_estimators'] = [100, 250, 500, 750]\n",
    "\tspace['max_depth'] = [3, 5, 10, 15]\n",
    "\tspace['learning_rate'] = [0.3, 0.1, 0.01]\n",
    "\tspace['colsample_bytree'] = [0.5, 0.8]\n",
    "\t# define search\n",
    "\tsearch = GridSearchCV(model, space, scoring='roc_auc', cv=cv_inner, refit=True)\n",
    "\t# execute search\n",
    "\tresult = search.fit(X_train, y_train)\n",
    "\troc_auc_score = result.best_score_\n",
    "\tprint(\"best auc score is : \")\n",
    "\tprint(roc_auc_score)\n",
    "\tbest_auc.append(roc_auc_score)\n",
    "\t# get the best performing model fit on the whole training set\n",
    "\tbest_model = result.best_estimator_\n",
    "\t# evaluate model on the hold out dataset\n",
    "\tyhat = best_model.predict(X_test)\n",
    "\t# predict proba\n",
    "\ty_pred_proba = best_model.predict_proba(X_test)\n",
    "\tprint(y_pred_proba)    \n",
    "\tpredict_prob.append(y_pred_proba)\n",
    "\t# evaluate the model\n",
    "\tacc_on_test = accuracy_score(y_test, yhat)\n",
    "\tprint(\"accuracy on test data: \")\n",
    "\tprint(acc_on_test)\n",
    "\t# store the result\n",
    "\t# cm\n",
    "\tcm = confusion_matrix(y_test, yhat)\n",
    "\t# \n",
    "\tprint(cm)\n",
    "\t# class report\n",
    "\tclassif_report = classification_report(y_test, yhat)\n",
    "\tprint(classif_report)\n",
    "\t#\n",
    "\tRocCurveDisplay.from_estimator(best_model, X_test, y_test)\n",
    "\t# feature_importances_\n",
    "\tf_i = best_model.feature_importances_\n",
    "\tprint(\"feature importances are: \")\n",
    "\tprint(f_i)\n",
    "\tfeature_imp.append(f_i)\n",
    "\t# best parameters\n",
    "\tprint(\"best parametrs: \")    \n",
    "\tprint(result.best_params_)"
   ]
  },
  {
   "cell_type": "code",
   "execution_count": 24,
   "id": "01b5b2b6",
   "metadata": {},
   "outputs": [
    {
     "data": {
      "text/plain": [
       "[0.7333013048526751, 0.7314617688824857, 0.7353269207760255]"
      ]
     },
     "execution_count": 24,
     "metadata": {},
     "output_type": "execute_result"
    }
   ],
   "source": [
    "best_auc"
   ]
  },
  {
   "cell_type": "code",
   "execution_count": 25,
   "id": "4e686e0c",
   "metadata": {},
   "outputs": [
    {
     "data": {
      "text/plain": [
       "0.73"
      ]
     },
     "execution_count": 25,
     "metadata": {},
     "output_type": "execute_result"
    }
   ],
   "source": [
    "round(mean(best_auc),2)"
   ]
  },
  {
   "cell_type": "code",
   "execution_count": 26,
   "id": "c2b67be4",
   "metadata": {},
   "outputs": [],
   "source": [
    "# sensitivity and specificity"
   ]
  },
  {
   "cell_type": "code",
   "execution_count": 27,
   "id": "8934b594",
   "metadata": {},
   "outputs": [],
   "source": [
    "# sensitivity for class '0' which is also specificity"
   ]
  },
  {
   "cell_type": "code",
   "execution_count": 28,
   "id": "f94d9d27",
   "metadata": {},
   "outputs": [],
   "source": [
    "sensitivity_class_zero = [0.63, 0.63, 0.64]"
   ]
  },
  {
   "cell_type": "code",
   "execution_count": 29,
   "id": "dca49341",
   "metadata": {},
   "outputs": [
    {
     "name": "stdout",
     "output_type": "stream",
     "text": [
      "sensitivity of class zero:  0.63\n"
     ]
    }
   ],
   "source": [
    "print(\"sensitivity of class zero: \", round(mean(sensitivity_class_zero),2))"
   ]
  },
  {
   "cell_type": "code",
   "execution_count": 30,
   "id": "efce9d3f",
   "metadata": {},
   "outputs": [],
   "source": [
    "# sensitivity for class one"
   ]
  },
  {
   "cell_type": "code",
   "execution_count": 31,
   "id": "78cb8958",
   "metadata": {},
   "outputs": [],
   "source": [
    "sensitivity_class_one = [0.71, 0.72, 0.70]"
   ]
  },
  {
   "cell_type": "code",
   "execution_count": 32,
   "id": "2f1d0e49",
   "metadata": {},
   "outputs": [
    {
     "name": "stdout",
     "output_type": "stream",
     "text": [
      "sensitivity of class one:  0.71\n"
     ]
    }
   ],
   "source": [
    "print(\"sensitivity of class one: \", round(mean(sensitivity_class_one),2))"
   ]
  },
  {
   "cell_type": "code",
   "execution_count": 33,
   "id": "bb58f51d",
   "metadata": {},
   "outputs": [],
   "source": [
    "# feature importance"
   ]
  },
  {
   "cell_type": "code",
   "execution_count": 34,
   "id": "2e25a124",
   "metadata": {},
   "outputs": [
    {
     "data": {
      "text/plain": [
       "[array([0.00718777, 0.00747187, 0.00643882, 0.02424586, 0.01293405,\n",
       "        0.00759067, 0.01527025, 0.00484842, 0.00740781, 0.00814805,\n",
       "        0.01006286, 0.0068118 , 0.00563556, 0.0067856 , 0.00494164,\n",
       "        0.0074306 , 0.00696332, 0.005282  , 0.00554652, 0.00772007,\n",
       "        0.01760774, 0.00719202, 0.00920184, 0.0048122 , 0.00877839,\n",
       "        0.00485834, 0.00618507, 0.02241566, 0.01500342, 0.00794539,\n",
       "        0.00958799, 0.00605717, 0.00738709, 0.01439904, 0.0126753 ,\n",
       "        0.00745294, 0.01171342, 0.00706934, 0.01405134, 0.02884346,\n",
       "        0.0292593 , 0.00947815, 0.00568122, 0.00783831, 0.00725902,\n",
       "        0.07695029, 0.02643902, 0.01950802, 0.02033434, 0.02250043,\n",
       "        0.        , 0.02375042, 0.01658232, 0.01433071, 0.        ,\n",
       "        0.        , 0.06055457, 0.04941668, 0.        , 0.        ,\n",
       "        0.        , 0.00648481, 0.10080805, 0.11086365], dtype=float32),\n",
       " array([0.00783542, 0.00620253, 0.00806714, 0.01129803, 0.00897973,\n",
       "        0.00792734, 0.00867067, 0.00754376, 0.01047948, 0.00814728,\n",
       "        0.01276403, 0.00857576, 0.00567406, 0.00547988, 0.00799022,\n",
       "        0.00805826, 0.0075239 , 0.00688738, 0.00808713, 0.00519194,\n",
       "        0.01503404, 0.00891232, 0.00886147, 0.00658619, 0.01036264,\n",
       "        0.00625046, 0.00650217, 0.02356205, 0.01731004, 0.00893103,\n",
       "        0.00785236, 0.00720715, 0.01039939, 0.01273092, 0.0077043 ,\n",
       "        0.00918406, 0.00924479, 0.00898062, 0.01379936, 0.01428648,\n",
       "        0.02592521, 0.01790633, 0.00740031, 0.00652337, 0.0061814 ,\n",
       "        0.07451802, 0.03391135, 0.01673494, 0.0220143 , 0.01996388,\n",
       "        0.        , 0.017992  , 0.0151401 , 0.01092931, 0.        ,\n",
       "        0.00228915, 0.05493725, 0.04721555, 0.00761111, 0.        ,\n",
       "        0.        , 0.00646461, 0.1069756 , 0.1242804 ], dtype=float32),\n",
       " array([0.00715233, 0.00738765, 0.00736605, 0.00891295, 0.00959526,\n",
       "        0.00756617, 0.00900342, 0.00435939, 0.00748772, 0.00724092,\n",
       "        0.01322776, 0.00941616, 0.00671323, 0.00498993, 0.00921015,\n",
       "        0.0084647 , 0.00830104, 0.00753767, 0.0081388 , 0.00583367,\n",
       "        0.01507127, 0.0094706 , 0.00897423, 0.0074891 , 0.01032013,\n",
       "        0.00474557, 0.00509368, 0.01494877, 0.01204045, 0.00747022,\n",
       "        0.00856185, 0.00676646, 0.00508327, 0.0166202 , 0.00813203,\n",
       "        0.0085493 , 0.01072098, 0.02069163, 0.01032514, 0.02284717,\n",
       "        0.02742884, 0.01039484, 0.00447095, 0.00516937, 0.00680296,\n",
       "        0.07381981, 0.02534031, 0.01886756, 0.0192482 , 0.02623464,\n",
       "        0.        , 0.02850966, 0.01658384, 0.01117557, 0.        ,\n",
       "        0.00612773, 0.0579886 , 0.05162931, 0.00741214, 0.01255509,\n",
       "        0.        , 0.0050385 , 0.10002551, 0.11334956], dtype=float32)]"
      ]
     },
     "execution_count": 34,
     "metadata": {},
     "output_type": "execute_result"
    }
   ],
   "source": [
    "feature_imp"
   ]
  },
  {
   "cell_type": "code",
   "execution_count": 35,
   "id": "ebfc87f7",
   "metadata": {},
   "outputs": [],
   "source": [
    "df_FI_0 = pd.DataFrame(feature_imp[0], columns = ['first'])\n",
    "df_FI_1 = pd.DataFrame(feature_imp[1], columns = ['second'])\n",
    "df_FI_2 = pd.DataFrame(feature_imp[2], columns = ['third'])"
   ]
  },
  {
   "cell_type": "code",
   "execution_count": 36,
   "id": "bde0d98d",
   "metadata": {},
   "outputs": [],
   "source": [
    "df_final_FI = pd.concat([df_FI_0, df_FI_1, df_FI_2], axis = 1)"
   ]
  },
  {
   "cell_type": "code",
   "execution_count": 37,
   "id": "e6cb6985",
   "metadata": {},
   "outputs": [
    {
     "data": {
      "text/html": [
       "<div>\n",
       "<style scoped>\n",
       "    .dataframe tbody tr th:only-of-type {\n",
       "        vertical-align: middle;\n",
       "    }\n",
       "\n",
       "    .dataframe tbody tr th {\n",
       "        vertical-align: top;\n",
       "    }\n",
       "\n",
       "    .dataframe thead th {\n",
       "        text-align: right;\n",
       "    }\n",
       "</style>\n",
       "<table border=\"1\" class=\"dataframe\">\n",
       "  <thead>\n",
       "    <tr style=\"text-align: right;\">\n",
       "      <th></th>\n",
       "      <th>first</th>\n",
       "      <th>second</th>\n",
       "      <th>third</th>\n",
       "    </tr>\n",
       "  </thead>\n",
       "  <tbody>\n",
       "    <tr>\n",
       "      <th>0</th>\n",
       "      <td>0.007188</td>\n",
       "      <td>0.007835</td>\n",
       "      <td>0.007152</td>\n",
       "    </tr>\n",
       "    <tr>\n",
       "      <th>1</th>\n",
       "      <td>0.007472</td>\n",
       "      <td>0.006203</td>\n",
       "      <td>0.007388</td>\n",
       "    </tr>\n",
       "    <tr>\n",
       "      <th>2</th>\n",
       "      <td>0.006439</td>\n",
       "      <td>0.008067</td>\n",
       "      <td>0.007366</td>\n",
       "    </tr>\n",
       "    <tr>\n",
       "      <th>3</th>\n",
       "      <td>0.024246</td>\n",
       "      <td>0.011298</td>\n",
       "      <td>0.008913</td>\n",
       "    </tr>\n",
       "    <tr>\n",
       "      <th>4</th>\n",
       "      <td>0.012934</td>\n",
       "      <td>0.008980</td>\n",
       "      <td>0.009595</td>\n",
       "    </tr>\n",
       "    <tr>\n",
       "      <th>...</th>\n",
       "      <td>...</td>\n",
       "      <td>...</td>\n",
       "      <td>...</td>\n",
       "    </tr>\n",
       "    <tr>\n",
       "      <th>59</th>\n",
       "      <td>0.000000</td>\n",
       "      <td>0.000000</td>\n",
       "      <td>0.012555</td>\n",
       "    </tr>\n",
       "    <tr>\n",
       "      <th>60</th>\n",
       "      <td>0.000000</td>\n",
       "      <td>0.000000</td>\n",
       "      <td>0.000000</td>\n",
       "    </tr>\n",
       "    <tr>\n",
       "      <th>61</th>\n",
       "      <td>0.006485</td>\n",
       "      <td>0.006465</td>\n",
       "      <td>0.005039</td>\n",
       "    </tr>\n",
       "    <tr>\n",
       "      <th>62</th>\n",
       "      <td>0.100808</td>\n",
       "      <td>0.106976</td>\n",
       "      <td>0.100026</td>\n",
       "    </tr>\n",
       "    <tr>\n",
       "      <th>63</th>\n",
       "      <td>0.110864</td>\n",
       "      <td>0.124280</td>\n",
       "      <td>0.113350</td>\n",
       "    </tr>\n",
       "  </tbody>\n",
       "</table>\n",
       "<p>64 rows × 3 columns</p>\n",
       "</div>"
      ],
      "text/plain": [
       "       first    second     third\n",
       "0   0.007188  0.007835  0.007152\n",
       "1   0.007472  0.006203  0.007388\n",
       "2   0.006439  0.008067  0.007366\n",
       "3   0.024246  0.011298  0.008913\n",
       "4   0.012934  0.008980  0.009595\n",
       "..       ...       ...       ...\n",
       "59  0.000000  0.000000  0.012555\n",
       "60  0.000000  0.000000  0.000000\n",
       "61  0.006485  0.006465  0.005039\n",
       "62  0.100808  0.106976  0.100026\n",
       "63  0.110864  0.124280  0.113350\n",
       "\n",
       "[64 rows x 3 columns]"
      ]
     },
     "execution_count": 37,
     "metadata": {},
     "output_type": "execute_result"
    }
   ],
   "source": [
    "df_final_FI"
   ]
  },
  {
   "cell_type": "code",
   "execution_count": 38,
   "id": "bef4669c",
   "metadata": {},
   "outputs": [],
   "source": [
    "df_final_FI.to_csv(\"FI_values_cv_crf_plus_pw.csv\")"
   ]
  },
  {
   "cell_type": "code",
   "execution_count": 44,
   "id": "bd33e0da",
   "metadata": {},
   "outputs": [],
   "source": [
    "# pred prob"
   ]
  },
  {
   "cell_type": "code",
   "execution_count": 40,
   "id": "f141b184",
   "metadata": {},
   "outputs": [],
   "source": [
    "df_predict_0 = pd.DataFrame(predict_prob[0], columns = ['first_0','first_1'])\n",
    "df_predict_1 = pd.DataFrame(predict_prob[1], columns = ['second_0','second_1'])\n",
    "df_predict_2 = pd.DataFrame(predict_prob[2], columns = ['third_0','third_1'])"
   ]
  },
  {
   "cell_type": "code",
   "execution_count": 41,
   "id": "71afc3b7",
   "metadata": {},
   "outputs": [],
   "source": [
    "df_final_pred = pd.concat([df_predict_0, df_predict_1, df_predict_2], axis = 1)"
   ]
  },
  {
   "cell_type": "code",
   "execution_count": 42,
   "id": "8b5e1981",
   "metadata": {},
   "outputs": [
    {
     "data": {
      "text/html": [
       "<div>\n",
       "<style scoped>\n",
       "    .dataframe tbody tr th:only-of-type {\n",
       "        vertical-align: middle;\n",
       "    }\n",
       "\n",
       "    .dataframe tbody tr th {\n",
       "        vertical-align: top;\n",
       "    }\n",
       "\n",
       "    .dataframe thead th {\n",
       "        text-align: right;\n",
       "    }\n",
       "</style>\n",
       "<table border=\"1\" class=\"dataframe\">\n",
       "  <thead>\n",
       "    <tr style=\"text-align: right;\">\n",
       "      <th></th>\n",
       "      <th>first_0</th>\n",
       "      <th>first_1</th>\n",
       "      <th>second_0</th>\n",
       "      <th>second_1</th>\n",
       "      <th>third_0</th>\n",
       "      <th>third_1</th>\n",
       "    </tr>\n",
       "  </thead>\n",
       "  <tbody>\n",
       "    <tr>\n",
       "      <th>0</th>\n",
       "      <td>0.602960</td>\n",
       "      <td>0.397040</td>\n",
       "      <td>0.304788</td>\n",
       "      <td>0.695212</td>\n",
       "      <td>0.800321</td>\n",
       "      <td>0.199679</td>\n",
       "    </tr>\n",
       "    <tr>\n",
       "      <th>1</th>\n",
       "      <td>0.362669</td>\n",
       "      <td>0.637331</td>\n",
       "      <td>0.460806</td>\n",
       "      <td>0.539194</td>\n",
       "      <td>0.824323</td>\n",
       "      <td>0.175677</td>\n",
       "    </tr>\n",
       "    <tr>\n",
       "      <th>2</th>\n",
       "      <td>0.650001</td>\n",
       "      <td>0.349999</td>\n",
       "      <td>0.516524</td>\n",
       "      <td>0.483476</td>\n",
       "      <td>0.631242</td>\n",
       "      <td>0.368758</td>\n",
       "    </tr>\n",
       "    <tr>\n",
       "      <th>3</th>\n",
       "      <td>0.445062</td>\n",
       "      <td>0.554938</td>\n",
       "      <td>0.512973</td>\n",
       "      <td>0.487027</td>\n",
       "      <td>0.880091</td>\n",
       "      <td>0.119909</td>\n",
       "    </tr>\n",
       "    <tr>\n",
       "      <th>4</th>\n",
       "      <td>0.276152</td>\n",
       "      <td>0.723848</td>\n",
       "      <td>0.553566</td>\n",
       "      <td>0.446434</td>\n",
       "      <td>0.723673</td>\n",
       "      <td>0.276327</td>\n",
       "    </tr>\n",
       "    <tr>\n",
       "      <th>...</th>\n",
       "      <td>...</td>\n",
       "      <td>...</td>\n",
       "      <td>...</td>\n",
       "      <td>...</td>\n",
       "      <td>...</td>\n",
       "      <td>...</td>\n",
       "    </tr>\n",
       "    <tr>\n",
       "      <th>6863</th>\n",
       "      <td>0.537658</td>\n",
       "      <td>0.462342</td>\n",
       "      <td>0.431852</td>\n",
       "      <td>0.568148</td>\n",
       "      <td>0.439017</td>\n",
       "      <td>0.560983</td>\n",
       "    </tr>\n",
       "    <tr>\n",
       "      <th>6864</th>\n",
       "      <td>0.390352</td>\n",
       "      <td>0.609648</td>\n",
       "      <td>0.136890</td>\n",
       "      <td>0.863110</td>\n",
       "      <td>0.316144</td>\n",
       "      <td>0.683856</td>\n",
       "    </tr>\n",
       "    <tr>\n",
       "      <th>6865</th>\n",
       "      <td>0.268876</td>\n",
       "      <td>0.731124</td>\n",
       "      <td>0.430887</td>\n",
       "      <td>0.569113</td>\n",
       "      <td>0.368494</td>\n",
       "      <td>0.631506</td>\n",
       "    </tr>\n",
       "    <tr>\n",
       "      <th>6866</th>\n",
       "      <td>0.347481</td>\n",
       "      <td>0.652519</td>\n",
       "      <td>0.630160</td>\n",
       "      <td>0.369840</td>\n",
       "      <td>0.180385</td>\n",
       "      <td>0.819615</td>\n",
       "    </tr>\n",
       "    <tr>\n",
       "      <th>6867</th>\n",
       "      <td>0.392184</td>\n",
       "      <td>0.607816</td>\n",
       "      <td>NaN</td>\n",
       "      <td>NaN</td>\n",
       "      <td>NaN</td>\n",
       "      <td>NaN</td>\n",
       "    </tr>\n",
       "  </tbody>\n",
       "</table>\n",
       "<p>6868 rows × 6 columns</p>\n",
       "</div>"
      ],
      "text/plain": [
       "       first_0   first_1  second_0  second_1   third_0   third_1\n",
       "0     0.602960  0.397040  0.304788  0.695212  0.800321  0.199679\n",
       "1     0.362669  0.637331  0.460806  0.539194  0.824323  0.175677\n",
       "2     0.650001  0.349999  0.516524  0.483476  0.631242  0.368758\n",
       "3     0.445062  0.554938  0.512973  0.487027  0.880091  0.119909\n",
       "4     0.276152  0.723848  0.553566  0.446434  0.723673  0.276327\n",
       "...        ...       ...       ...       ...       ...       ...\n",
       "6863  0.537658  0.462342  0.431852  0.568148  0.439017  0.560983\n",
       "6864  0.390352  0.609648  0.136890  0.863110  0.316144  0.683856\n",
       "6865  0.268876  0.731124  0.430887  0.569113  0.368494  0.631506\n",
       "6866  0.347481  0.652519  0.630160  0.369840  0.180385  0.819615\n",
       "6867  0.392184  0.607816       NaN       NaN       NaN       NaN\n",
       "\n",
       "[6868 rows x 6 columns]"
      ]
     },
     "execution_count": 42,
     "metadata": {},
     "output_type": "execute_result"
    }
   ],
   "source": [
    "df_final_pred"
   ]
  },
  {
   "cell_type": "code",
   "execution_count": 43,
   "id": "60cb0b35",
   "metadata": {},
   "outputs": [],
   "source": [
    "df_final_pred.to_csv(\"prob_values_cv_crf_plus_pw.csv\")"
   ]
  },
  {
   "cell_type": "code",
   "execution_count": 2,
   "id": "0ccb6089",
   "metadata": {},
   "outputs": [],
   "source": [
    "# Getting AUC from outer loop, average over 3 folds"
   ]
  },
  {
   "cell_type": "code",
   "execution_count": 3,
   "id": "61a294d0",
   "metadata": {},
   "outputs": [],
   "source": [
    "auc_outer_loop = [0.74, 0.74, 0.73]"
   ]
  },
  {
   "cell_type": "code",
   "execution_count": 4,
   "id": "7f6dbb7b",
   "metadata": {},
   "outputs": [],
   "source": [
    "auc_outer_loop_mean = round(mean(auc_outer_loop),2)"
   ]
  },
  {
   "cell_type": "code",
   "execution_count": 5,
   "id": "ba01b80e",
   "metadata": {},
   "outputs": [
    {
     "name": "stdout",
     "output_type": "stream",
     "text": [
      "0.74\n"
     ]
    }
   ],
   "source": [
    "print(auc_outer_loop_mean)"
   ]
  },
  {
   "cell_type": "code",
   "execution_count": null,
   "id": "1bd2c596",
   "metadata": {},
   "outputs": [],
   "source": []
  }
 ],
 "metadata": {
  "kernelspec": {
   "display_name": "Python 3 (ipykernel)",
   "language": "python",
   "name": "python3"
  },
  "language_info": {
   "codemirror_mode": {
    "name": "ipython",
    "version": 3
   },
   "file_extension": ".py",
   "mimetype": "text/x-python",
   "name": "python",
   "nbconvert_exporter": "python",
   "pygments_lexer": "ipython3",
   "version": "3.9.7"
  }
 },
 "nbformat": 4,
 "nbformat_minor": 5
}
