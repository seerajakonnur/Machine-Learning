{
 "cells": [
  {
   "cell_type": "code",
   "execution_count": 1,
   "id": "af3316d8",
   "metadata": {},
   "outputs": [],
   "source": [
    "import numpy as np\n",
    "import pandas as pd\n",
    "import matplotlib.pyplot as plt\n",
    "\n",
    "from xgboost import XGBClassifier\n",
    "from xgboost import plot_importance\n",
    "from numpy import mean\n",
    "from numpy import std\n",
    "from sklearn.model_selection import KFold\n",
    "from sklearn.model_selection import GridSearchCV\n",
    "from sklearn.metrics import confusion_matrix, plot_confusion_matrix, classification_report\n",
    "from sklearn.metrics import accuracy_score\n",
    "from sklearn import metrics\n",
    "\n",
    "from sklearn import metrics\n",
    "from sklearn.metrics import RocCurveDisplay"
   ]
  },
  {
   "cell_type": "code",
   "execution_count": 2,
   "id": "355798c1",
   "metadata": {},
   "outputs": [],
   "source": [
    "data_x = pd.read_csv(\"cv_x_under.csv\")"
   ]
  },
  {
   "cell_type": "code",
   "execution_count": 3,
   "id": "34d39055",
   "metadata": {},
   "outputs": [
    {
     "data": {
      "text/html": [
       "<div>\n",
       "<style scoped>\n",
       "    .dataframe tbody tr th:only-of-type {\n",
       "        vertical-align: middle;\n",
       "    }\n",
       "\n",
       "    .dataframe tbody tr th {\n",
       "        vertical-align: top;\n",
       "    }\n",
       "\n",
       "    .dataframe thead th {\n",
       "        text-align: right;\n",
       "    }\n",
       "</style>\n",
       "<table border=\"1\" class=\"dataframe\">\n",
       "  <thead>\n",
       "    <tr style=\"text-align: right;\">\n",
       "      <th></th>\n",
       "      <th>Unnamed: 0</th>\n",
       "      <th>T</th>\n",
       "      <th>delta_t</th>\n",
       "      <th>CT</th>\n",
       "      <th>prop_s</th>\n",
       "      <th>t_sys</th>\n",
       "      <th>t_dia</th>\n",
       "      <th>t_ratio</th>\n",
       "      <th>prop_delta_t</th>\n",
       "      <th>t_p1in_dia</th>\n",
       "      <th>...</th>\n",
       "      <th>Smoking status_Prefer not to answer</th>\n",
       "      <th>Smoking status_Previous</th>\n",
       "      <th>Sex_Female</th>\n",
       "      <th>Sex_Male</th>\n",
       "      <th>Ethnic background_Asian</th>\n",
       "      <th>Ethnic background_Black</th>\n",
       "      <th>Ethnic background_other including mixed</th>\n",
       "      <th>Ethnic background_white/not recorded</th>\n",
       "      <th>bp medication_0.0</th>\n",
       "      <th>bp medication_1.0</th>\n",
       "    </tr>\n",
       "  </thead>\n",
       "  <tbody>\n",
       "    <tr>\n",
       "      <th>0</th>\n",
       "      <td>0</td>\n",
       "      <td>0.80270</td>\n",
       "      <td>0.12973</td>\n",
       "      <td>0.202700</td>\n",
       "      <td>0.25253</td>\n",
       "      <td>0.28378</td>\n",
       "      <td>0.51892</td>\n",
       "      <td>0.54688</td>\n",
       "      <td>0.16162</td>\n",
       "      <td>0.17027</td>\n",
       "      <td>...</td>\n",
       "      <td>0</td>\n",
       "      <td>0</td>\n",
       "      <td>0</td>\n",
       "      <td>1</td>\n",
       "      <td>0</td>\n",
       "      <td>0</td>\n",
       "      <td>0</td>\n",
       "      <td>1</td>\n",
       "      <td>1</td>\n",
       "      <td>0</td>\n",
       "    </tr>\n",
       "    <tr>\n",
       "      <th>1</th>\n",
       "      <td>1</td>\n",
       "      <td>0.80270</td>\n",
       "      <td>0.14595</td>\n",
       "      <td>0.210810</td>\n",
       "      <td>0.26263</td>\n",
       "      <td>0.30811</td>\n",
       "      <td>0.49459</td>\n",
       "      <td>0.62295</td>\n",
       "      <td>0.18182</td>\n",
       "      <td>0.18649</td>\n",
       "      <td>...</td>\n",
       "      <td>0</td>\n",
       "      <td>0</td>\n",
       "      <td>1</td>\n",
       "      <td>0</td>\n",
       "      <td>0</td>\n",
       "      <td>1</td>\n",
       "      <td>0</td>\n",
       "      <td>0</td>\n",
       "      <td>1</td>\n",
       "      <td>0</td>\n",
       "    </tr>\n",
       "    <tr>\n",
       "      <th>2</th>\n",
       "      <td>2</td>\n",
       "      <td>0.76154</td>\n",
       "      <td>0.12308</td>\n",
       "      <td>0.200000</td>\n",
       "      <td>0.26263</td>\n",
       "      <td>0.28462</td>\n",
       "      <td>0.47692</td>\n",
       "      <td>0.59677</td>\n",
       "      <td>0.16162</td>\n",
       "      <td>0.16154</td>\n",
       "      <td>...</td>\n",
       "      <td>0</td>\n",
       "      <td>1</td>\n",
       "      <td>0</td>\n",
       "      <td>1</td>\n",
       "      <td>0</td>\n",
       "      <td>0</td>\n",
       "      <td>0</td>\n",
       "      <td>1</td>\n",
       "      <td>0</td>\n",
       "      <td>1</td>\n",
       "    </tr>\n",
       "    <tr>\n",
       "      <th>3</th>\n",
       "      <td>3</td>\n",
       "      <td>0.94286</td>\n",
       "      <td>0.31429</td>\n",
       "      <td>0.095238</td>\n",
       "      <td>0.10101</td>\n",
       "      <td>0.35238</td>\n",
       "      <td>0.59048</td>\n",
       "      <td>0.59677</td>\n",
       "      <td>0.33333</td>\n",
       "      <td>0.27619</td>\n",
       "      <td>...</td>\n",
       "      <td>0</td>\n",
       "      <td>0</td>\n",
       "      <td>0</td>\n",
       "      <td>1</td>\n",
       "      <td>0</td>\n",
       "      <td>0</td>\n",
       "      <td>0</td>\n",
       "      <td>1</td>\n",
       "      <td>1</td>\n",
       "      <td>0</td>\n",
       "    </tr>\n",
       "    <tr>\n",
       "      <th>4</th>\n",
       "      <td>4</td>\n",
       "      <td>0.71566</td>\n",
       "      <td>0.22410</td>\n",
       "      <td>0.231330</td>\n",
       "      <td>0.32323</td>\n",
       "      <td>0.42651</td>\n",
       "      <td>0.28916</td>\n",
       "      <td>1.47500</td>\n",
       "      <td>0.31313</td>\n",
       "      <td>0.36867</td>\n",
       "      <td>...</td>\n",
       "      <td>0</td>\n",
       "      <td>0</td>\n",
       "      <td>1</td>\n",
       "      <td>0</td>\n",
       "      <td>0</td>\n",
       "      <td>0</td>\n",
       "      <td>0</td>\n",
       "      <td>1</td>\n",
       "      <td>1</td>\n",
       "      <td>0</td>\n",
       "    </tr>\n",
       "  </tbody>\n",
       "</table>\n",
       "<p>5 rows × 65 columns</p>\n",
       "</div>"
      ],
      "text/plain": [
       "   Unnamed: 0        T  delta_t        CT   prop_s    t_sys    t_dia  t_ratio  \\\n",
       "0           0  0.80270  0.12973  0.202700  0.25253  0.28378  0.51892  0.54688   \n",
       "1           1  0.80270  0.14595  0.210810  0.26263  0.30811  0.49459  0.62295   \n",
       "2           2  0.76154  0.12308  0.200000  0.26263  0.28462  0.47692  0.59677   \n",
       "3           3  0.94286  0.31429  0.095238  0.10101  0.35238  0.59048  0.59677   \n",
       "4           4  0.71566  0.22410  0.231330  0.32323  0.42651  0.28916  1.47500   \n",
       "\n",
       "   prop_delta_t  t_p1in_dia  ...  Smoking status_Prefer not to answer  \\\n",
       "0       0.16162     0.17027  ...                                    0   \n",
       "1       0.18182     0.18649  ...                                    0   \n",
       "2       0.16162     0.16154  ...                                    0   \n",
       "3       0.33333     0.27619  ...                                    0   \n",
       "4       0.31313     0.36867  ...                                    0   \n",
       "\n",
       "   Smoking status_Previous  Sex_Female  Sex_Male  Ethnic background_Asian  \\\n",
       "0                        0           0         1                        0   \n",
       "1                        0           1         0                        0   \n",
       "2                        1           0         1                        0   \n",
       "3                        0           0         1                        0   \n",
       "4                        0           1         0                        0   \n",
       "\n",
       "   Ethnic background_Black  Ethnic background_other including mixed  \\\n",
       "0                        0                                        0   \n",
       "1                        1                                        0   \n",
       "2                        0                                        0   \n",
       "3                        0                                        0   \n",
       "4                        0                                        0   \n",
       "\n",
       "   Ethnic background_white/not recorded  bp medication_0.0  bp medication_1.0  \n",
       "0                                     1                  1                  0  \n",
       "1                                     0                  1                  0  \n",
       "2                                     1                  0                  1  \n",
       "3                                     1                  1                  0  \n",
       "4                                     1                  1                  0  \n",
       "\n",
       "[5 rows x 65 columns]"
      ]
     },
     "execution_count": 3,
     "metadata": {},
     "output_type": "execute_result"
    }
   ],
   "source": [
    "data_x.head()"
   ]
  },
  {
   "cell_type": "code",
   "execution_count": 6,
   "id": "fbbd429c",
   "metadata": {},
   "outputs": [],
   "source": [
    "data_pw = data_x.iloc[:, 1:46]"
   ]
  },
  {
   "cell_type": "code",
   "execution_count": 7,
   "id": "d2239940",
   "metadata": {},
   "outputs": [
    {
     "data": {
      "text/html": [
       "<div>\n",
       "<style scoped>\n",
       "    .dataframe tbody tr th:only-of-type {\n",
       "        vertical-align: middle;\n",
       "    }\n",
       "\n",
       "    .dataframe tbody tr th {\n",
       "        vertical-align: top;\n",
       "    }\n",
       "\n",
       "    .dataframe thead th {\n",
       "        text-align: right;\n",
       "    }\n",
       "</style>\n",
       "<table border=\"1\" class=\"dataframe\">\n",
       "  <thead>\n",
       "    <tr style=\"text-align: right;\">\n",
       "      <th></th>\n",
       "      <th>T</th>\n",
       "      <th>delta_t</th>\n",
       "      <th>CT</th>\n",
       "      <th>prop_s</th>\n",
       "      <th>t_sys</th>\n",
       "      <th>t_dia</th>\n",
       "      <th>t_ratio</th>\n",
       "      <th>prop_delta_t</th>\n",
       "      <th>t_p1in_dia</th>\n",
       "      <th>t_p2in_dia</th>\n",
       "      <th>...</th>\n",
       "      <th>e_div_amp</th>\n",
       "      <th>AGI</th>\n",
       "      <th>AGI_inf</th>\n",
       "      <th>AGI_mod</th>\n",
       "      <th>slope_b_c</th>\n",
       "      <th>slope_b_d</th>\n",
       "      <th>IPAD</th>\n",
       "      <th>k</th>\n",
       "      <th>CT_div_ht</th>\n",
       "      <th>SI</th>\n",
       "    </tr>\n",
       "  </thead>\n",
       "  <tbody>\n",
       "    <tr>\n",
       "      <th>0</th>\n",
       "      <td>0.80270</td>\n",
       "      <td>0.12973</td>\n",
       "      <td>0.202700</td>\n",
       "      <td>0.25253</td>\n",
       "      <td>0.28378</td>\n",
       "      <td>0.51892</td>\n",
       "      <td>0.54688</td>\n",
       "      <td>0.16162</td>\n",
       "      <td>0.17027</td>\n",
       "      <td>0.12973</td>\n",
       "      <td>...</td>\n",
       "      <td>328175.6225</td>\n",
       "      <td>-0.581240</td>\n",
       "      <td>-0.93115</td>\n",
       "      <td>-0.40414</td>\n",
       "      <td>7.5894</td>\n",
       "      <td>4.7822</td>\n",
       "      <td>0.91751</td>\n",
       "      <td>-0.000009</td>\n",
       "      <td>0.115829</td>\n",
       "      <td>13.489555</td>\n",
       "    </tr>\n",
       "    <tr>\n",
       "      <th>1</th>\n",
       "      <td>0.80270</td>\n",
       "      <td>0.14595</td>\n",
       "      <td>0.210810</td>\n",
       "      <td>0.26263</td>\n",
       "      <td>0.30811</td>\n",
       "      <td>0.49459</td>\n",
       "      <td>0.62295</td>\n",
       "      <td>0.18182</td>\n",
       "      <td>0.18649</td>\n",
       "      <td>0.14595</td>\n",
       "      <td>...</td>\n",
       "      <td>210854.4495</td>\n",
       "      <td>-0.036414</td>\n",
       "      <td>-0.82459</td>\n",
       "      <td>0.12003</td>\n",
       "      <td>4.7214</td>\n",
       "      <td>2.2946</td>\n",
       "      <td>0.30697</td>\n",
       "      <td>-0.000011</td>\n",
       "      <td>0.126994</td>\n",
       "      <td>11.373758</td>\n",
       "    </tr>\n",
       "    <tr>\n",
       "      <th>2</th>\n",
       "      <td>0.76154</td>\n",
       "      <td>0.12308</td>\n",
       "      <td>0.200000</td>\n",
       "      <td>0.26263</td>\n",
       "      <td>0.28462</td>\n",
       "      <td>0.47692</td>\n",
       "      <td>0.59677</td>\n",
       "      <td>0.16162</td>\n",
       "      <td>0.16154</td>\n",
       "      <td>0.12308</td>\n",
       "      <td>...</td>\n",
       "      <td>437918.2404</td>\n",
       "      <td>-0.512490</td>\n",
       "      <td>-1.04480</td>\n",
       "      <td>-0.26649</td>\n",
       "      <td>8.6320</td>\n",
       "      <td>4.3431</td>\n",
       "      <td>0.66480</td>\n",
       "      <td>-0.000009</td>\n",
       "      <td>0.114286</td>\n",
       "      <td>14.218395</td>\n",
       "    </tr>\n",
       "    <tr>\n",
       "      <th>3</th>\n",
       "      <td>0.94286</td>\n",
       "      <td>0.31429</td>\n",
       "      <td>0.095238</td>\n",
       "      <td>0.10101</td>\n",
       "      <td>0.35238</td>\n",
       "      <td>0.59048</td>\n",
       "      <td>0.59677</td>\n",
       "      <td>0.33333</td>\n",
       "      <td>0.27619</td>\n",
       "      <td>0.16190</td>\n",
       "      <td>...</td>\n",
       "      <td>935901.7033</td>\n",
       "      <td>-1.636000</td>\n",
       "      <td>-1.65250</td>\n",
       "      <td>-1.21540</td>\n",
       "      <td>23.9125</td>\n",
       "      <td>4.9764</td>\n",
       "      <td>0.22734</td>\n",
       "      <td>-0.000007</td>\n",
       "      <td>0.059154</td>\n",
       "      <td>5.122657</td>\n",
       "    </tr>\n",
       "    <tr>\n",
       "      <th>4</th>\n",
       "      <td>0.71566</td>\n",
       "      <td>0.22410</td>\n",
       "      <td>0.231330</td>\n",
       "      <td>0.32323</td>\n",
       "      <td>0.42651</td>\n",
       "      <td>0.28916</td>\n",
       "      <td>1.47500</td>\n",
       "      <td>0.31313</td>\n",
       "      <td>0.36867</td>\n",
       "      <td>0.12289</td>\n",
       "      <td>...</td>\n",
       "      <td>400551.6764</td>\n",
       "      <td>-1.623400</td>\n",
       "      <td>-2.63430</td>\n",
       "      <td>-0.88546</td>\n",
       "      <td>16.8424</td>\n",
       "      <td>3.0246</td>\n",
       "      <td>-1.04270</td>\n",
       "      <td>-0.000016</td>\n",
       "      <td>0.137696</td>\n",
       "      <td>7.496653</td>\n",
       "    </tr>\n",
       "  </tbody>\n",
       "</table>\n",
       "<p>5 rows × 45 columns</p>\n",
       "</div>"
      ],
      "text/plain": [
       "         T  delta_t        CT   prop_s    t_sys    t_dia  t_ratio  \\\n",
       "0  0.80270  0.12973  0.202700  0.25253  0.28378  0.51892  0.54688   \n",
       "1  0.80270  0.14595  0.210810  0.26263  0.30811  0.49459  0.62295   \n",
       "2  0.76154  0.12308  0.200000  0.26263  0.28462  0.47692  0.59677   \n",
       "3  0.94286  0.31429  0.095238  0.10101  0.35238  0.59048  0.59677   \n",
       "4  0.71566  0.22410  0.231330  0.32323  0.42651  0.28916  1.47500   \n",
       "\n",
       "   prop_delta_t  t_p1in_dia  t_p2in_dia  ...    e_div_amp       AGI  AGI_inf  \\\n",
       "0       0.16162     0.17027     0.12973  ...  328175.6225 -0.581240 -0.93115   \n",
       "1       0.18182     0.18649     0.14595  ...  210854.4495 -0.036414 -0.82459   \n",
       "2       0.16162     0.16154     0.12308  ...  437918.2404 -0.512490 -1.04480   \n",
       "3       0.33333     0.27619     0.16190  ...  935901.7033 -1.636000 -1.65250   \n",
       "4       0.31313     0.36867     0.12289  ...  400551.6764 -1.623400 -2.63430   \n",
       "\n",
       "   AGI_mod  slope_b_c  slope_b_d     IPAD         k  CT_div_ht         SI  \n",
       "0 -0.40414     7.5894     4.7822  0.91751 -0.000009   0.115829  13.489555  \n",
       "1  0.12003     4.7214     2.2946  0.30697 -0.000011   0.126994  11.373758  \n",
       "2 -0.26649     8.6320     4.3431  0.66480 -0.000009   0.114286  14.218395  \n",
       "3 -1.21540    23.9125     4.9764  0.22734 -0.000007   0.059154   5.122657  \n",
       "4 -0.88546    16.8424     3.0246 -1.04270 -0.000016   0.137696   7.496653  \n",
       "\n",
       "[5 rows x 45 columns]"
      ]
     },
     "execution_count": 7,
     "metadata": {},
     "output_type": "execute_result"
    }
   ],
   "source": [
    "data_pw.head()"
   ]
  },
  {
   "cell_type": "code",
   "execution_count": 8,
   "id": "7d7ad605",
   "metadata": {},
   "outputs": [
    {
     "data": {
      "text/plain": [
       "(20602, 45)"
      ]
     },
     "execution_count": 8,
     "metadata": {},
     "output_type": "execute_result"
    }
   ],
   "source": [
    "data_pw.shape"
   ]
  },
  {
   "cell_type": "code",
   "execution_count": 9,
   "id": "ea712190",
   "metadata": {},
   "outputs": [
    {
     "data": {
      "text/plain": [
       "927090"
      ]
     },
     "execution_count": 9,
     "metadata": {},
     "output_type": "execute_result"
    }
   ],
   "source": [
    "data_pw.size"
   ]
  },
  {
   "cell_type": "code",
   "execution_count": 10,
   "id": "2efa7d13",
   "metadata": {},
   "outputs": [],
   "source": [
    "X = data_pw.values"
   ]
  },
  {
   "cell_type": "code",
   "execution_count": 11,
   "id": "a41b5c82",
   "metadata": {},
   "outputs": [
    {
     "data": {
      "text/plain": [
       "(20602, 45)"
      ]
     },
     "execution_count": 11,
     "metadata": {},
     "output_type": "execute_result"
    }
   ],
   "source": [
    "X.shape"
   ]
  },
  {
   "cell_type": "code",
   "execution_count": 12,
   "id": "c53923be",
   "metadata": {},
   "outputs": [
    {
     "data": {
      "text/plain": [
       "927090"
      ]
     },
     "execution_count": 12,
     "metadata": {},
     "output_type": "execute_result"
    }
   ],
   "source": [
    "X.size"
   ]
  },
  {
   "cell_type": "code",
   "execution_count": 13,
   "id": "b3df277a",
   "metadata": {},
   "outputs": [],
   "source": [
    "# reading the output variable"
   ]
  },
  {
   "cell_type": "code",
   "execution_count": 14,
   "id": "683849dd",
   "metadata": {},
   "outputs": [],
   "source": [
    "data_y = pd.read_csv(\"cv_y_under.csv\")"
   ]
  },
  {
   "cell_type": "code",
   "execution_count": 15,
   "id": "d2157c6b",
   "metadata": {},
   "outputs": [],
   "source": [
    "data_y = data_y.drop(['Unnamed: 0'], axis=1)"
   ]
  },
  {
   "cell_type": "code",
   "execution_count": 16,
   "id": "16a89436",
   "metadata": {},
   "outputs": [
    {
     "data": {
      "text/html": [
       "<div>\n",
       "<style scoped>\n",
       "    .dataframe tbody tr th:only-of-type {\n",
       "        vertical-align: middle;\n",
       "    }\n",
       "\n",
       "    .dataframe tbody tr th {\n",
       "        vertical-align: top;\n",
       "    }\n",
       "\n",
       "    .dataframe thead th {\n",
       "        text-align: right;\n",
       "    }\n",
       "</style>\n",
       "<table border=\"1\" class=\"dataframe\">\n",
       "  <thead>\n",
       "    <tr style=\"text-align: right;\">\n",
       "      <th></th>\n",
       "      <th>cv</th>\n",
       "    </tr>\n",
       "  </thead>\n",
       "  <tbody>\n",
       "    <tr>\n",
       "      <th>0</th>\n",
       "      <td>0</td>\n",
       "    </tr>\n",
       "    <tr>\n",
       "      <th>1</th>\n",
       "      <td>0</td>\n",
       "    </tr>\n",
       "    <tr>\n",
       "      <th>2</th>\n",
       "      <td>0</td>\n",
       "    </tr>\n",
       "    <tr>\n",
       "      <th>3</th>\n",
       "      <td>0</td>\n",
       "    </tr>\n",
       "    <tr>\n",
       "      <th>4</th>\n",
       "      <td>0</td>\n",
       "    </tr>\n",
       "  </tbody>\n",
       "</table>\n",
       "</div>"
      ],
      "text/plain": [
       "   cv\n",
       "0   0\n",
       "1   0\n",
       "2   0\n",
       "3   0\n",
       "4   0"
      ]
     },
     "execution_count": 16,
     "metadata": {},
     "output_type": "execute_result"
    }
   ],
   "source": [
    "data_y.head()"
   ]
  },
  {
   "cell_type": "code",
   "execution_count": 17,
   "id": "b93bbe63",
   "metadata": {},
   "outputs": [
    {
     "data": {
      "text/plain": [
       "(20602, 1)"
      ]
     },
     "execution_count": 17,
     "metadata": {},
     "output_type": "execute_result"
    }
   ],
   "source": [
    "data_y.shape"
   ]
  },
  {
   "cell_type": "code",
   "execution_count": 18,
   "id": "469211f4",
   "metadata": {},
   "outputs": [],
   "source": [
    "y = data_y.values"
   ]
  },
  {
   "cell_type": "code",
   "execution_count": 19,
   "id": "0043bf5c",
   "metadata": {},
   "outputs": [
    {
     "data": {
      "text/plain": [
       "array([[0],\n",
       "       [0],\n",
       "       [0],\n",
       "       [0],\n",
       "       [0],\n",
       "       [0],\n",
       "       [0],\n",
       "       [0],\n",
       "       [0],\n",
       "       [0]], dtype=int64)"
      ]
     },
     "execution_count": 19,
     "metadata": {},
     "output_type": "execute_result"
    }
   ],
   "source": [
    "y[:10]"
   ]
  },
  {
   "cell_type": "code",
   "execution_count": 20,
   "id": "bddb06da",
   "metadata": {},
   "outputs": [
    {
     "data": {
      "text/plain": [
       "(20602, 1)"
      ]
     },
     "execution_count": 20,
     "metadata": {},
     "output_type": "execute_result"
    }
   ],
   "source": [
    "y.shape"
   ]
  },
  {
   "cell_type": "code",
   "execution_count": 21,
   "id": "7c1b3f9c",
   "metadata": {},
   "outputs": [],
   "source": [
    "# nested cv"
   ]
  },
  {
   "cell_type": "code",
   "execution_count": 22,
   "id": "659ef237",
   "metadata": {},
   "outputs": [],
   "source": [
    "cv_outer = KFold(n_splits=3, shuffle=True, random_state=42)\n",
    "\n",
    "best_auc = []\n",
    "predict_prob = []\n",
    "feature_imp = []"
   ]
  },
  {
   "cell_type": "code",
   "execution_count": 23,
   "id": "5759fd57",
   "metadata": {},
   "outputs": [
    {
     "name": "stdout",
     "output_type": "stream",
     "text": [
      "best auc score is : \n",
      "0.6237654454505376\n",
      "[[0.50759745 0.49240258]\n",
      " [0.6377983  0.36220172]\n",
      " [0.5933611  0.40663892]\n",
      " ...\n",
      " [0.4535516  0.5464484 ]\n",
      " [0.29331404 0.70668596]\n",
      " [0.5381449  0.4618551 ]]\n",
      "accuracy on test data: \n",
      "0.5926033779848573\n",
      "[[1989 1465]\n",
      " [1333 2081]]\n",
      "              precision    recall  f1-score   support\n",
      "\n",
      "           0       0.60      0.58      0.59      3454\n",
      "           1       0.59      0.61      0.60      3414\n",
      "\n",
      "    accuracy                           0.59      6868\n",
      "   macro avg       0.59      0.59      0.59      6868\n",
      "weighted avg       0.59      0.59      0.59      6868\n",
      "\n",
      "feature importances are: \n",
      "[0.01653096 0.0183285  0.01847441 0.01927463 0.03002433 0.02064048\n",
      " 0.02188894 0.02330538 0.02005198 0.01899012 0.01898029 0.01781117\n",
      " 0.01227387 0.01522137 0.01289181 0.01823665 0.01925325 0.0177654\n",
      " 0.01902098 0.01958778 0.02645231 0.02052545 0.02196207 0.01962151\n",
      " 0.02037017 0.01856764 0.01806872 0.04797664 0.02374527 0.01985336\n",
      " 0.02812595 0.01871942 0.01826578 0.02924969 0.0194541  0.02119904\n",
      " 0.02867502 0.02119118 0.03845265 0.05713054 0.01602264 0.02131347\n",
      " 0.01970584 0.0222046  0.02459469]\n",
      "best parametrs: \n",
      "{'colsample_bytree': 0.5, 'learning_rate': 0.01, 'max_depth': 5, 'n_estimators': 500}\n",
      "best auc score is : \n",
      "0.622228883220561\n",
      "[[0.4467681  0.5532319 ]\n",
      " [0.24501884 0.75498116]\n",
      " [0.5810098  0.4189902 ]\n",
      " ...\n",
      " [0.23011708 0.7698829 ]\n",
      " [0.3681572  0.6318428 ]\n",
      " [0.38988173 0.61011827]]\n",
      "accuracy on test data: \n",
      "0.5973496432212029\n",
      "[[2029 1393]\n",
      " [1372 2073]]\n",
      "              precision    recall  f1-score   support\n",
      "\n",
      "           0       0.60      0.59      0.59      3422\n",
      "           1       0.60      0.60      0.60      3445\n",
      "\n",
      "    accuracy                           0.60      6867\n",
      "   macro avg       0.60      0.60      0.60      6867\n",
      "weighted avg       0.60      0.60      0.60      6867\n",
      "\n",
      "feature importances are: \n",
      "[0.01750752 0.02117283 0.01817312 0.02058732 0.02685052 0.01812497\n",
      " 0.02367432 0.01982596 0.01885557 0.0224546  0.02178853 0.01759647\n",
      " 0.01361475 0.01836684 0.01449453 0.02182279 0.02105286 0.02044492\n",
      " 0.01957752 0.01808626 0.03014073 0.02074076 0.02400386 0.01796878\n",
      " 0.01851563 0.01906347 0.01825426 0.03892408 0.0256673  0.01962074\n",
      " 0.02354384 0.01847239 0.020872   0.0270723  0.02027316 0.02398752\n",
      " 0.03148451 0.03026846 0.02977333 0.04471648 0.01729184 0.02297035\n",
      " 0.01842642 0.02191946 0.02195612]\n",
      "best parametrs: \n",
      "{'colsample_bytree': 0.5, 'learning_rate': 0.01, 'max_depth': 5, 'n_estimators': 750}\n",
      "best auc score is : \n",
      "0.6311480607604145\n",
      "[[0.3845743  0.6154257 ]\n",
      " [0.4753387  0.5246613 ]\n",
      " [0.56359464 0.43640536]\n",
      " ...\n",
      " [0.510798   0.48920205]\n",
      " [0.42886782 0.5711322 ]\n",
      " [0.34637028 0.6536297 ]]\n",
      "accuracy on test data: \n",
      "0.583369739333042\n",
      "[[2026 1399]\n",
      " [1462 1980]]\n",
      "              precision    recall  f1-score   support\n",
      "\n",
      "           0       0.58      0.59      0.59      3425\n",
      "           1       0.59      0.58      0.58      3442\n",
      "\n",
      "    accuracy                           0.58      6867\n",
      "   macro avg       0.58      0.58      0.58      6867\n",
      "weighted avg       0.58      0.58      0.58      6867\n",
      "\n",
      "feature importances are: \n",
      "[0.01344873 0.01534508 0.01606264 0.02043106 0.01917909 0.01393694\n",
      " 0.01719556 0.01472813 0.01673144 0.01526938 0.01771546 0.02116541\n",
      " 0.01014327 0.01258391 0.01253207 0.01947804 0.02012419 0.0166977\n",
      " 0.01478211 0.01530406 0.02137246 0.02165049 0.02312904 0.01350322\n",
      " 0.01537303 0.01632986 0.01800645 0.06198981 0.02777391 0.01471419\n",
      " 0.02915922 0.01889173 0.01201839 0.03121779 0.01716325 0.02274167\n",
      " 0.04565267 0.06219689 0.03086094 0.09061158 0.01161825 0.02055817\n",
      " 0.01647722 0.01750453 0.01663087]\n",
      "best parametrs: \n",
      "{'colsample_bytree': 0.5, 'learning_rate': 0.01, 'max_depth': 3, 'n_estimators': 750}\n"
     ]
    },
    {
     "data": {
      "image/png": "[encoded data removed]",
      "text/plain": [
       "<Figure size 432x288 with 1 Axes>"
      ]
     },
     "metadata": {
      "needs_background": "light"
     },
     "output_type": "display_data"
    },
    {
     "data": {
      "image/png": "[encoded data removed]",
      "text/plain": [
       "<Figure size 432x288 with 1 Axes>"
      ]
     },
     "metadata": {
      "needs_background": "light"
     },
     "output_type": "display_data"
    },
    {
     "data": {
      "image/png": "[encoded data removed]",
      "text/plain": [
       "<Figure size 432x288 with 1 Axes>"
      ]
     },
     "metadata": {
      "needs_background": "light"
     },
     "output_type": "display_data"
    }
   ],
   "source": [
    "for train_ix, test_ix in cv_outer.split(X):\n",
    "\t# split data\n",
    "\tX_train, X_test = X[train_ix, :], X[test_ix, :]\n",
    "\ty_train, y_test = y[train_ix], y[test_ix]\n",
    "\t# configure the cross-validation procedure\n",
    "\tcv_inner = KFold(n_splits=3, shuffle=True, random_state=42)\n",
    "\t# define the model\n",
    "\tmodel = XGBClassifier(objective= 'binary:logistic', random_state=42)\n",
    "\t# define search space\n",
    "\tspace = dict()\n",
    "\tspace['n_estimators'] = [100, 250, 500, 750]\n",
    "\tspace['max_depth'] = [3, 5, 10, 15]\n",
    "\tspace['learning_rate'] = [0.3, 0.1, 0.01]\n",
    "\tspace['colsample_bytree'] = [0.5, 0.8]\n",
    "\t# define search\n",
    "\tsearch = GridSearchCV(model, space, scoring='roc_auc', cv=cv_inner, refit=True)\n",
    "\t# execute search\n",
    "\tresult = search.fit(X_train, y_train)\n",
    "\troc_auc_score = result.best_score_\n",
    "\tprint(\"best auc score is : \")\n",
    "\tprint(roc_auc_score)\n",
    "\tbest_auc.append(roc_auc_score)\n",
    "\t# get the best performing model fit on the whole training set\n",
    "\tbest_model = result.best_estimator_\n",
    "\t# evaluate model on the hold out dataset\n",
    "\tyhat = best_model.predict(X_test)\n",
    "\t# predict proba\n",
    "\ty_pred_proba = best_model.predict_proba(X_test)\n",
    "\tprint(y_pred_proba)    \n",
    "\tpredict_prob.append(y_pred_proba)\n",
    "\t# evaluate the model\n",
    "\tacc_on_test = accuracy_score(y_test, yhat)\n",
    "\tprint(\"accuracy on test data: \")\n",
    "\tprint(acc_on_test)\n",
    "\t# store the result\n",
    "\t# cm\n",
    "\tcm = confusion_matrix(y_test, yhat)\n",
    "\t# \n",
    "\tprint(cm)\n",
    "\t# class report\n",
    "\tclassif_report = classification_report(y_test, yhat)\n",
    "\tprint(classif_report)\n",
    "\t#\n",
    "\tRocCurveDisplay.from_estimator(best_model, X_test, y_test)\n",
    "\t# feature_importances_\n",
    "\tf_i = best_model.feature_importances_\n",
    "\tprint(\"feature importances are: \")\n",
    "\tprint(f_i)\n",
    "\tfeature_imp.append(f_i)\n",
    "\t# best parameters\n",
    "\tprint(\"best parametrs: \")    \n",
    "\tprint(result.best_params_)"
   ]
  },
  {
   "cell_type": "code",
   "execution_count": 24,
   "id": "6954b0c8",
   "metadata": {},
   "outputs": [
    {
     "data": {
      "text/plain": [
       "[0.6237654454505376, 0.622228883220561, 0.6311480607604145]"
      ]
     },
     "execution_count": 24,
     "metadata": {},
     "output_type": "execute_result"
    }
   ],
   "source": [
    "best_auc"
   ]
  },
  {
   "cell_type": "code",
   "execution_count": 25,
   "id": "c8db7c97",
   "metadata": {},
   "outputs": [
    {
     "data": {
      "text/plain": [
       "0.63"
      ]
     },
     "execution_count": 25,
     "metadata": {},
     "output_type": "execute_result"
    }
   ],
   "source": [
    "round(mean(best_auc),2)"
   ]
  },
  {
   "cell_type": "code",
   "execution_count": 26,
   "id": "9c79f0b2",
   "metadata": {},
   "outputs": [],
   "source": [
    "# sensitivity and specificity"
   ]
  },
  {
   "cell_type": "code",
   "execution_count": 27,
   "id": "89ee4b18",
   "metadata": {},
   "outputs": [],
   "source": [
    "# sensitivity for class '0' which is also specificity"
   ]
  },
  {
   "cell_type": "code",
   "execution_count": 28,
   "id": "775a7157",
   "metadata": {},
   "outputs": [],
   "source": [
    "sensitivity_class_zero = [0.58, 0.59, 0.59]"
   ]
  },
  {
   "cell_type": "code",
   "execution_count": 29,
   "id": "865da307",
   "metadata": {},
   "outputs": [
    {
     "name": "stdout",
     "output_type": "stream",
     "text": [
      "sensitivity of class zero:  0.59\n"
     ]
    }
   ],
   "source": [
    "print(\"sensitivity of class zero: \", round(mean(sensitivity_class_zero),2))"
   ]
  },
  {
   "cell_type": "code",
   "execution_count": 30,
   "id": "5d5cf13e",
   "metadata": {},
   "outputs": [],
   "source": [
    "# sensitivity for class one"
   ]
  },
  {
   "cell_type": "code",
   "execution_count": 31,
   "id": "9e7eefb2",
   "metadata": {},
   "outputs": [],
   "source": [
    "sensitivity_class_one = [0.61, 0.60, 0.58]"
   ]
  },
  {
   "cell_type": "code",
   "execution_count": 32,
   "id": "c6cc886d",
   "metadata": {},
   "outputs": [
    {
     "name": "stdout",
     "output_type": "stream",
     "text": [
      "sensitivity of class one:  0.6\n"
     ]
    }
   ],
   "source": [
    "print(\"sensitivity of class one: \", round(mean(sensitivity_class_one),2))"
   ]
  },
  {
   "cell_type": "code",
   "execution_count": 34,
   "id": "b56ac5cd",
   "metadata": {},
   "outputs": [],
   "source": [
    "# feature importance"
   ]
  },
  {
   "cell_type": "code",
   "execution_count": 35,
   "id": "5e4898b5",
   "metadata": {},
   "outputs": [
    {
     "data": {
      "text/plain": [
       "[array([0.01653096, 0.0183285 , 0.01847441, 0.01927463, 0.03002433,\n",
       "        0.02064048, 0.02188894, 0.02330538, 0.02005198, 0.01899012,\n",
       "        0.01898029, 0.01781117, 0.01227387, 0.01522137, 0.01289181,\n",
       "        0.01823665, 0.01925325, 0.0177654 , 0.01902098, 0.01958778,\n",
       "        0.02645231, 0.02052545, 0.02196207, 0.01962151, 0.02037017,\n",
       "        0.01856764, 0.01806872, 0.04797664, 0.02374527, 0.01985336,\n",
       "        0.02812595, 0.01871942, 0.01826578, 0.02924969, 0.0194541 ,\n",
       "        0.02119904, 0.02867502, 0.02119118, 0.03845265, 0.05713054,\n",
       "        0.01602264, 0.02131347, 0.01970584, 0.0222046 , 0.02459469],\n",
       "       dtype=float32),\n",
       " array([0.01750752, 0.02117283, 0.01817312, 0.02058732, 0.02685052,\n",
       "        0.01812497, 0.02367432, 0.01982596, 0.01885557, 0.0224546 ,\n",
       "        0.02178853, 0.01759647, 0.01361475, 0.01836684, 0.01449453,\n",
       "        0.02182279, 0.02105286, 0.02044492, 0.01957752, 0.01808626,\n",
       "        0.03014073, 0.02074076, 0.02400386, 0.01796878, 0.01851563,\n",
       "        0.01906347, 0.01825426, 0.03892408, 0.0256673 , 0.01962074,\n",
       "        0.02354384, 0.01847239, 0.020872  , 0.0270723 , 0.02027316,\n",
       "        0.02398752, 0.03148451, 0.03026846, 0.02977333, 0.04471648,\n",
       "        0.01729184, 0.02297035, 0.01842642, 0.02191946, 0.02195612],\n",
       "       dtype=float32),\n",
       " array([0.01344873, 0.01534508, 0.01606264, 0.02043106, 0.01917909,\n",
       "        0.01393694, 0.01719556, 0.01472813, 0.01673144, 0.01526938,\n",
       "        0.01771546, 0.02116541, 0.01014327, 0.01258391, 0.01253207,\n",
       "        0.01947804, 0.02012419, 0.0166977 , 0.01478211, 0.01530406,\n",
       "        0.02137246, 0.02165049, 0.02312904, 0.01350322, 0.01537303,\n",
       "        0.01632986, 0.01800645, 0.06198981, 0.02777391, 0.01471419,\n",
       "        0.02915922, 0.01889173, 0.01201839, 0.03121779, 0.01716325,\n",
       "        0.02274167, 0.04565267, 0.06219689, 0.03086094, 0.09061158,\n",
       "        0.01161825, 0.02055817, 0.01647722, 0.01750453, 0.01663087],\n",
       "       dtype=float32)]"
      ]
     },
     "execution_count": 35,
     "metadata": {},
     "output_type": "execute_result"
    }
   ],
   "source": [
    "feature_imp"
   ]
  },
  {
   "cell_type": "code",
   "execution_count": 36,
   "id": "cee49dd8",
   "metadata": {},
   "outputs": [],
   "source": [
    "df_FI_0 = pd.DataFrame(feature_imp[0], columns = ['first'])\n",
    "df_FI_1 = pd.DataFrame(feature_imp[1], columns = ['second'])\n",
    "df_FI_2 = pd.DataFrame(feature_imp[2], columns = ['third'])"
   ]
  },
  {
   "cell_type": "code",
   "execution_count": 37,
   "id": "52060f71",
   "metadata": {},
   "outputs": [],
   "source": [
    "df_final_FI = pd.concat([df_FI_0, df_FI_1, df_FI_2], axis = 1)"
   ]
  },
  {
   "cell_type": "code",
   "execution_count": 38,
   "id": "ec9e221a",
   "metadata": {},
   "outputs": [
    {
     "data": {
      "text/html": [
       "<div>\n",
       "<style scoped>\n",
       "    .dataframe tbody tr th:only-of-type {\n",
       "        vertical-align: middle;\n",
       "    }\n",
       "\n",
       "    .dataframe tbody tr th {\n",
       "        vertical-align: top;\n",
       "    }\n",
       "\n",
       "    .dataframe thead th {\n",
       "        text-align: right;\n",
       "    }\n",
       "</style>\n",
       "<table border=\"1\" class=\"dataframe\">\n",
       "  <thead>\n",
       "    <tr style=\"text-align: right;\">\n",
       "      <th></th>\n",
       "      <th>first</th>\n",
       "      <th>second</th>\n",
       "      <th>third</th>\n",
       "    </tr>\n",
       "  </thead>\n",
       "  <tbody>\n",
       "    <tr>\n",
       "      <th>0</th>\n",
       "      <td>0.016531</td>\n",
       "      <td>0.017508</td>\n",
       "      <td>0.013449</td>\n",
       "    </tr>\n",
       "    <tr>\n",
       "      <th>1</th>\n",
       "      <td>0.018328</td>\n",
       "      <td>0.021173</td>\n",
       "      <td>0.015345</td>\n",
       "    </tr>\n",
       "    <tr>\n",
       "      <th>2</th>\n",
       "      <td>0.018474</td>\n",
       "      <td>0.018173</td>\n",
       "      <td>0.016063</td>\n",
       "    </tr>\n",
       "    <tr>\n",
       "      <th>3</th>\n",
       "      <td>0.019275</td>\n",
       "      <td>0.020587</td>\n",
       "      <td>0.020431</td>\n",
       "    </tr>\n",
       "    <tr>\n",
       "      <th>4</th>\n",
       "      <td>0.030024</td>\n",
       "      <td>0.026851</td>\n",
       "      <td>0.019179</td>\n",
       "    </tr>\n",
       "    <tr>\n",
       "      <th>5</th>\n",
       "      <td>0.020640</td>\n",
       "      <td>0.018125</td>\n",
       "      <td>0.013937</td>\n",
       "    </tr>\n",
       "    <tr>\n",
       "      <th>6</th>\n",
       "      <td>0.021889</td>\n",
       "      <td>0.023674</td>\n",
       "      <td>0.017196</td>\n",
       "    </tr>\n",
       "    <tr>\n",
       "      <th>7</th>\n",
       "      <td>0.023305</td>\n",
       "      <td>0.019826</td>\n",
       "      <td>0.014728</td>\n",
       "    </tr>\n",
       "    <tr>\n",
       "      <th>8</th>\n",
       "      <td>0.020052</td>\n",
       "      <td>0.018856</td>\n",
       "      <td>0.016731</td>\n",
       "    </tr>\n",
       "    <tr>\n",
       "      <th>9</th>\n",
       "      <td>0.018990</td>\n",
       "      <td>0.022455</td>\n",
       "      <td>0.015269</td>\n",
       "    </tr>\n",
       "    <tr>\n",
       "      <th>10</th>\n",
       "      <td>0.018980</td>\n",
       "      <td>0.021789</td>\n",
       "      <td>0.017715</td>\n",
       "    </tr>\n",
       "    <tr>\n",
       "      <th>11</th>\n",
       "      <td>0.017811</td>\n",
       "      <td>0.017596</td>\n",
       "      <td>0.021165</td>\n",
       "    </tr>\n",
       "    <tr>\n",
       "      <th>12</th>\n",
       "      <td>0.012274</td>\n",
       "      <td>0.013615</td>\n",
       "      <td>0.010143</td>\n",
       "    </tr>\n",
       "    <tr>\n",
       "      <th>13</th>\n",
       "      <td>0.015221</td>\n",
       "      <td>0.018367</td>\n",
       "      <td>0.012584</td>\n",
       "    </tr>\n",
       "    <tr>\n",
       "      <th>14</th>\n",
       "      <td>0.012892</td>\n",
       "      <td>0.014495</td>\n",
       "      <td>0.012532</td>\n",
       "    </tr>\n",
       "    <tr>\n",
       "      <th>15</th>\n",
       "      <td>0.018237</td>\n",
       "      <td>0.021823</td>\n",
       "      <td>0.019478</td>\n",
       "    </tr>\n",
       "    <tr>\n",
       "      <th>16</th>\n",
       "      <td>0.019253</td>\n",
       "      <td>0.021053</td>\n",
       "      <td>0.020124</td>\n",
       "    </tr>\n",
       "    <tr>\n",
       "      <th>17</th>\n",
       "      <td>0.017765</td>\n",
       "      <td>0.020445</td>\n",
       "      <td>0.016698</td>\n",
       "    </tr>\n",
       "    <tr>\n",
       "      <th>18</th>\n",
       "      <td>0.019021</td>\n",
       "      <td>0.019578</td>\n",
       "      <td>0.014782</td>\n",
       "    </tr>\n",
       "    <tr>\n",
       "      <th>19</th>\n",
       "      <td>0.019588</td>\n",
       "      <td>0.018086</td>\n",
       "      <td>0.015304</td>\n",
       "    </tr>\n",
       "    <tr>\n",
       "      <th>20</th>\n",
       "      <td>0.026452</td>\n",
       "      <td>0.030141</td>\n",
       "      <td>0.021372</td>\n",
       "    </tr>\n",
       "    <tr>\n",
       "      <th>21</th>\n",
       "      <td>0.020525</td>\n",
       "      <td>0.020741</td>\n",
       "      <td>0.021650</td>\n",
       "    </tr>\n",
       "    <tr>\n",
       "      <th>22</th>\n",
       "      <td>0.021962</td>\n",
       "      <td>0.024004</td>\n",
       "      <td>0.023129</td>\n",
       "    </tr>\n",
       "    <tr>\n",
       "      <th>23</th>\n",
       "      <td>0.019622</td>\n",
       "      <td>0.017969</td>\n",
       "      <td>0.013503</td>\n",
       "    </tr>\n",
       "    <tr>\n",
       "      <th>24</th>\n",
       "      <td>0.020370</td>\n",
       "      <td>0.018516</td>\n",
       "      <td>0.015373</td>\n",
       "    </tr>\n",
       "    <tr>\n",
       "      <th>25</th>\n",
       "      <td>0.018568</td>\n",
       "      <td>0.019063</td>\n",
       "      <td>0.016330</td>\n",
       "    </tr>\n",
       "    <tr>\n",
       "      <th>26</th>\n",
       "      <td>0.018069</td>\n",
       "      <td>0.018254</td>\n",
       "      <td>0.018006</td>\n",
       "    </tr>\n",
       "    <tr>\n",
       "      <th>27</th>\n",
       "      <td>0.047977</td>\n",
       "      <td>0.038924</td>\n",
       "      <td>0.061990</td>\n",
       "    </tr>\n",
       "    <tr>\n",
       "      <th>28</th>\n",
       "      <td>0.023745</td>\n",
       "      <td>0.025667</td>\n",
       "      <td>0.027774</td>\n",
       "    </tr>\n",
       "    <tr>\n",
       "      <th>29</th>\n",
       "      <td>0.019853</td>\n",
       "      <td>0.019621</td>\n",
       "      <td>0.014714</td>\n",
       "    </tr>\n",
       "    <tr>\n",
       "      <th>30</th>\n",
       "      <td>0.028126</td>\n",
       "      <td>0.023544</td>\n",
       "      <td>0.029159</td>\n",
       "    </tr>\n",
       "    <tr>\n",
       "      <th>31</th>\n",
       "      <td>0.018719</td>\n",
       "      <td>0.018472</td>\n",
       "      <td>0.018892</td>\n",
       "    </tr>\n",
       "    <tr>\n",
       "      <th>32</th>\n",
       "      <td>0.018266</td>\n",
       "      <td>0.020872</td>\n",
       "      <td>0.012018</td>\n",
       "    </tr>\n",
       "    <tr>\n",
       "      <th>33</th>\n",
       "      <td>0.029250</td>\n",
       "      <td>0.027072</td>\n",
       "      <td>0.031218</td>\n",
       "    </tr>\n",
       "    <tr>\n",
       "      <th>34</th>\n",
       "      <td>0.019454</td>\n",
       "      <td>0.020273</td>\n",
       "      <td>0.017163</td>\n",
       "    </tr>\n",
       "    <tr>\n",
       "      <th>35</th>\n",
       "      <td>0.021199</td>\n",
       "      <td>0.023988</td>\n",
       "      <td>0.022742</td>\n",
       "    </tr>\n",
       "    <tr>\n",
       "      <th>36</th>\n",
       "      <td>0.028675</td>\n",
       "      <td>0.031485</td>\n",
       "      <td>0.045653</td>\n",
       "    </tr>\n",
       "    <tr>\n",
       "      <th>37</th>\n",
       "      <td>0.021191</td>\n",
       "      <td>0.030268</td>\n",
       "      <td>0.062197</td>\n",
       "    </tr>\n",
       "    <tr>\n",
       "      <th>38</th>\n",
       "      <td>0.038453</td>\n",
       "      <td>0.029773</td>\n",
       "      <td>0.030861</td>\n",
       "    </tr>\n",
       "    <tr>\n",
       "      <th>39</th>\n",
       "      <td>0.057131</td>\n",
       "      <td>0.044716</td>\n",
       "      <td>0.090612</td>\n",
       "    </tr>\n",
       "    <tr>\n",
       "      <th>40</th>\n",
       "      <td>0.016023</td>\n",
       "      <td>0.017292</td>\n",
       "      <td>0.011618</td>\n",
       "    </tr>\n",
       "    <tr>\n",
       "      <th>41</th>\n",
       "      <td>0.021313</td>\n",
       "      <td>0.022970</td>\n",
       "      <td>0.020558</td>\n",
       "    </tr>\n",
       "    <tr>\n",
       "      <th>42</th>\n",
       "      <td>0.019706</td>\n",
       "      <td>0.018426</td>\n",
       "      <td>0.016477</td>\n",
       "    </tr>\n",
       "    <tr>\n",
       "      <th>43</th>\n",
       "      <td>0.022205</td>\n",
       "      <td>0.021919</td>\n",
       "      <td>0.017505</td>\n",
       "    </tr>\n",
       "    <tr>\n",
       "      <th>44</th>\n",
       "      <td>0.024595</td>\n",
       "      <td>0.021956</td>\n",
       "      <td>0.016631</td>\n",
       "    </tr>\n",
       "  </tbody>\n",
       "</table>\n",
       "</div>"
      ],
      "text/plain": [
       "       first    second     third\n",
       "0   0.016531  0.017508  0.013449\n",
       "1   0.018328  0.021173  0.015345\n",
       "2   0.018474  0.018173  0.016063\n",
       "3   0.019275  0.020587  0.020431\n",
       "4   0.030024  0.026851  0.019179\n",
       "5   0.020640  0.018125  0.013937\n",
       "6   0.021889  0.023674  0.017196\n",
       "7   0.023305  0.019826  0.014728\n",
       "8   0.020052  0.018856  0.016731\n",
       "9   0.018990  0.022455  0.015269\n",
       "10  0.018980  0.021789  0.017715\n",
       "11  0.017811  0.017596  0.021165\n",
       "12  0.012274  0.013615  0.010143\n",
       "13  0.015221  0.018367  0.012584\n",
       "14  0.012892  0.014495  0.012532\n",
       "15  0.018237  0.021823  0.019478\n",
       "16  0.019253  0.021053  0.020124\n",
       "17  0.017765  0.020445  0.016698\n",
       "18  0.019021  0.019578  0.014782\n",
       "19  0.019588  0.018086  0.015304\n",
       "20  0.026452  0.030141  0.021372\n",
       "21  0.020525  0.020741  0.021650\n",
       "22  0.021962  0.024004  0.023129\n",
       "23  0.019622  0.017969  0.013503\n",
       "24  0.020370  0.018516  0.015373\n",
       "25  0.018568  0.019063  0.016330\n",
       "26  0.018069  0.018254  0.018006\n",
       "27  0.047977  0.038924  0.061990\n",
       "28  0.023745  0.025667  0.027774\n",
       "29  0.019853  0.019621  0.014714\n",
       "30  0.028126  0.023544  0.029159\n",
       "31  0.018719  0.018472  0.018892\n",
       "32  0.018266  0.020872  0.012018\n",
       "33  0.029250  0.027072  0.031218\n",
       "34  0.019454  0.020273  0.017163\n",
       "35  0.021199  0.023988  0.022742\n",
       "36  0.028675  0.031485  0.045653\n",
       "37  0.021191  0.030268  0.062197\n",
       "38  0.038453  0.029773  0.030861\n",
       "39  0.057131  0.044716  0.090612\n",
       "40  0.016023  0.017292  0.011618\n",
       "41  0.021313  0.022970  0.020558\n",
       "42  0.019706  0.018426  0.016477\n",
       "43  0.022205  0.021919  0.017505\n",
       "44  0.024595  0.021956  0.016631"
      ]
     },
     "execution_count": 38,
     "metadata": {},
     "output_type": "execute_result"
    }
   ],
   "source": [
    "df_final_FI"
   ]
  },
  {
   "cell_type": "code",
   "execution_count": 39,
   "id": "108269c2",
   "metadata": {},
   "outputs": [],
   "source": [
    "df_final_FI.to_csv(\"FI_values_cv_only_pw.csv\")"
   ]
  },
  {
   "cell_type": "code",
   "execution_count": 40,
   "id": "885d7e04",
   "metadata": {},
   "outputs": [],
   "source": [
    "# pred prob"
   ]
  },
  {
   "cell_type": "code",
   "execution_count": 41,
   "id": "5209f001",
   "metadata": {},
   "outputs": [],
   "source": [
    "df_predict_0 = pd.DataFrame(predict_prob[0], columns = ['first_0','first_1'])\n",
    "df_predict_1 = pd.DataFrame(predict_prob[1], columns = ['second_0','second_1'])\n",
    "df_predict_2 = pd.DataFrame(predict_prob[2], columns = ['third_0','third_1'])"
   ]
  },
  {
   "cell_type": "code",
   "execution_count": 42,
   "id": "cfdf62d3",
   "metadata": {},
   "outputs": [],
   "source": [
    "df_final_pred = pd.concat([df_predict_0, df_predict_1, df_predict_2], axis = 1)"
   ]
  },
  {
   "cell_type": "code",
   "execution_count": 43,
   "id": "3c6b15eb",
   "metadata": {},
   "outputs": [
    {
     "data": {
      "text/html": [
       "<div>\n",
       "<style scoped>\n",
       "    .dataframe tbody tr th:only-of-type {\n",
       "        vertical-align: middle;\n",
       "    }\n",
       "\n",
       "    .dataframe tbody tr th {\n",
       "        vertical-align: top;\n",
       "    }\n",
       "\n",
       "    .dataframe thead th {\n",
       "        text-align: right;\n",
       "    }\n",
       "</style>\n",
       "<table border=\"1\" class=\"dataframe\">\n",
       "  <thead>\n",
       "    <tr style=\"text-align: right;\">\n",
       "      <th></th>\n",
       "      <th>first_0</th>\n",
       "      <th>first_1</th>\n",
       "      <th>second_0</th>\n",
       "      <th>second_1</th>\n",
       "      <th>third_0</th>\n",
       "      <th>third_1</th>\n",
       "    </tr>\n",
       "  </thead>\n",
       "  <tbody>\n",
       "    <tr>\n",
       "      <th>0</th>\n",
       "      <td>0.507597</td>\n",
       "      <td>0.492403</td>\n",
       "      <td>0.446768</td>\n",
       "      <td>0.553232</td>\n",
       "      <td>0.384574</td>\n",
       "      <td>0.615426</td>\n",
       "    </tr>\n",
       "    <tr>\n",
       "      <th>1</th>\n",
       "      <td>0.637798</td>\n",
       "      <td>0.362202</td>\n",
       "      <td>0.245019</td>\n",
       "      <td>0.754981</td>\n",
       "      <td>0.475339</td>\n",
       "      <td>0.524661</td>\n",
       "    </tr>\n",
       "    <tr>\n",
       "      <th>2</th>\n",
       "      <td>0.593361</td>\n",
       "      <td>0.406639</td>\n",
       "      <td>0.581010</td>\n",
       "      <td>0.418990</td>\n",
       "      <td>0.563595</td>\n",
       "      <td>0.436405</td>\n",
       "    </tr>\n",
       "    <tr>\n",
       "      <th>3</th>\n",
       "      <td>0.424394</td>\n",
       "      <td>0.575606</td>\n",
       "      <td>0.440783</td>\n",
       "      <td>0.559217</td>\n",
       "      <td>0.655699</td>\n",
       "      <td>0.344301</td>\n",
       "    </tr>\n",
       "    <tr>\n",
       "      <th>4</th>\n",
       "      <td>0.370380</td>\n",
       "      <td>0.629620</td>\n",
       "      <td>0.348270</td>\n",
       "      <td>0.651730</td>\n",
       "      <td>0.609825</td>\n",
       "      <td>0.390175</td>\n",
       "    </tr>\n",
       "    <tr>\n",
       "      <th>...</th>\n",
       "      <td>...</td>\n",
       "      <td>...</td>\n",
       "      <td>...</td>\n",
       "      <td>...</td>\n",
       "      <td>...</td>\n",
       "      <td>...</td>\n",
       "    </tr>\n",
       "    <tr>\n",
       "      <th>6863</th>\n",
       "      <td>0.455733</td>\n",
       "      <td>0.544267</td>\n",
       "      <td>0.603584</td>\n",
       "      <td>0.396416</td>\n",
       "      <td>0.607797</td>\n",
       "      <td>0.392203</td>\n",
       "    </tr>\n",
       "    <tr>\n",
       "      <th>6864</th>\n",
       "      <td>0.317931</td>\n",
       "      <td>0.682069</td>\n",
       "      <td>0.230117</td>\n",
       "      <td>0.769883</td>\n",
       "      <td>0.510798</td>\n",
       "      <td>0.489202</td>\n",
       "    </tr>\n",
       "    <tr>\n",
       "      <th>6865</th>\n",
       "      <td>0.453552</td>\n",
       "      <td>0.546448</td>\n",
       "      <td>0.368157</td>\n",
       "      <td>0.631843</td>\n",
       "      <td>0.428868</td>\n",
       "      <td>0.571132</td>\n",
       "    </tr>\n",
       "    <tr>\n",
       "      <th>6866</th>\n",
       "      <td>0.293314</td>\n",
       "      <td>0.706686</td>\n",
       "      <td>0.389882</td>\n",
       "      <td>0.610118</td>\n",
       "      <td>0.346370</td>\n",
       "      <td>0.653630</td>\n",
       "    </tr>\n",
       "    <tr>\n",
       "      <th>6867</th>\n",
       "      <td>0.538145</td>\n",
       "      <td>0.461855</td>\n",
       "      <td>NaN</td>\n",
       "      <td>NaN</td>\n",
       "      <td>NaN</td>\n",
       "      <td>NaN</td>\n",
       "    </tr>\n",
       "  </tbody>\n",
       "</table>\n",
       "<p>6868 rows × 6 columns</p>\n",
       "</div>"
      ],
      "text/plain": [
       "       first_0   first_1  second_0  second_1   third_0   third_1\n",
       "0     0.507597  0.492403  0.446768  0.553232  0.384574  0.615426\n",
       "1     0.637798  0.362202  0.245019  0.754981  0.475339  0.524661\n",
       "2     0.593361  0.406639  0.581010  0.418990  0.563595  0.436405\n",
       "3     0.424394  0.575606  0.440783  0.559217  0.655699  0.344301\n",
       "4     0.370380  0.629620  0.348270  0.651730  0.609825  0.390175\n",
       "...        ...       ...       ...       ...       ...       ...\n",
       "6863  0.455733  0.544267  0.603584  0.396416  0.607797  0.392203\n",
       "6864  0.317931  0.682069  0.230117  0.769883  0.510798  0.489202\n",
       "6865  0.453552  0.546448  0.368157  0.631843  0.428868  0.571132\n",
       "6866  0.293314  0.706686  0.389882  0.610118  0.346370  0.653630\n",
       "6867  0.538145  0.461855       NaN       NaN       NaN       NaN\n",
       "\n",
       "[6868 rows x 6 columns]"
      ]
     },
     "execution_count": 43,
     "metadata": {},
     "output_type": "execute_result"
    }
   ],
   "source": [
    "df_final_pred"
   ]
  },
  {
   "cell_type": "code",
   "execution_count": 44,
   "id": "9d18c7a8",
   "metadata": {},
   "outputs": [],
   "source": [
    "df_final_pred.to_csv(\"prob_values_cv_only_pw.csv\")"
   ]
  },
  {
   "cell_type": "code",
   "execution_count": 2,
   "id": "7d77221b",
   "metadata": {},
   "outputs": [],
   "source": [
    "# Getting AUC from outer loop, average over 3 folds"
   ]
  },
  {
   "cell_type": "code",
   "execution_count": 3,
   "id": "e3c1c0ec",
   "metadata": {},
   "outputs": [],
   "source": [
    "auc_outer_loop = [0.64, 0.63, 0.62]"
   ]
  },
  {
   "cell_type": "code",
   "execution_count": 4,
   "id": "ff04f079",
   "metadata": {},
   "outputs": [],
   "source": [
    "auc_outer_loop_mean = round(mean(auc_outer_loop),2)"
   ]
  },
  {
   "cell_type": "code",
   "execution_count": 5,
   "id": "8d31ed28",
   "metadata": {},
   "outputs": [
    {
     "name": "stdout",
     "output_type": "stream",
     "text": [
      "0.63\n"
     ]
    }
   ],
   "source": [
    "print(auc_outer_loop_mean)"
   ]
  },
  {
   "cell_type": "code",
   "execution_count": null,
   "id": "599a191e",
   "metadata": {},
   "outputs": [],
   "source": []
  }
 ],
 "metadata": {
  "kernelspec": {
   "display_name": "Python 3 (ipykernel)",
   "language": "python",
   "name": "python3"
  },
  "language_info": {
   "codemirror_mode": {
    "name": "ipython",
    "version": 3
   },
   "file_extension": ".py",
   "mimetype": "text/x-python",
   "name": "python",
   "nbconvert_exporter": "python",
   "pygments_lexer": "ipython3",
   "version": "3.9.7"
  }
 },
 "nbformat": 4,
 "nbformat_minor": 5
}
