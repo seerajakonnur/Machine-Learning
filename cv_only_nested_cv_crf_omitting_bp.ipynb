{
 "cells": [
  {
   "cell_type": "code",
   "execution_count": 1,
   "id": "e4a53dab",
   "metadata": {},
   "outputs": [],
   "source": [
    "import numpy as np\n",
    "import pandas as pd\n",
    "import matplotlib.pyplot as plt\n",
    "\n",
    "from xgboost import XGBClassifier\n",
    "from xgboost import plot_importance\n",
    "from numpy import mean\n",
    "from numpy import std\n",
    "from sklearn.model_selection import KFold\n",
    "from sklearn.model_selection import GridSearchCV\n",
    "from sklearn.metrics import confusion_matrix, plot_confusion_matrix, classification_report\n",
    "from sklearn.metrics import accuracy_score\n",
    "from sklearn import metrics\n",
    "\n",
    "from sklearn import metrics\n",
    "from sklearn.metrics import RocCurveDisplay"
   ]
  },
  {
   "cell_type": "code",
   "execution_count": 2,
   "id": "0377350d",
   "metadata": {},
   "outputs": [],
   "source": [
    "data_x = pd.read_csv(\"cv_x_under.csv\")"
   ]
  },
  {
   "cell_type": "code",
   "execution_count": 3,
   "id": "ae48555d",
   "metadata": {},
   "outputs": [],
   "source": [
    "data_crf = data_x.iloc[:, 46:65]"
   ]
  },
  {
   "cell_type": "code",
   "execution_count": 4,
   "id": "94ef14ee",
   "metadata": {},
   "outputs": [
    {
     "data": {
      "text/html": [
       "<div>\n",
       "<style scoped>\n",
       "    .dataframe tbody tr th:only-of-type {\n",
       "        vertical-align: middle;\n",
       "    }\n",
       "\n",
       "    .dataframe tbody tr th {\n",
       "        vertical-align: top;\n",
       "    }\n",
       "\n",
       "    .dataframe thead th {\n",
       "        text-align: right;\n",
       "    }\n",
       "</style>\n",
       "<table border=\"1\" class=\"dataframe\">\n",
       "  <thead>\n",
       "    <tr style=\"text-align: right;\">\n",
       "      <th></th>\n",
       "      <th>Age when attended assessment centre</th>\n",
       "      <th>mean sbp</th>\n",
       "      <th>BMI</th>\n",
       "      <th>cholesterol HDL ratio</th>\n",
       "      <th>Diabetes diagnosed by doctor_No</th>\n",
       "      <th>Diabetes diagnosed by doctor_Prefer not to answer</th>\n",
       "      <th>Diabetes diagnosed by doctor_Yes</th>\n",
       "      <th>Smoking status_Current</th>\n",
       "      <th>Smoking status_Never</th>\n",
       "      <th>Smoking status_Prefer not to answer</th>\n",
       "      <th>Smoking status_Previous</th>\n",
       "      <th>Sex_Female</th>\n",
       "      <th>Sex_Male</th>\n",
       "      <th>Ethnic background_Asian</th>\n",
       "      <th>Ethnic background_Black</th>\n",
       "      <th>Ethnic background_other including mixed</th>\n",
       "      <th>Ethnic background_white/not recorded</th>\n",
       "      <th>bp medication_0.0</th>\n",
       "      <th>bp medication_1.0</th>\n",
       "    </tr>\n",
       "  </thead>\n",
       "  <tbody>\n",
       "    <tr>\n",
       "      <th>0</th>\n",
       "      <td>52.0</td>\n",
       "      <td>122.0</td>\n",
       "      <td>32.261224</td>\n",
       "      <td>5.681356</td>\n",
       "      <td>1</td>\n",
       "      <td>0</td>\n",
       "      <td>0</td>\n",
       "      <td>0</td>\n",
       "      <td>1</td>\n",
       "      <td>0</td>\n",
       "      <td>0</td>\n",
       "      <td>0</td>\n",
       "      <td>1</td>\n",
       "      <td>0</td>\n",
       "      <td>0</td>\n",
       "      <td>0</td>\n",
       "      <td>1</td>\n",
       "      <td>1</td>\n",
       "      <td>0</td>\n",
       "    </tr>\n",
       "    <tr>\n",
       "      <th>1</th>\n",
       "      <td>47.0</td>\n",
       "      <td>130.5</td>\n",
       "      <td>26.128611</td>\n",
       "      <td>3.328455</td>\n",
       "      <td>1</td>\n",
       "      <td>0</td>\n",
       "      <td>0</td>\n",
       "      <td>0</td>\n",
       "      <td>1</td>\n",
       "      <td>0</td>\n",
       "      <td>0</td>\n",
       "      <td>1</td>\n",
       "      <td>0</td>\n",
       "      <td>0</td>\n",
       "      <td>1</td>\n",
       "      <td>0</td>\n",
       "      <td>0</td>\n",
       "      <td>1</td>\n",
       "      <td>0</td>\n",
       "    </tr>\n",
       "    <tr>\n",
       "      <th>2</th>\n",
       "      <td>65.0</td>\n",
       "      <td>149.5</td>\n",
       "      <td>20.244898</td>\n",
       "      <td>3.383489</td>\n",
       "      <td>1</td>\n",
       "      <td>0</td>\n",
       "      <td>0</td>\n",
       "      <td>0</td>\n",
       "      <td>0</td>\n",
       "      <td>0</td>\n",
       "      <td>1</td>\n",
       "      <td>0</td>\n",
       "      <td>1</td>\n",
       "      <td>0</td>\n",
       "      <td>0</td>\n",
       "      <td>0</td>\n",
       "      <td>1</td>\n",
       "      <td>0</td>\n",
       "      <td>1</td>\n",
       "    </tr>\n",
       "    <tr>\n",
       "      <th>3</th>\n",
       "      <td>67.0</td>\n",
       "      <td>183.0</td>\n",
       "      <td>26.040662</td>\n",
       "      <td>4.417642</td>\n",
       "      <td>1</td>\n",
       "      <td>0</td>\n",
       "      <td>0</td>\n",
       "      <td>0</td>\n",
       "      <td>1</td>\n",
       "      <td>0</td>\n",
       "      <td>0</td>\n",
       "      <td>0</td>\n",
       "      <td>1</td>\n",
       "      <td>0</td>\n",
       "      <td>0</td>\n",
       "      <td>0</td>\n",
       "      <td>1</td>\n",
       "      <td>1</td>\n",
       "      <td>0</td>\n",
       "    </tr>\n",
       "    <tr>\n",
       "      <th>4</th>\n",
       "      <td>49.0</td>\n",
       "      <td>117.5</td>\n",
       "      <td>24.553571</td>\n",
       "      <td>3.866032</td>\n",
       "      <td>1</td>\n",
       "      <td>0</td>\n",
       "      <td>0</td>\n",
       "      <td>0</td>\n",
       "      <td>1</td>\n",
       "      <td>0</td>\n",
       "      <td>0</td>\n",
       "      <td>1</td>\n",
       "      <td>0</td>\n",
       "      <td>0</td>\n",
       "      <td>0</td>\n",
       "      <td>0</td>\n",
       "      <td>1</td>\n",
       "      <td>1</td>\n",
       "      <td>0</td>\n",
       "    </tr>\n",
       "  </tbody>\n",
       "</table>\n",
       "</div>"
      ],
      "text/plain": [
       "   Age when attended assessment centre  mean sbp        BMI  \\\n",
       "0                                 52.0     122.0  32.261224   \n",
       "1                                 47.0     130.5  26.128611   \n",
       "2                                 65.0     149.5  20.244898   \n",
       "3                                 67.0     183.0  26.040662   \n",
       "4                                 49.0     117.5  24.553571   \n",
       "\n",
       "   cholesterol HDL ratio  Diabetes diagnosed by doctor_No  \\\n",
       "0               5.681356                                1   \n",
       "1               3.328455                                1   \n",
       "2               3.383489                                1   \n",
       "3               4.417642                                1   \n",
       "4               3.866032                                1   \n",
       "\n",
       "   Diabetes diagnosed by doctor_Prefer not to answer  \\\n",
       "0                                                  0   \n",
       "1                                                  0   \n",
       "2                                                  0   \n",
       "3                                                  0   \n",
       "4                                                  0   \n",
       "\n",
       "   Diabetes diagnosed by doctor_Yes  Smoking status_Current  \\\n",
       "0                                 0                       0   \n",
       "1                                 0                       0   \n",
       "2                                 0                       0   \n",
       "3                                 0                       0   \n",
       "4                                 0                       0   \n",
       "\n",
       "   Smoking status_Never  Smoking status_Prefer not to answer  \\\n",
       "0                     1                                    0   \n",
       "1                     1                                    0   \n",
       "2                     0                                    0   \n",
       "3                     1                                    0   \n",
       "4                     1                                    0   \n",
       "\n",
       "   Smoking status_Previous  Sex_Female  Sex_Male  Ethnic background_Asian  \\\n",
       "0                        0           0         1                        0   \n",
       "1                        0           1         0                        0   \n",
       "2                        1           0         1                        0   \n",
       "3                        0           0         1                        0   \n",
       "4                        0           1         0                        0   \n",
       "\n",
       "   Ethnic background_Black  Ethnic background_other including mixed  \\\n",
       "0                        0                                        0   \n",
       "1                        1                                        0   \n",
       "2                        0                                        0   \n",
       "3                        0                                        0   \n",
       "4                        0                                        0   \n",
       "\n",
       "   Ethnic background_white/not recorded  bp medication_0.0  bp medication_1.0  \n",
       "0                                     1                  1                  0  \n",
       "1                                     0                  1                  0  \n",
       "2                                     1                  0                  1  \n",
       "3                                     1                  1                  0  \n",
       "4                                     1                  1                  0  "
      ]
     },
     "execution_count": 4,
     "metadata": {},
     "output_type": "execute_result"
    }
   ],
   "source": [
    "data_crf.head()"
   ]
  },
  {
   "cell_type": "code",
   "execution_count": 5,
   "id": "253193cc",
   "metadata": {},
   "outputs": [],
   "source": [
    "data_crf_omit_bp = data_crf.drop(['mean sbp', 'bp medication_0.0', 'bp medication_1.0'], axis=1)"
   ]
  },
  {
   "cell_type": "code",
   "execution_count": 6,
   "id": "b5441a94",
   "metadata": {},
   "outputs": [
    {
     "data": {
      "text/html": [
       "<div>\n",
       "<style scoped>\n",
       "    .dataframe tbody tr th:only-of-type {\n",
       "        vertical-align: middle;\n",
       "    }\n",
       "\n",
       "    .dataframe tbody tr th {\n",
       "        vertical-align: top;\n",
       "    }\n",
       "\n",
       "    .dataframe thead th {\n",
       "        text-align: right;\n",
       "    }\n",
       "</style>\n",
       "<table border=\"1\" class=\"dataframe\">\n",
       "  <thead>\n",
       "    <tr style=\"text-align: right;\">\n",
       "      <th></th>\n",
       "      <th>Age when attended assessment centre</th>\n",
       "      <th>BMI</th>\n",
       "      <th>cholesterol HDL ratio</th>\n",
       "      <th>Diabetes diagnosed by doctor_No</th>\n",
       "      <th>Diabetes diagnosed by doctor_Prefer not to answer</th>\n",
       "      <th>Diabetes diagnosed by doctor_Yes</th>\n",
       "      <th>Smoking status_Current</th>\n",
       "      <th>Smoking status_Never</th>\n",
       "      <th>Smoking status_Prefer not to answer</th>\n",
       "      <th>Smoking status_Previous</th>\n",
       "      <th>Sex_Female</th>\n",
       "      <th>Sex_Male</th>\n",
       "      <th>Ethnic background_Asian</th>\n",
       "      <th>Ethnic background_Black</th>\n",
       "      <th>Ethnic background_other including mixed</th>\n",
       "      <th>Ethnic background_white/not recorded</th>\n",
       "    </tr>\n",
       "  </thead>\n",
       "  <tbody>\n",
       "    <tr>\n",
       "      <th>0</th>\n",
       "      <td>52.0</td>\n",
       "      <td>32.261224</td>\n",
       "      <td>5.681356</td>\n",
       "      <td>1</td>\n",
       "      <td>0</td>\n",
       "      <td>0</td>\n",
       "      <td>0</td>\n",
       "      <td>1</td>\n",
       "      <td>0</td>\n",
       "      <td>0</td>\n",
       "      <td>0</td>\n",
       "      <td>1</td>\n",
       "      <td>0</td>\n",
       "      <td>0</td>\n",
       "      <td>0</td>\n",
       "      <td>1</td>\n",
       "    </tr>\n",
       "    <tr>\n",
       "      <th>1</th>\n",
       "      <td>47.0</td>\n",
       "      <td>26.128611</td>\n",
       "      <td>3.328455</td>\n",
       "      <td>1</td>\n",
       "      <td>0</td>\n",
       "      <td>0</td>\n",
       "      <td>0</td>\n",
       "      <td>1</td>\n",
       "      <td>0</td>\n",
       "      <td>0</td>\n",
       "      <td>1</td>\n",
       "      <td>0</td>\n",
       "      <td>0</td>\n",
       "      <td>1</td>\n",
       "      <td>0</td>\n",
       "      <td>0</td>\n",
       "    </tr>\n",
       "    <tr>\n",
       "      <th>2</th>\n",
       "      <td>65.0</td>\n",
       "      <td>20.244898</td>\n",
       "      <td>3.383489</td>\n",
       "      <td>1</td>\n",
       "      <td>0</td>\n",
       "      <td>0</td>\n",
       "      <td>0</td>\n",
       "      <td>0</td>\n",
       "      <td>0</td>\n",
       "      <td>1</td>\n",
       "      <td>0</td>\n",
       "      <td>1</td>\n",
       "      <td>0</td>\n",
       "      <td>0</td>\n",
       "      <td>0</td>\n",
       "      <td>1</td>\n",
       "    </tr>\n",
       "    <tr>\n",
       "      <th>3</th>\n",
       "      <td>67.0</td>\n",
       "      <td>26.040662</td>\n",
       "      <td>4.417642</td>\n",
       "      <td>1</td>\n",
       "      <td>0</td>\n",
       "      <td>0</td>\n",
       "      <td>0</td>\n",
       "      <td>1</td>\n",
       "      <td>0</td>\n",
       "      <td>0</td>\n",
       "      <td>0</td>\n",
       "      <td>1</td>\n",
       "      <td>0</td>\n",
       "      <td>0</td>\n",
       "      <td>0</td>\n",
       "      <td>1</td>\n",
       "    </tr>\n",
       "    <tr>\n",
       "      <th>4</th>\n",
       "      <td>49.0</td>\n",
       "      <td>24.553571</td>\n",
       "      <td>3.866032</td>\n",
       "      <td>1</td>\n",
       "      <td>0</td>\n",
       "      <td>0</td>\n",
       "      <td>0</td>\n",
       "      <td>1</td>\n",
       "      <td>0</td>\n",
       "      <td>0</td>\n",
       "      <td>1</td>\n",
       "      <td>0</td>\n",
       "      <td>0</td>\n",
       "      <td>0</td>\n",
       "      <td>0</td>\n",
       "      <td>1</td>\n",
       "    </tr>\n",
       "  </tbody>\n",
       "</table>\n",
       "</div>"
      ],
      "text/plain": [
       "   Age when attended assessment centre        BMI  cholesterol HDL ratio  \\\n",
       "0                                 52.0  32.261224               5.681356   \n",
       "1                                 47.0  26.128611               3.328455   \n",
       "2                                 65.0  20.244898               3.383489   \n",
       "3                                 67.0  26.040662               4.417642   \n",
       "4                                 49.0  24.553571               3.866032   \n",
       "\n",
       "   Diabetes diagnosed by doctor_No  \\\n",
       "0                                1   \n",
       "1                                1   \n",
       "2                                1   \n",
       "3                                1   \n",
       "4                                1   \n",
       "\n",
       "   Diabetes diagnosed by doctor_Prefer not to answer  \\\n",
       "0                                                  0   \n",
       "1                                                  0   \n",
       "2                                                  0   \n",
       "3                                                  0   \n",
       "4                                                  0   \n",
       "\n",
       "   Diabetes diagnosed by doctor_Yes  Smoking status_Current  \\\n",
       "0                                 0                       0   \n",
       "1                                 0                       0   \n",
       "2                                 0                       0   \n",
       "3                                 0                       0   \n",
       "4                                 0                       0   \n",
       "\n",
       "   Smoking status_Never  Smoking status_Prefer not to answer  \\\n",
       "0                     1                                    0   \n",
       "1                     1                                    0   \n",
       "2                     0                                    0   \n",
       "3                     1                                    0   \n",
       "4                     1                                    0   \n",
       "\n",
       "   Smoking status_Previous  Sex_Female  Sex_Male  Ethnic background_Asian  \\\n",
       "0                        0           0         1                        0   \n",
       "1                        0           1         0                        0   \n",
       "2                        1           0         1                        0   \n",
       "3                        0           0         1                        0   \n",
       "4                        0           1         0                        0   \n",
       "\n",
       "   Ethnic background_Black  Ethnic background_other including mixed  \\\n",
       "0                        0                                        0   \n",
       "1                        1                                        0   \n",
       "2                        0                                        0   \n",
       "3                        0                                        0   \n",
       "4                        0                                        0   \n",
       "\n",
       "   Ethnic background_white/not recorded  \n",
       "0                                     1  \n",
       "1                                     0  \n",
       "2                                     1  \n",
       "3                                     1  \n",
       "4                                     1  "
      ]
     },
     "execution_count": 6,
     "metadata": {},
     "output_type": "execute_result"
    }
   ],
   "source": [
    "data_crf_omit_bp.head()"
   ]
  },
  {
   "cell_type": "code",
   "execution_count": 7,
   "id": "3e75f8f2",
   "metadata": {},
   "outputs": [
    {
     "data": {
      "text/plain": [
       "(20602, 16)"
      ]
     },
     "execution_count": 7,
     "metadata": {},
     "output_type": "execute_result"
    }
   ],
   "source": [
    "data_crf_omit_bp.shape"
   ]
  },
  {
   "cell_type": "code",
   "execution_count": 8,
   "id": "b9338fb9",
   "metadata": {},
   "outputs": [
    {
     "data": {
      "text/plain": [
       "329632"
      ]
     },
     "execution_count": 8,
     "metadata": {},
     "output_type": "execute_result"
    }
   ],
   "source": [
    "data_crf_omit_bp.size"
   ]
  },
  {
   "cell_type": "code",
   "execution_count": 9,
   "id": "74a495cb",
   "metadata": {},
   "outputs": [],
   "source": [
    "X = data_crf_omit_bp.values"
   ]
  },
  {
   "cell_type": "code",
   "execution_count": 10,
   "id": "35c31274",
   "metadata": {},
   "outputs": [
    {
     "data": {
      "text/plain": [
       "(20602, 16)"
      ]
     },
     "execution_count": 10,
     "metadata": {},
     "output_type": "execute_result"
    }
   ],
   "source": [
    "X.shape"
   ]
  },
  {
   "cell_type": "code",
   "execution_count": 11,
   "id": "2c7eef21",
   "metadata": {},
   "outputs": [
    {
     "data": {
      "text/plain": [
       "329632"
      ]
     },
     "execution_count": 11,
     "metadata": {},
     "output_type": "execute_result"
    }
   ],
   "source": [
    "X.size"
   ]
  },
  {
   "cell_type": "code",
   "execution_count": 12,
   "id": "96748852",
   "metadata": {},
   "outputs": [],
   "source": [
    "# reading the output variable"
   ]
  },
  {
   "cell_type": "code",
   "execution_count": 13,
   "id": "6da1a8a6",
   "metadata": {},
   "outputs": [],
   "source": [
    "data_y = pd.read_csv(\"cv_y_under.csv\")"
   ]
  },
  {
   "cell_type": "code",
   "execution_count": 14,
   "id": "456ea9cf",
   "metadata": {},
   "outputs": [
    {
     "data": {
      "text/html": [
       "<div>\n",
       "<style scoped>\n",
       "    .dataframe tbody tr th:only-of-type {\n",
       "        vertical-align: middle;\n",
       "    }\n",
       "\n",
       "    .dataframe tbody tr th {\n",
       "        vertical-align: top;\n",
       "    }\n",
       "\n",
       "    .dataframe thead th {\n",
       "        text-align: right;\n",
       "    }\n",
       "</style>\n",
       "<table border=\"1\" class=\"dataframe\">\n",
       "  <thead>\n",
       "    <tr style=\"text-align: right;\">\n",
       "      <th></th>\n",
       "      <th>Unnamed: 0</th>\n",
       "      <th>cv</th>\n",
       "    </tr>\n",
       "  </thead>\n",
       "  <tbody>\n",
       "    <tr>\n",
       "      <th>0</th>\n",
       "      <td>0</td>\n",
       "      <td>0</td>\n",
       "    </tr>\n",
       "    <tr>\n",
       "      <th>1</th>\n",
       "      <td>1</td>\n",
       "      <td>0</td>\n",
       "    </tr>\n",
       "    <tr>\n",
       "      <th>2</th>\n",
       "      <td>2</td>\n",
       "      <td>0</td>\n",
       "    </tr>\n",
       "    <tr>\n",
       "      <th>3</th>\n",
       "      <td>3</td>\n",
       "      <td>0</td>\n",
       "    </tr>\n",
       "    <tr>\n",
       "      <th>4</th>\n",
       "      <td>4</td>\n",
       "      <td>0</td>\n",
       "    </tr>\n",
       "  </tbody>\n",
       "</table>\n",
       "</div>"
      ],
      "text/plain": [
       "   Unnamed: 0  cv\n",
       "0           0   0\n",
       "1           1   0\n",
       "2           2   0\n",
       "3           3   0\n",
       "4           4   0"
      ]
     },
     "execution_count": 14,
     "metadata": {},
     "output_type": "execute_result"
    }
   ],
   "source": [
    "data_y.head()"
   ]
  },
  {
   "cell_type": "code",
   "execution_count": 15,
   "id": "70022909",
   "metadata": {},
   "outputs": [],
   "source": [
    "data_y = data_y.drop(['Unnamed: 0'], axis=1)"
   ]
  },
  {
   "cell_type": "code",
   "execution_count": 16,
   "id": "86a74008",
   "metadata": {},
   "outputs": [
    {
     "data": {
      "text/plain": [
       "(20602, 1)"
      ]
     },
     "execution_count": 16,
     "metadata": {},
     "output_type": "execute_result"
    }
   ],
   "source": [
    "data_y.shape"
   ]
  },
  {
   "cell_type": "code",
   "execution_count": 17,
   "id": "f86e2e69",
   "metadata": {},
   "outputs": [],
   "source": [
    "y = data_y.values"
   ]
  },
  {
   "cell_type": "code",
   "execution_count": 18,
   "id": "5fdac13d",
   "metadata": {},
   "outputs": [
    {
     "data": {
      "text/plain": [
       "array([[0],\n",
       "       [0],\n",
       "       [0],\n",
       "       [0],\n",
       "       [0],\n",
       "       [0],\n",
       "       [0],\n",
       "       [0],\n",
       "       [0],\n",
       "       [0]], dtype=int64)"
      ]
     },
     "execution_count": 18,
     "metadata": {},
     "output_type": "execute_result"
    }
   ],
   "source": [
    "y[:10]"
   ]
  },
  {
   "cell_type": "code",
   "execution_count": 19,
   "id": "f90f063b",
   "metadata": {},
   "outputs": [
    {
     "data": {
      "text/plain": [
       "(20602, 1)"
      ]
     },
     "execution_count": 19,
     "metadata": {},
     "output_type": "execute_result"
    }
   ],
   "source": [
    "y.shape"
   ]
  },
  {
   "cell_type": "code",
   "execution_count": 20,
   "id": "babc59ea",
   "metadata": {},
   "outputs": [],
   "source": [
    "# nested cv"
   ]
  },
  {
   "cell_type": "code",
   "execution_count": 21,
   "id": "79fc1d9d",
   "metadata": {},
   "outputs": [],
   "source": [
    "cv_outer = KFold(n_splits=3, shuffle=True, random_state=42)\n",
    "\n",
    "best_auc = []\n",
    "predict_prob = []\n",
    "feature_imp = []"
   ]
  },
  {
   "cell_type": "code",
   "execution_count": 22,
   "id": "4b12735a",
   "metadata": {},
   "outputs": [
    {
     "name": "stdout",
     "output_type": "stream",
     "text": [
      "best auc score is : \n",
      "0.7223058501448518\n",
      "[[0.5211444  0.4788556 ]\n",
      " [0.37095785 0.62904215]\n",
      " [0.67094386 0.32905617]\n",
      " ...\n",
      " [0.24545854 0.75454146]\n",
      " [0.38434458 0.6156554 ]\n",
      " [0.35973912 0.6402609 ]]\n",
      "accuracy on test data: \n",
      "0.668462434478742\n",
      "[[2169 1285]\n",
      " [ 992 2422]]\n",
      "              precision    recall  f1-score   support\n",
      "\n",
      "           0       0.69      0.63      0.66      3454\n",
      "           1       0.65      0.71      0.68      3414\n",
      "\n",
      "    accuracy                           0.67      6868\n",
      "   macro avg       0.67      0.67      0.67      6868\n",
      "weighted avg       0.67      0.67      0.67      6868\n",
      "\n",
      "feature importances are: \n",
      "[0.2532972  0.05671928 0.04517934 0.07148855 0.00801946 0.09280127\n",
      " 0.04010584 0.03687556 0.00463945 0.01665932 0.14652395 0.19026606\n",
      " 0.00738453 0.00847853 0.0059212  0.01564041]\n",
      "best parametrs: \n",
      "{'colsample_bytree': 0.5, 'learning_rate': 0.01, 'max_depth': 3, 'n_estimators': 500}\n",
      "best auc score is : \n",
      "0.7224797909856645\n",
      "[[0.36215752 0.6378425 ]\n",
      " [0.4999447  0.5000553 ]\n",
      " [0.49390268 0.5060973 ]\n",
      " ...\n",
      " [0.26732355 0.73267645]\n",
      " [0.52163625 0.47836372]\n",
      " [0.6585274  0.34147263]]\n",
      "accuracy on test data: \n",
      "0.6625891946992865\n",
      "[[2091 1331]\n",
      " [ 986 2459]]\n",
      "              precision    recall  f1-score   support\n",
      "\n",
      "           0       0.68      0.61      0.64      3422\n",
      "           1       0.65      0.71      0.68      3445\n",
      "\n",
      "    accuracy                           0.66      6867\n",
      "   macro avg       0.66      0.66      0.66      6867\n",
      "weighted avg       0.66      0.66      0.66      6867\n",
      "\n",
      "feature importances are: \n",
      "[0.23587824 0.04833248 0.04520251 0.06879307 0.00469671 0.0709359\n",
      " 0.03500633 0.05730082 0.0076233  0.02032126 0.15881774 0.20027906\n",
      " 0.0202186  0.00656078 0.00473641 0.01529684]\n",
      "best parametrs: \n",
      "{'colsample_bytree': 0.5, 'learning_rate': 0.01, 'max_depth': 3, 'n_estimators': 750}\n",
      "best auc score is : \n",
      "0.7244213685452547\n",
      "[[0.8377578  0.16224217]\n",
      " [0.81518036 0.18481962]\n",
      " [0.77089256 0.22910745]\n",
      " ...\n",
      " [0.24711943 0.7528806 ]\n",
      " [0.33446372 0.6655363 ]\n",
      " [0.24251246 0.75748754]]\n",
      "accuracy on test data: \n",
      "0.6659385466724916\n",
      "[[2165 1260]\n",
      " [1034 2408]]\n",
      "              precision    recall  f1-score   support\n",
      "\n",
      "           0       0.68      0.63      0.65      3425\n",
      "           1       0.66      0.70      0.68      3442\n",
      "\n",
      "    accuracy                           0.67      6867\n",
      "   macro avg       0.67      0.67      0.67      6867\n",
      "weighted avg       0.67      0.67      0.67      6867\n",
      "\n",
      "feature importances are: \n",
      "[0.2240495  0.04895993 0.03269069 0.12344667 0.00946053 0.08597212\n",
      " 0.04376    0.03824705 0.00851993 0.01525738 0.15195462 0.18258028\n",
      " 0.01173634 0.00660011 0.00706123 0.00970362]\n",
      "best parametrs: \n",
      "{'colsample_bytree': 0.5, 'learning_rate': 0.01, 'max_depth': 3, 'n_estimators': 750}\n"
     ]
    },
    {
     "data": {
      "image/png": "[encoded data removed]",
      "text/plain": [
       "<Figure size 432x288 with 1 Axes>"
      ]
     },
     "metadata": {
      "needs_background": "light"
     },
     "output_type": "display_data"
    },
    {
     "data": {
      "image/png": "[encoded data removed]",
      "text/plain": [
       "<Figure size 432x288 with 1 Axes>"
      ]
     },
     "metadata": {
      "needs_background": "light"
     },
     "output_type": "display_data"
    },
    {
     "data": {
      "image/png": "[encoded data removed]",
      "text/plain": [
       "<Figure size 432x288 with 1 Axes>"
      ]
     },
     "metadata": {
      "needs_background": "light"
     },
     "output_type": "display_data"
    }
   ],
   "source": [
    "for train_ix, test_ix in cv_outer.split(X):\n",
    "\t# split data\n",
    "\tX_train, X_test = X[train_ix, :], X[test_ix, :]\n",
    "\ty_train, y_test = y[train_ix], y[test_ix]\n",
    "\t# configure the cross-validation procedure\n",
    "\tcv_inner = KFold(n_splits=3, shuffle=True, random_state=42)\n",
    "\t# define the model\n",
    "\tmodel = XGBClassifier(objective= 'binary:logistic', random_state=42)\n",
    "\t# define search space\n",
    "\tspace = dict()\n",
    "\tspace['n_estimators'] = [100, 250, 500, 750]\n",
    "\tspace['max_depth'] = [3, 5, 10, 15]\n",
    "\tspace['learning_rate'] = [0.3, 0.1, 0.01]\n",
    "\tspace['colsample_bytree'] = [0.5, 0.8]\n",
    "\t# define search\n",
    "\tsearch = GridSearchCV(model, space, scoring='roc_auc', cv=cv_inner, refit=True)\n",
    "\t# execute search\n",
    "\tresult = search.fit(X_train, y_train)\n",
    "\troc_auc_score = result.best_score_\n",
    "\tprint(\"best auc score is : \")\n",
    "\tprint(roc_auc_score)\n",
    "\tbest_auc.append(roc_auc_score)\n",
    "\t# get the best performing model fit on the whole training set\n",
    "\tbest_model = result.best_estimator_\n",
    "\t# evaluate model on the hold out dataset\n",
    "\tyhat = best_model.predict(X_test)\n",
    "\t# predict proba\n",
    "\ty_pred_proba = best_model.predict_proba(X_test)\n",
    "\tprint(y_pred_proba)    \n",
    "\tpredict_prob.append(y_pred_proba)\n",
    "\t# evaluate the model\n",
    "\tacc_on_test = accuracy_score(y_test, yhat)\n",
    "\tprint(\"accuracy on test data: \")\n",
    "\tprint(acc_on_test)\n",
    "\t# store the result\n",
    "\t# cm\n",
    "\tcm = confusion_matrix(y_test, yhat)\n",
    "\t# \n",
    "\tprint(cm)\n",
    "\t# class report\n",
    "\tclassif_report = classification_report(y_test, yhat)\n",
    "\tprint(classif_report)\n",
    "\t#\n",
    "\tRocCurveDisplay.from_estimator(best_model, X_test, y_test)\n",
    "\t# feature_importances_\n",
    "\tf_i = best_model.feature_importances_\n",
    "\tprint(\"feature importances are: \")\n",
    "\tprint(f_i)\n",
    "\tfeature_imp.append(f_i)\n",
    "\t# best parameters\n",
    "\tprint(\"best parametrs: \")    \n",
    "\tprint(result.best_params_)"
   ]
  },
  {
   "cell_type": "code",
   "execution_count": 23,
   "id": "58d89d0b",
   "metadata": {},
   "outputs": [
    {
     "data": {
      "text/plain": [
       "[0.7223058501448518, 0.7224797909856645, 0.7244213685452547]"
      ]
     },
     "execution_count": 23,
     "metadata": {},
     "output_type": "execute_result"
    }
   ],
   "source": [
    "best_auc"
   ]
  },
  {
   "cell_type": "code",
   "execution_count": 24,
   "id": "9dd7543c",
   "metadata": {},
   "outputs": [
    {
     "data": {
      "text/plain": [
       "0.72"
      ]
     },
     "execution_count": 24,
     "metadata": {},
     "output_type": "execute_result"
    }
   ],
   "source": [
    "round(mean(best_auc),2)"
   ]
  },
  {
   "cell_type": "code",
   "execution_count": 25,
   "id": "2e9137a4",
   "metadata": {},
   "outputs": [],
   "source": [
    "# sensitivity and specificity"
   ]
  },
  {
   "cell_type": "code",
   "execution_count": 26,
   "id": "4c5e2079",
   "metadata": {},
   "outputs": [],
   "source": [
    "# sensitivity for class '0' which is also specificity"
   ]
  },
  {
   "cell_type": "code",
   "execution_count": 27,
   "id": "ee51096a",
   "metadata": {},
   "outputs": [],
   "source": [
    "sensitivity_class_zero = [0.63, 0.61, 0.63]"
   ]
  },
  {
   "cell_type": "code",
   "execution_count": 28,
   "id": "a8314735",
   "metadata": {},
   "outputs": [
    {
     "name": "stdout",
     "output_type": "stream",
     "text": [
      "sensitivity of class zero:  0.62\n"
     ]
    }
   ],
   "source": [
    "print(\"sensitivity of class zero: \", round(mean(sensitivity_class_zero),2))"
   ]
  },
  {
   "cell_type": "code",
   "execution_count": 29,
   "id": "b53302e7",
   "metadata": {},
   "outputs": [],
   "source": [
    "# sensitivity for class one"
   ]
  },
  {
   "cell_type": "code",
   "execution_count": 30,
   "id": "97c4d440",
   "metadata": {},
   "outputs": [],
   "source": [
    "sensitivity_class_one = [0.71, 0.71, 0.70]"
   ]
  },
  {
   "cell_type": "code",
   "execution_count": 31,
   "id": "d5182b2c",
   "metadata": {},
   "outputs": [
    {
     "name": "stdout",
     "output_type": "stream",
     "text": [
      "sensitivity of class one:  0.71\n"
     ]
    }
   ],
   "source": [
    "print(\"sensitivity of class one: \", round(mean(sensitivity_class_one),2))"
   ]
  },
  {
   "cell_type": "code",
   "execution_count": 32,
   "id": "17b3f710",
   "metadata": {},
   "outputs": [],
   "source": [
    "# feature importance"
   ]
  },
  {
   "cell_type": "code",
   "execution_count": 33,
   "id": "8d9750b4",
   "metadata": {},
   "outputs": [
    {
     "data": {
      "text/plain": [
       "[array([0.2532972 , 0.05671928, 0.04517934, 0.07148855, 0.00801946,\n",
       "        0.09280127, 0.04010584, 0.03687556, 0.00463945, 0.01665932,\n",
       "        0.14652395, 0.19026606, 0.00738453, 0.00847853, 0.0059212 ,\n",
       "        0.01564041], dtype=float32),\n",
       " array([0.23587824, 0.04833248, 0.04520251, 0.06879307, 0.00469671,\n",
       "        0.0709359 , 0.03500633, 0.05730082, 0.0076233 , 0.02032126,\n",
       "        0.15881774, 0.20027906, 0.0202186 , 0.00656078, 0.00473641,\n",
       "        0.01529684], dtype=float32),\n",
       " array([0.2240495 , 0.04895993, 0.03269069, 0.12344667, 0.00946053,\n",
       "        0.08597212, 0.04376   , 0.03824705, 0.00851993, 0.01525738,\n",
       "        0.15195462, 0.18258028, 0.01173634, 0.00660011, 0.00706123,\n",
       "        0.00970362], dtype=float32)]"
      ]
     },
     "execution_count": 33,
     "metadata": {},
     "output_type": "execute_result"
    }
   ],
   "source": [
    "feature_imp"
   ]
  },
  {
   "cell_type": "code",
   "execution_count": 34,
   "id": "92bdd03c",
   "metadata": {},
   "outputs": [],
   "source": [
    "df_FI_0 = pd.DataFrame(feature_imp[0], columns = ['first'])\n",
    "df_FI_1 = pd.DataFrame(feature_imp[1], columns = ['second'])\n",
    "df_FI_2 = pd.DataFrame(feature_imp[2], columns = ['third'])"
   ]
  },
  {
   "cell_type": "code",
   "execution_count": 35,
   "id": "9e1b458a",
   "metadata": {},
   "outputs": [],
   "source": [
    "df_final_FI = pd.concat([df_FI_0, df_FI_1, df_FI_2], axis = 1)"
   ]
  },
  {
   "cell_type": "code",
   "execution_count": 36,
   "id": "ec11f959",
   "metadata": {},
   "outputs": [
    {
     "data": {
      "text/html": [
       "<div>\n",
       "<style scoped>\n",
       "    .dataframe tbody tr th:only-of-type {\n",
       "        vertical-align: middle;\n",
       "    }\n",
       "\n",
       "    .dataframe tbody tr th {\n",
       "        vertical-align: top;\n",
       "    }\n",
       "\n",
       "    .dataframe thead th {\n",
       "        text-align: right;\n",
       "    }\n",
       "</style>\n",
       "<table border=\"1\" class=\"dataframe\">\n",
       "  <thead>\n",
       "    <tr style=\"text-align: right;\">\n",
       "      <th></th>\n",
       "      <th>first</th>\n",
       "      <th>second</th>\n",
       "      <th>third</th>\n",
       "    </tr>\n",
       "  </thead>\n",
       "  <tbody>\n",
       "    <tr>\n",
       "      <th>0</th>\n",
       "      <td>0.253297</td>\n",
       "      <td>0.235878</td>\n",
       "      <td>0.224049</td>\n",
       "    </tr>\n",
       "    <tr>\n",
       "      <th>1</th>\n",
       "      <td>0.056719</td>\n",
       "      <td>0.048332</td>\n",
       "      <td>0.048960</td>\n",
       "    </tr>\n",
       "    <tr>\n",
       "      <th>2</th>\n",
       "      <td>0.045179</td>\n",
       "      <td>0.045203</td>\n",
       "      <td>0.032691</td>\n",
       "    </tr>\n",
       "    <tr>\n",
       "      <th>3</th>\n",
       "      <td>0.071489</td>\n",
       "      <td>0.068793</td>\n",
       "      <td>0.123447</td>\n",
       "    </tr>\n",
       "    <tr>\n",
       "      <th>4</th>\n",
       "      <td>0.008019</td>\n",
       "      <td>0.004697</td>\n",
       "      <td>0.009461</td>\n",
       "    </tr>\n",
       "    <tr>\n",
       "      <th>5</th>\n",
       "      <td>0.092801</td>\n",
       "      <td>0.070936</td>\n",
       "      <td>0.085972</td>\n",
       "    </tr>\n",
       "    <tr>\n",
       "      <th>6</th>\n",
       "      <td>0.040106</td>\n",
       "      <td>0.035006</td>\n",
       "      <td>0.043760</td>\n",
       "    </tr>\n",
       "    <tr>\n",
       "      <th>7</th>\n",
       "      <td>0.036876</td>\n",
       "      <td>0.057301</td>\n",
       "      <td>0.038247</td>\n",
       "    </tr>\n",
       "    <tr>\n",
       "      <th>8</th>\n",
       "      <td>0.004639</td>\n",
       "      <td>0.007623</td>\n",
       "      <td>0.008520</td>\n",
       "    </tr>\n",
       "    <tr>\n",
       "      <th>9</th>\n",
       "      <td>0.016659</td>\n",
       "      <td>0.020321</td>\n",
       "      <td>0.015257</td>\n",
       "    </tr>\n",
       "    <tr>\n",
       "      <th>10</th>\n",
       "      <td>0.146524</td>\n",
       "      <td>0.158818</td>\n",
       "      <td>0.151955</td>\n",
       "    </tr>\n",
       "    <tr>\n",
       "      <th>11</th>\n",
       "      <td>0.190266</td>\n",
       "      <td>0.200279</td>\n",
       "      <td>0.182580</td>\n",
       "    </tr>\n",
       "    <tr>\n",
       "      <th>12</th>\n",
       "      <td>0.007385</td>\n",
       "      <td>0.020219</td>\n",
       "      <td>0.011736</td>\n",
       "    </tr>\n",
       "    <tr>\n",
       "      <th>13</th>\n",
       "      <td>0.008479</td>\n",
       "      <td>0.006561</td>\n",
       "      <td>0.006600</td>\n",
       "    </tr>\n",
       "    <tr>\n",
       "      <th>14</th>\n",
       "      <td>0.005921</td>\n",
       "      <td>0.004736</td>\n",
       "      <td>0.007061</td>\n",
       "    </tr>\n",
       "    <tr>\n",
       "      <th>15</th>\n",
       "      <td>0.015640</td>\n",
       "      <td>0.015297</td>\n",
       "      <td>0.009704</td>\n",
       "    </tr>\n",
       "  </tbody>\n",
       "</table>\n",
       "</div>"
      ],
      "text/plain": [
       "       first    second     third\n",
       "0   0.253297  0.235878  0.224049\n",
       "1   0.056719  0.048332  0.048960\n",
       "2   0.045179  0.045203  0.032691\n",
       "3   0.071489  0.068793  0.123447\n",
       "4   0.008019  0.004697  0.009461\n",
       "5   0.092801  0.070936  0.085972\n",
       "6   0.040106  0.035006  0.043760\n",
       "7   0.036876  0.057301  0.038247\n",
       "8   0.004639  0.007623  0.008520\n",
       "9   0.016659  0.020321  0.015257\n",
       "10  0.146524  0.158818  0.151955\n",
       "11  0.190266  0.200279  0.182580\n",
       "12  0.007385  0.020219  0.011736\n",
       "13  0.008479  0.006561  0.006600\n",
       "14  0.005921  0.004736  0.007061\n",
       "15  0.015640  0.015297  0.009704"
      ]
     },
     "execution_count": 36,
     "metadata": {},
     "output_type": "execute_result"
    }
   ],
   "source": [
    "df_final_FI"
   ]
  },
  {
   "cell_type": "code",
   "execution_count": 37,
   "id": "0e83bcf4",
   "metadata": {},
   "outputs": [],
   "source": [
    "df_final_FI.to_csv(\"FI_values_cv_crf_omitting_bp.csv\")"
   ]
  },
  {
   "cell_type": "code",
   "execution_count": 38,
   "id": "0b2f4d7d",
   "metadata": {},
   "outputs": [],
   "source": [
    "# pred prob"
   ]
  },
  {
   "cell_type": "code",
   "execution_count": 39,
   "id": "72687639",
   "metadata": {},
   "outputs": [
    {
     "data": {
      "text/plain": [
       "array([[0.5211444 , 0.4788556 ],\n",
       "       [0.37095785, 0.62904215],\n",
       "       [0.67094386, 0.32905617],\n",
       "       ...,\n",
       "       [0.24545854, 0.75454146],\n",
       "       [0.38434458, 0.6156554 ],\n",
       "       [0.35973912, 0.6402609 ]], dtype=float32)"
      ]
     },
     "execution_count": 39,
     "metadata": {},
     "output_type": "execute_result"
    }
   ],
   "source": [
    "predict_prob[0]"
   ]
  },
  {
   "cell_type": "code",
   "execution_count": 40,
   "id": "7fe45815",
   "metadata": {},
   "outputs": [],
   "source": [
    "df_predict_0 = pd.DataFrame(predict_prob[0], columns = ['first_0','first_1'])\n",
    "df_predict_1 = pd.DataFrame(predict_prob[1], columns = ['second_0','second_1'])\n",
    "df_predict_2 = pd.DataFrame(predict_prob[2], columns = ['third_0','third_1'])"
   ]
  },
  {
   "cell_type": "code",
   "execution_count": 41,
   "id": "6710f508",
   "metadata": {},
   "outputs": [],
   "source": [
    "df_final_pred = pd.concat([df_predict_0, df_predict_1, df_predict_2], axis = 1)"
   ]
  },
  {
   "cell_type": "code",
   "execution_count": 42,
   "id": "15388cb1",
   "metadata": {},
   "outputs": [
    {
     "data": {
      "text/html": [
       "<div>\n",
       "<style scoped>\n",
       "    .dataframe tbody tr th:only-of-type {\n",
       "        vertical-align: middle;\n",
       "    }\n",
       "\n",
       "    .dataframe tbody tr th {\n",
       "        vertical-align: top;\n",
       "    }\n",
       "\n",
       "    .dataframe thead th {\n",
       "        text-align: right;\n",
       "    }\n",
       "</style>\n",
       "<table border=\"1\" class=\"dataframe\">\n",
       "  <thead>\n",
       "    <tr style=\"text-align: right;\">\n",
       "      <th></th>\n",
       "      <th>first_0</th>\n",
       "      <th>first_1</th>\n",
       "      <th>second_0</th>\n",
       "      <th>second_1</th>\n",
       "      <th>third_0</th>\n",
       "      <th>third_1</th>\n",
       "    </tr>\n",
       "  </thead>\n",
       "  <tbody>\n",
       "    <tr>\n",
       "      <th>0</th>\n",
       "      <td>0.521144</td>\n",
       "      <td>0.478856</td>\n",
       "      <td>0.362158</td>\n",
       "      <td>0.637842</td>\n",
       "      <td>0.837758</td>\n",
       "      <td>0.162242</td>\n",
       "    </tr>\n",
       "    <tr>\n",
       "      <th>1</th>\n",
       "      <td>0.370958</td>\n",
       "      <td>0.629042</td>\n",
       "      <td>0.499945</td>\n",
       "      <td>0.500055</td>\n",
       "      <td>0.815180</td>\n",
       "      <td>0.184820</td>\n",
       "    </tr>\n",
       "    <tr>\n",
       "      <th>2</th>\n",
       "      <td>0.670944</td>\n",
       "      <td>0.329056</td>\n",
       "      <td>0.493903</td>\n",
       "      <td>0.506097</td>\n",
       "      <td>0.770893</td>\n",
       "      <td>0.229107</td>\n",
       "    </tr>\n",
       "    <tr>\n",
       "      <th>3</th>\n",
       "      <td>0.441460</td>\n",
       "      <td>0.558540</td>\n",
       "      <td>0.615322</td>\n",
       "      <td>0.384678</td>\n",
       "      <td>0.880488</td>\n",
       "      <td>0.119512</td>\n",
       "    </tr>\n",
       "    <tr>\n",
       "      <th>4</th>\n",
       "      <td>0.249285</td>\n",
       "      <td>0.750715</td>\n",
       "      <td>0.562321</td>\n",
       "      <td>0.437679</td>\n",
       "      <td>0.653745</td>\n",
       "      <td>0.346255</td>\n",
       "    </tr>\n",
       "    <tr>\n",
       "      <th>...</th>\n",
       "      <td>...</td>\n",
       "      <td>...</td>\n",
       "      <td>...</td>\n",
       "      <td>...</td>\n",
       "      <td>...</td>\n",
       "      <td>...</td>\n",
       "    </tr>\n",
       "    <tr>\n",
       "      <th>6863</th>\n",
       "      <td>0.500705</td>\n",
       "      <td>0.499295</td>\n",
       "      <td>0.319323</td>\n",
       "      <td>0.680677</td>\n",
       "      <td>0.400230</td>\n",
       "      <td>0.599770</td>\n",
       "    </tr>\n",
       "    <tr>\n",
       "      <th>6864</th>\n",
       "      <td>0.373893</td>\n",
       "      <td>0.626107</td>\n",
       "      <td>0.267324</td>\n",
       "      <td>0.732676</td>\n",
       "      <td>0.247119</td>\n",
       "      <td>0.752881</td>\n",
       "    </tr>\n",
       "    <tr>\n",
       "      <th>6865</th>\n",
       "      <td>0.245459</td>\n",
       "      <td>0.754541</td>\n",
       "      <td>0.521636</td>\n",
       "      <td>0.478364</td>\n",
       "      <td>0.334464</td>\n",
       "      <td>0.665536</td>\n",
       "    </tr>\n",
       "    <tr>\n",
       "      <th>6866</th>\n",
       "      <td>0.384345</td>\n",
       "      <td>0.615655</td>\n",
       "      <td>0.658527</td>\n",
       "      <td>0.341473</td>\n",
       "      <td>0.242512</td>\n",
       "      <td>0.757488</td>\n",
       "    </tr>\n",
       "    <tr>\n",
       "      <th>6867</th>\n",
       "      <td>0.359739</td>\n",
       "      <td>0.640261</td>\n",
       "      <td>NaN</td>\n",
       "      <td>NaN</td>\n",
       "      <td>NaN</td>\n",
       "      <td>NaN</td>\n",
       "    </tr>\n",
       "  </tbody>\n",
       "</table>\n",
       "<p>6868 rows × 6 columns</p>\n",
       "</div>"
      ],
      "text/plain": [
       "       first_0   first_1  second_0  second_1   third_0   third_1\n",
       "0     0.521144  0.478856  0.362158  0.637842  0.837758  0.162242\n",
       "1     0.370958  0.629042  0.499945  0.500055  0.815180  0.184820\n",
       "2     0.670944  0.329056  0.493903  0.506097  0.770893  0.229107\n",
       "3     0.441460  0.558540  0.615322  0.384678  0.880488  0.119512\n",
       "4     0.249285  0.750715  0.562321  0.437679  0.653745  0.346255\n",
       "...        ...       ...       ...       ...       ...       ...\n",
       "6863  0.500705  0.499295  0.319323  0.680677  0.400230  0.599770\n",
       "6864  0.373893  0.626107  0.267324  0.732676  0.247119  0.752881\n",
       "6865  0.245459  0.754541  0.521636  0.478364  0.334464  0.665536\n",
       "6866  0.384345  0.615655  0.658527  0.341473  0.242512  0.757488\n",
       "6867  0.359739  0.640261       NaN       NaN       NaN       NaN\n",
       "\n",
       "[6868 rows x 6 columns]"
      ]
     },
     "execution_count": 42,
     "metadata": {},
     "output_type": "execute_result"
    }
   ],
   "source": [
    "df_final_pred"
   ]
  },
  {
   "cell_type": "code",
   "execution_count": 43,
   "id": "f4d2461f",
   "metadata": {},
   "outputs": [],
   "source": [
    "df_final_pred.to_csv(\"prob_values_cv_crf_omitting_bp.csv\")"
   ]
  },
  {
   "cell_type": "code",
   "execution_count": 2,
   "id": "3cc52398",
   "metadata": {},
   "outputs": [],
   "source": [
    "# Getting AUC from outer loop, average over 3 folds"
   ]
  },
  {
   "cell_type": "code",
   "execution_count": 3,
   "id": "a6a75205",
   "metadata": {},
   "outputs": [],
   "source": [
    "auc_outer_loop = [0.73, 0.72, 0.72]"
   ]
  },
  {
   "cell_type": "code",
   "execution_count": 4,
   "id": "4ea9c8eb",
   "metadata": {},
   "outputs": [],
   "source": [
    "auc_outer_loop_mean = round(mean(auc_outer_loop),2)"
   ]
  },
  {
   "cell_type": "code",
   "execution_count": 5,
   "id": "8b9c3822",
   "metadata": {},
   "outputs": [
    {
     "name": "stdout",
     "output_type": "stream",
     "text": [
      "0.72\n"
     ]
    }
   ],
   "source": [
    "print(auc_outer_loop_mean)"
   ]
  },
  {
   "cell_type": "code",
   "execution_count": null,
   "id": "1a3e2d3f",
   "metadata": {},
   "outputs": [],
   "source": []
  }
 ],
 "metadata": {
  "kernelspec": {
   "display_name": "Python 3 (ipykernel)",
   "language": "python",
   "name": "python3"
  },
  "language_info": {
   "codemirror_mode": {
    "name": "ipython",
    "version": 3
   },
   "file_extension": ".py",
   "mimetype": "text/x-python",
   "name": "python",
   "nbconvert_exporter": "python",
   "pygments_lexer": "ipython3",
   "version": "3.9.7"
  }
 },
 "nbformat": 4,
 "nbformat_minor": 5
}
