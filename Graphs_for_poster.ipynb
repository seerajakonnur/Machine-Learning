{
 "cells": [
  {
   "cell_type": "code",
   "execution_count": 1,
   "id": "94c14b29",
   "metadata": {},
   "outputs": [],
   "source": [
    "import numpy as np\n",
    "import pandas as pd\n",
    "import matplotlib.pyplot as plt"
   ]
  },
  {
   "cell_type": "code",
   "execution_count": 2,
   "id": "453ac10d",
   "metadata": {},
   "outputs": [],
   "source": [
    "# for 'CV'"
   ]
  },
  {
   "cell_type": "code",
   "execution_count": 6,
   "id": "189c472c",
   "metadata": {},
   "outputs": [],
   "source": [
    "# only crf"
   ]
  },
  {
   "cell_type": "code",
   "execution_count": 3,
   "id": "a6a1e923",
   "metadata": {},
   "outputs": [],
   "source": [
    "cv_auc_only_crf = 0.73"
   ]
  },
  {
   "cell_type": "code",
   "execution_count": 4,
   "id": "1fe3825b",
   "metadata": {},
   "outputs": [],
   "source": [
    "cv_specificity_only_crf = 0.62"
   ]
  },
  {
   "cell_type": "code",
   "execution_count": 5,
   "id": "2c71a2df",
   "metadata": {},
   "outputs": [],
   "source": [
    "cv_sensitivity_only_crf = 0.72"
   ]
  },
  {
   "cell_type": "code",
   "execution_count": 7,
   "id": "fe364f94",
   "metadata": {},
   "outputs": [],
   "source": [
    "# crf_omit_bp"
   ]
  },
  {
   "cell_type": "code",
   "execution_count": 8,
   "id": "fdb79eff",
   "metadata": {},
   "outputs": [],
   "source": [
    "cv_auc_crf_omit_bp = 0.72"
   ]
  },
  {
   "cell_type": "code",
   "execution_count": 9,
   "id": "96101eb5",
   "metadata": {},
   "outputs": [],
   "source": [
    "cv_specificity_crf_omit_bp = 0.62"
   ]
  },
  {
   "cell_type": "code",
   "execution_count": 10,
   "id": "834eeca1",
   "metadata": {},
   "outputs": [],
   "source": [
    "cv_sensitivity_crf_omit_bp = 0.71"
   ]
  },
  {
   "cell_type": "code",
   "execution_count": 11,
   "id": "84f65646",
   "metadata": {},
   "outputs": [],
   "source": [
    "# only pw"
   ]
  },
  {
   "cell_type": "code",
   "execution_count": 12,
   "id": "9b67c29e",
   "metadata": {},
   "outputs": [],
   "source": [
    "cv_auc_only_pw = 0.63"
   ]
  },
  {
   "cell_type": "code",
   "execution_count": 17,
   "id": "6b9090f9",
   "metadata": {},
   "outputs": [],
   "source": [
    "cv_specificity_only_pw = 0.59"
   ]
  },
  {
   "cell_type": "code",
   "execution_count": 18,
   "id": "1bcfd266",
   "metadata": {},
   "outputs": [],
   "source": [
    "cv_sensitivity_only_pw = 0.6"
   ]
  },
  {
   "cell_type": "code",
   "execution_count": 15,
   "id": "c63c9bac",
   "metadata": {},
   "outputs": [],
   "source": [
    "# crf plus pw"
   ]
  },
  {
   "cell_type": "code",
   "execution_count": 16,
   "id": "c7213acd",
   "metadata": {},
   "outputs": [],
   "source": [
    "cv_auc_crf_plus_pw = 0.73"
   ]
  },
  {
   "cell_type": "code",
   "execution_count": 19,
   "id": "7a15a92d",
   "metadata": {},
   "outputs": [],
   "source": [
    "cv_specificity_crf_plus_pw = 0.63"
   ]
  },
  {
   "cell_type": "code",
   "execution_count": 20,
   "id": "c2b4486b",
   "metadata": {},
   "outputs": [],
   "source": [
    "cv_sensitivity_crf_plus_pw = 0.71"
   ]
  },
  {
   "cell_type": "code",
   "execution_count": 21,
   "id": "04742159",
   "metadata": {},
   "outputs": [],
   "source": [
    "# crf plus pw omit bp"
   ]
  },
  {
   "cell_type": "code",
   "execution_count": 22,
   "id": "49a6f026",
   "metadata": {},
   "outputs": [],
   "source": [
    "cv_auc_crf_pw_omit_bp = 0.73"
   ]
  },
  {
   "cell_type": "code",
   "execution_count": 23,
   "id": "be730bbf",
   "metadata": {},
   "outputs": [],
   "source": [
    "cv_specificity_crf_pw_omit_bp = 0.63"
   ]
  },
  {
   "cell_type": "code",
   "execution_count": 24,
   "id": "031537d9",
   "metadata": {},
   "outputs": [],
   "source": [
    "cv_sensitivity_crf_pw_omit_bp = 0.71"
   ]
  },
  {
   "cell_type": "code",
   "execution_count": 47,
   "id": "810f9108",
   "metadata": {},
   "outputs": [],
   "source": [
    "X1 = ['CRF','CRF-BP','PW','CRF+PW', 'CRF-BP+PW']"
   ]
  },
  {
   "cell_type": "code",
   "execution_count": 48,
   "id": "83819d0d",
   "metadata": {},
   "outputs": [],
   "source": [
    "auc_cv = [cv_auc_only_crf, cv_auc_crf_omit_bp, cv_auc_only_pw, cv_auc_crf_plus_pw, cv_auc_crf_pw_omit_bp]"
   ]
  },
  {
   "cell_type": "code",
   "execution_count": 49,
   "id": "add4af4f",
   "metadata": {},
   "outputs": [],
   "source": [
    "specificity_cv = [cv_specificity_only_crf, cv_specificity_crf_omit_bp, cv_specificity_only_pw, cv_specificity_crf_plus_pw, cv_specificity_crf_pw_omit_bp]"
   ]
  },
  {
   "cell_type": "code",
   "execution_count": 50,
   "id": "1ce0bb4d",
   "metadata": {},
   "outputs": [],
   "source": [
    "sensitivity_cv = [cv_sensitivity_only_crf, cv_sensitivity_crf_omit_bp, cv_sensitivity_only_pw, cv_sensitivity_crf_plus_pw, cv_sensitivity_crf_pw_omit_bp]"
   ]
  },
  {
   "cell_type": "code",
   "execution_count": 51,
   "id": "057a4350",
   "metadata": {},
   "outputs": [],
   "source": [
    "X1_axis = np.arange(len(X1))"
   ]
  },
  {
   "cell_type": "code",
   "execution_count": 52,
   "id": "a2119daf",
   "metadata": {},
   "outputs": [
    {
     "data": {
      "text/plain": [
       "array([0, 1, 2, 3, 4])"
      ]
     },
     "execution_count": 52,
     "metadata": {},
     "output_type": "execute_result"
    }
   ],
   "source": [
    "X1_axis"
   ]
  },
  {
   "cell_type": "code",
   "execution_count": 53,
   "id": "ec9b37c2",
   "metadata": {},
   "outputs": [
    {
     "data": {
      "image/png": "[encoded data removed]",
      "text/plain": [
       "<Figure size 432x288 with 1 Axes>"
      ]
     },
     "metadata": {
      "needs_background": "light"
     },
     "output_type": "display_data"
    }
   ],
   "source": [
    "plt.bar(X1_axis - 0.25 , auc_cv , color ='c', width = 0.25, label = 'AUC')\n",
    "plt.bar(X1_axis + 0.00 , sensitivity_cv,  color ='red', width = 0.25, label = 'Sensitivity')\n",
    "plt.bar(X1_axis + 0.25 , specificity_cv, color ='m', width = 0.25, label = 'Specificity')\n",
    "\n",
    "plt.xticks(X1_axis, X1)\n",
    "plt.xlabel(\"Features considered\")\n",
    "plt.ylabel(\"AUC, Sensitivity & Specificity\")\n",
    "plt.title(\"AUC, Sensitivity & Specificity for CVD\")\n",
    "plt.ylim(0, 1)\n",
    "plt.legend()\n",
    "plt.show()"
   ]
  },
  {
   "cell_type": "code",
   "execution_count": null,
   "id": "3ec788c3",
   "metadata": {},
   "outputs": [],
   "source": []
  }
 ],
 "metadata": {
  "kernelspec": {
   "display_name": "Python 3 (ipykernel)",
   "language": "python",
   "name": "python3"
  },
  "language_info": {
   "codemirror_mode": {
    "name": "ipython",
    "version": 3
   },
   "file_extension": ".py",
   "mimetype": "text/x-python",
   "name": "python",
   "nbconvert_exporter": "python",
   "pygments_lexer": "ipython3",
   "version": "3.9.7"
  }
 },
 "nbformat": 4,
 "nbformat_minor": 5
}
